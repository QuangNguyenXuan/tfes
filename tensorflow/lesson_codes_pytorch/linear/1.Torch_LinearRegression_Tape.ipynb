{
 "cells": [
  {
   "cell_type": "code",
   "execution_count": 4,
   "id": "d502a3a7",
   "metadata": {
    "colab": {
     "base_uri": "https://localhost:8080/"
    },
    "executionInfo": {
     "elapsed": 2875,
     "status": "ok",
     "timestamp": 1666950150384,
     "user": {
      "displayName": "Tiềm Đình",
      "userId": "05726324356439983752"
     },
     "user_tz": -420
    },
    "id": "d502a3a7",
    "outputId": "6e9f55a1-8633-4198-f316-3cdb70c89693"
   },
   "outputs": [
    {
     "name": "stdout",
     "output_type": "stream",
     "text": [
      "X\n",
      " tensor([[6.7000],\n",
      "        [4.6000],\n",
      "        [3.5000],\n",
      "        [5.5000]], dtype=torch.float64)\n",
      "y\n",
      " tensor([[9.1000],\n",
      "        [5.9000],\n",
      "        [4.6000],\n",
      "        [6.7000]], dtype=torch.float64)\n"
     ]
    }
   ],
   "source": [
    "import numpy as np\n",
    "import torch\n",
    "\n",
    "### Data preparation\n",
    "data = np.genfromtxt('data.csv', delimiter=',')\n",
    "X = torch.from_numpy(data[:,0:1])\n",
    "y = torch.from_numpy(data[:,1:])\n",
    "\n",
    "print('X\\n', X)\n",
    "print('y\\n', y)"
   ]
  },
  {
   "cell_type": "code",
   "execution_count": 2,
   "id": "A_XjjJm3-E3E",
   "metadata": {
    "colab": {
     "base_uri": "https://localhost:8080/"
    },
    "executionInfo": {
     "elapsed": 2368,
     "status": "ok",
     "timestamp": 1666950128710,
     "user": {
      "displayName": "Tiềm Đình",
      "userId": "05726324356439983752"
     },
     "user_tz": -420
    },
    "id": "A_XjjJm3-E3E",
    "outputId": "2cafe423-f2c1-4e06-df07-98090d8d7bff"
   },
   "outputs": [
    {
     "name": "stdout",
     "output_type": "stream",
     "text": [
      "/usr/local/lib/python3.7/dist-packages/gdown/cli.py:131: FutureWarning: Option `--id` was deprecated in version 4.3.1 and will be removed in 5.0. You don't need to pass it anymore to use a file ID.\n",
      "  category=FutureWarning,\n",
      "Downloading...\n",
      "From: https://drive.google.com/uc?id=1O8q12g0VnWlu3ZZJvJdL1siWJqgpmzsI\n",
      "To: /content/data.csv\n",
      "100% 31.0/31.0 [00:00<00:00, 41.0kB/s]\n"
     ]
    }
   ],
   "source": [
    "# Tải file data\n",
    "!gdown --id 1O8q12g0VnWlu3ZZJvJdL1siWJqgpmzsI"
   ]
  },
  {
   "cell_type": "code",
   "execution_count": null,
   "id": "93422714",
   "metadata": {
    "id": "93422714"
   },
   "outputs": [],
   "source": []
  },
  {
   "cell_type": "markdown",
   "id": "fd7b7308",
   "metadata": {
    "id": "fd7b7308"
   },
   "source": [
    "# Tracing - One sample"
   ]
  },
  {
   "cell_type": "code",
   "execution_count": 22,
   "id": "2a0679ba",
   "metadata": {
    "executionInfo": {
     "elapsed": 4,
     "status": "ok",
     "timestamp": 1666951379873,
     "user": {
      "displayName": "Tiềm Đình",
      "userId": "05726324356439983752"
     },
     "user_tz": -420
    },
    "id": "2a0679ba"
   },
   "outputs": [],
   "source": [
    "# theta\n",
    "W = torch.tensor([-0.34], requires_grad=True)\n",
    "b = torch.tensor([0.04], requires_grad=True)\n",
    "\n",
    "# forward\n",
    "def compute_output(X, W, b):\n",
    "    return W*X + b\n",
    "\n",
    "# some params\n",
    "lr = 0.01\n",
    "epochs = 1"
   ]
  },
  {
   "cell_type": "code",
   "execution_count": 23,
   "id": "2c637fbe",
   "metadata": {
    "colab": {
     "base_uri": "https://localhost:8080/"
    },
    "executionInfo": {
     "elapsed": 4,
     "status": "ok",
     "timestamp": 1666951381442,
     "user": {
      "displayName": "Tiềm Đình",
      "userId": "05726324356439983752"
     },
     "user_tz": -420
    },
    "id": "2c637fbe",
    "outputId": "c423b4a8-aca7-4c9a-f006-f008380fba44"
   },
   "outputs": [
    {
     "name": "stdout",
     "output_type": "stream",
     "text": [
      "y_hat\n",
      " -2.238000024855137\n",
      "loss\n",
      " 128.5502445636151\n",
      "dW\n",
      " -151.92919921875\n",
      "db\n",
      " -22.676000595092773\n",
      "W\n",
      " 1.1792919635772705\n",
      "b\n",
      " 0.266759991645813\n"
     ]
    }
   ],
   "source": [
    "# training\n",
    "for epoch in range(epochs):\n",
    "    x_data = X[0]\n",
    "    y_data = y[0]\n",
    "    \n",
    "    # y_hat\n",
    "    y_hat = compute_output(x_data, W, b)\n",
    "    print('y_hat\\n', y_hat.item())\n",
    "    \n",
    "    # loss        \n",
    "    loss = torch.square(y_hat - y_data)\n",
    "    print('loss\\n', loss.item())\n",
    "                \n",
    "    # gradient\n",
    "    loss.backward()        \n",
    "\n",
    "    # update\n",
    "    with torch.no_grad():\n",
    "      dW=  W.grad\n",
    "      db = b.grad\n",
    "      print('dW\\n', dW.item())    \n",
    "      print('db\\n', db.item()) \n",
    "\n",
    "      W -= lr*dW   \n",
    "      b -= lr*db\n",
    "\n",
    "      W.grad.zero_()\n",
    "      b.grad.zero_()\n",
    "          \n",
    "      print('W\\n', W.item()) \n",
    "      print('b\\n', b.item())"
   ]
  },
  {
   "cell_type": "code",
   "execution_count": null,
   "id": "dbb22f21",
   "metadata": {
    "id": "dbb22f21"
   },
   "outputs": [],
   "source": []
  },
  {
   "cell_type": "code",
   "execution_count": null,
   "id": "6b3da5b4",
   "metadata": {
    "id": "6b3da5b4"
   },
   "outputs": [],
   "source": []
  },
  {
   "cell_type": "markdown",
   "id": "b3ff7980",
   "metadata": {
    "id": "b3ff7980"
   },
   "source": [
    "# Training - One sample"
   ]
  },
  {
   "cell_type": "code",
   "execution_count": 24,
   "id": "2b2199b7",
   "metadata": {
    "colab": {
     "base_uri": "https://localhost:8080/"
    },
    "executionInfo": {
     "elapsed": 512,
     "status": "ok",
     "timestamp": 1666951506890,
     "user": {
      "displayName": "Tiềm Đình",
      "userId": "05726324356439983752"
     },
     "user_tz": -420
    },
    "id": "2b2199b7",
    "outputId": "bfbd6b50-7f63-4219-9e19-9c23a1bc29bc"
   },
   "outputs": [
    {
     "name": "stdout",
     "output_type": "stream",
     "text": [
      "tensor([[6.7000],\n",
      "        [4.6000],\n",
      "        [3.5000],\n",
      "        [5.5000]], dtype=torch.float64)\n",
      "tensor([[9.1000],\n",
      "        [5.9000],\n",
      "        [4.6000],\n",
      "        [6.7000]], dtype=torch.float64)\n"
     ]
    }
   ],
   "source": [
    "import numpy as np\n",
    "import torch\n",
    "\n",
    "### Data preparation\n",
    "data = np.genfromtxt('data.csv', delimiter=',')\n",
    "X = torch.from_numpy(data[:,0:1])\n",
    "y = torch.from_numpy(data[:,1:])\n",
    "\n",
    "print(X)\n",
    "print(y)"
   ]
  },
  {
   "cell_type": "code",
   "execution_count": null,
   "id": "d8f38c60",
   "metadata": {
    "id": "d8f38c60"
   },
   "outputs": [],
   "source": []
  },
  {
   "cell_type": "code",
   "execution_count": 36,
   "id": "571c1bf5",
   "metadata": {
    "executionInfo": {
     "elapsed": 305,
     "status": "ok",
     "timestamp": 1666952444764,
     "user": {
      "displayName": "Tiềm Đình",
      "userId": "05726324356439983752"
     },
     "user_tz": -420
    },
    "id": "571c1bf5"
   },
   "outputs": [],
   "source": [
    "# theta\n",
    "W = torch.tensor([-0.34], requires_grad= True)\n",
    "b = torch.tensor([0.04], requires_grad=True)\n",
    "\n",
    "# forward\n",
    "def compute_output(X, W, b):\n",
    "    return W*X + b\n",
    "\n",
    "# some params\n",
    "lr = 0.01\n",
    "epochs = 20\n",
    "losses = []\n",
    "\n",
    "# training\n",
    "for epoch in range(epochs):\n",
    "    for x_data, y_data in zip(X, y):\n",
    "        # y_hat\n",
    "        # print(x_data)\n",
    "        # print(y_data)\n",
    "        y_hat = compute_output(x_data, W, b)\n",
    "\n",
    "        # loss       \n",
    "        loss = torch.square(y_hat - y_data)\n",
    "        # print(loss)\n",
    "        # debug\n",
    "        losses.append(loss.item())\n",
    "\n",
    "        # gradient \n",
    "        loss.backward()\n",
    "        #update \n",
    "        with torch.no_grad():\n",
    "          dW = W.grad\n",
    "          db = b.grad\n",
    "          # update\n",
    "          W -= lr * dW\n",
    "          b -= lr * db\n",
    "          #Để tránh bị cộng dồn gradient nên gán nó ban đầu = 0\n",
    "          W.grad.zero_()\n",
    "          b.grad.zero_()"
   ]
  },
  {
   "cell_type": "code",
   "execution_count": null,
   "id": "633e8f93",
   "metadata": {
    "id": "633e8f93"
   },
   "outputs": [],
   "source": []
  },
  {
   "cell_type": "code",
   "execution_count": 37,
   "id": "cda4a65b",
   "metadata": {
    "colab": {
     "base_uri": "https://localhost:8080/",
     "height": 279
    },
    "executionInfo": {
     "elapsed": 364,
     "status": "ok",
     "timestamp": 1666952448873,
     "user": {
      "displayName": "Tiềm Đình",
      "userId": "05726324356439983752"
     },
     "user_tz": -420
    },
    "id": "cda4a65b",
    "outputId": "3a5c22bb-375f-4f48-9c11-ce04d202d156"
   },
   "outputs": [
    {
     "data": {
      "image/png": "[encoded data removed]",
      "text/plain": [
       "<Figure size 432x288 with 1 Axes>"
      ]
     },
     "metadata": {
      "needs_background": "light"
     },
     "output_type": "display_data"
    }
   ],
   "source": [
    "import matplotlib.pyplot as plt\n",
    "\n",
    "# plot losses\n",
    "plt.plot(losses)\n",
    "plt.xlabel('iteration')\n",
    "plt.ylabel('Loss')\n",
    "plt.show()"
   ]
  },
  {
   "cell_type": "code",
   "execution_count": null,
   "id": "c9d68abd",
   "metadata": {
    "id": "c9d68abd"
   },
   "outputs": [],
   "source": []
  },
  {
   "cell_type": "code",
   "execution_count": 38,
   "id": "7c879cc0",
   "metadata": {
    "colab": {
     "base_uri": "https://localhost:8080/"
    },
    "executionInfo": {
     "elapsed": 418,
     "status": "ok",
     "timestamp": 1666952454550,
     "user": {
      "displayName": "Tiềm Đình",
      "userId": "05726324356439983752"
     },
     "user_tz": -420
    },
    "id": "7c879cc0",
    "outputId": "4f6247d1-269a-407d-c67e-8473973de4cc"
   },
   "outputs": [
    {
     "data": {
      "text/plain": [
       "tensor([1.2222], requires_grad=True)"
      ]
     },
     "execution_count": 38,
     "metadata": {},
     "output_type": "execute_result"
    }
   ],
   "source": [
    "W"
   ]
  },
  {
   "cell_type": "code",
   "execution_count": 39,
   "id": "74977bdc",
   "metadata": {
    "colab": {
     "base_uri": "https://localhost:8080/"
    },
    "executionInfo": {
     "elapsed": 5,
     "status": "ok",
     "timestamp": 1666952455476,
     "user": {
      "displayName": "Tiềm Đình",
      "userId": "05726324356439983752"
     },
     "user_tz": -420
    },
    "id": "74977bdc",
    "outputId": "9d97ea81-ee90-4103-8b5d-a7cda862e57e"
   },
   "outputs": [
    {
     "data": {
      "text/plain": [
       "tensor([0.1751], requires_grad=True)"
      ]
     },
     "execution_count": 39,
     "metadata": {},
     "output_type": "execute_result"
    }
   ],
   "source": [
    "b"
   ]
  },
  {
   "cell_type": "markdown",
   "id": "6ec82ddd",
   "metadata": {
    "id": "6ec82ddd"
   },
   "source": [
    "# Tracing - N samples"
   ]
  },
  {
   "cell_type": "code",
   "execution_count": null,
   "id": "dc710392",
   "metadata": {
    "id": "dc710392"
   },
   "outputs": [],
   "source": []
  },
  {
   "cell_type": "code",
   "execution_count": 40,
   "id": "67956318",
   "metadata": {
    "colab": {
     "base_uri": "https://localhost:8080/"
    },
    "executionInfo": {
     "elapsed": 299,
     "status": "ok",
     "timestamp": 1666952606352,
     "user": {
      "displayName": "Tiềm Đình",
      "userId": "05726324356439983752"
     },
     "user_tz": -420
    },
    "id": "67956318",
    "outputId": "c8d6e94c-7ae8-4b11-8fc1-497ab9890832"
   },
   "outputs": [
    {
     "name": "stdout",
     "output_type": "stream",
     "text": [
      "tensor([[6.7000],\n",
      "        [4.6000],\n",
      "        [3.5000],\n",
      "        [5.5000]], dtype=torch.float64)\n",
      "tensor([[9.1000],\n",
      "        [5.9000],\n",
      "        [4.6000],\n",
      "        [6.7000]], dtype=torch.float64)\n"
     ]
    }
   ],
   "source": [
    "import numpy as np\n",
    "import torch\n",
    "\n",
    "### Data preparation\n",
    "data = np.genfromtxt('data.csv', delimiter=',')\n",
    "X = torch.tensor(data[:,0:1])\n",
    "y = torch.tensor(data[:,1:])\n",
    "\n",
    "print(X)\n",
    "print(y)"
   ]
  },
  {
   "cell_type": "code",
   "execution_count": null,
   "id": "99ba6c56",
   "metadata": {
    "id": "99ba6c56"
   },
   "outputs": [],
   "source": []
  },
  {
   "cell_type": "code",
   "execution_count": 49,
   "id": "5446246e",
   "metadata": {
    "executionInfo": {
     "elapsed": 476,
     "status": "ok",
     "timestamp": 1666953221119,
     "user": {
      "displayName": "Tiềm Đình",
      "userId": "05726324356439983752"
     },
     "user_tz": -420
    },
    "id": "5446246e"
   },
   "outputs": [],
   "source": [
    "# theta\n",
    "W = torch.tensor([-0.34], requires_grad=True)\n",
    "b = torch.tensor([0.04], requires_grad=True)\n",
    "\n",
    "# forward\n",
    "def compute_output(X, W, b):\n",
    "    return W*X + b\n",
    "\n",
    "# some params\n",
    "lr = 0.01\n",
    "epochs = 1"
   ]
  },
  {
   "cell_type": "code",
   "execution_count": 49,
   "id": "04b02b6d",
   "metadata": {
    "executionInfo": {
     "elapsed": 5,
     "status": "ok",
     "timestamp": 1666953221120,
     "user": {
      "displayName": "Tiềm Đình",
      "userId": "05726324356439983752"
     },
     "user_tz": -420
    },
    "id": "04b02b6d"
   },
   "outputs": [],
   "source": []
  },
  {
   "cell_type": "code",
   "execution_count": 50,
   "id": "ec7ad137",
   "metadata": {
    "colab": {
     "base_uri": "https://localhost:8080/"
    },
    "executionInfo": {
     "elapsed": 11,
     "status": "ok",
     "timestamp": 1666953221883,
     "user": {
      "displayName": "Tiềm Đình",
      "userId": "05726324356439983752"
     },
     "user_tz": -420
    },
    "id": "ec7ad137",
    "outputId": "e34e8cc3-58d8-4cf1-9536-09846dc6b572"
   },
   "outputs": [
    {
     "name": "stdout",
     "output_type": "stream",
     "text": [
      "y_hat\n",
      " tensor([[-2.2380],\n",
      "        [-1.5240],\n",
      "        [-1.1500],\n",
      "        [-1.8300]], dtype=torch.float64, grad_fn=<AddBackward0>)\n",
      "loss\n",
      " tensor(72.3724, dtype=torch.float64, grad_fn=<MeanBackward0>)\n"
     ]
    }
   ],
   "source": [
    "# training\n",
    "for epoch in range(epochs):\n",
    "    # y_hat\n",
    "    y_hat = compute_output(X, W, b)\n",
    "    print('y_hat\\n', y_hat)\n",
    "            \n",
    "    # loss\n",
    "    loss = torch.mean(torch.square(y_hat - y))\n",
    "    print('loss\\n', loss)\n",
    "        \n",
    "    # gradient  \n",
    "    loss.backward()\n",
    "    #update  \n",
    "    with torch.no_grad():    \n",
    "      dW = W.grad\n",
    "      db = b.grad\n",
    "      # update\n",
    "      W -= lr * dW\n",
    "      b -= lr * db\n",
    "      #Để tránh bị cộng dồn gradient nên gán nó ban đầu = 0\n",
    "      W.grad.zero_()\n",
    "      b.grad.zero_()"
   ]
  },
  {
   "cell_type": "code",
   "execution_count": null,
   "id": "0e277f12",
   "metadata": {
    "id": "0e277f12"
   },
   "outputs": [],
   "source": []
  },
  {
   "cell_type": "code",
   "execution_count": null,
   "id": "072c2f79",
   "metadata": {
    "id": "072c2f79"
   },
   "outputs": [],
   "source": []
  },
  {
   "cell_type": "markdown",
   "id": "2adf04f9",
   "metadata": {
    "id": "2adf04f9"
   },
   "source": [
    "# Training - N samples"
   ]
  },
  {
   "cell_type": "code",
   "execution_count": 57,
   "id": "ab960760",
   "metadata": {
    "executionInfo": {
     "elapsed": 4,
     "status": "ok",
     "timestamp": 1666955133772,
     "user": {
      "displayName": "Tiềm Đình",
      "userId": "05726324356439983752"
     },
     "user_tz": -420
    },
    "id": "ab960760"
   },
   "outputs": [],
   "source": [
    "# theta\n",
    "W = torch.tensor([-0.34], requires_grad=True)\n",
    "b = torch.tensor([0.04], requires_grad=True)\n",
    "\n",
    "# forward\n",
    "def compute_output(X, W, b):\n",
    "    return W*X + b\n",
    "\n",
    "# some params\n",
    "lr = 0.01\n",
    "epochs = 100\n",
    "losses = []\n",
    "\n",
    "# training\n",
    "for epoch in range(epochs):\n",
    "    # y_hat\n",
    "    y_hat = compute_output(X, W, b)\n",
    "    \n",
    "    # loss\n",
    "    loss = torch.mean(torch.square(y_hat - y))\n",
    "                \n",
    "    # debug\n",
    "    losses.append(loss.item())\n",
    "\n",
    "    # gradient  \n",
    "    loss.backward()      \n",
    "    with torch.no_grad():    \n",
    "      dW = W.grad\n",
    "      db = b.grad\n",
    "      # update\n",
    "      W -= lr * dW\n",
    "      b -= lr * db\n",
    "      #Để tránh bị cộng dồn gradient nên gán nó ban đầu = 0\n",
    "      W.grad.zero_()\n",
    "      b.grad.zero_()"
   ]
  },
  {
   "cell_type": "code",
   "execution_count": null,
   "id": "f89d3728",
   "metadata": {
    "id": "f89d3728"
   },
   "outputs": [],
   "source": []
  },
  {
   "cell_type": "code",
   "execution_count": 58,
   "id": "9a86f564",
   "metadata": {
    "colab": {
     "base_uri": "https://localhost:8080/",
     "height": 279
    },
    "executionInfo": {
     "elapsed": 321,
     "status": "ok",
     "timestamp": 1666955140567,
     "user": {
      "displayName": "Tiềm Đình",
      "userId": "05726324356439983752"
     },
     "user_tz": -420
    },
    "id": "9a86f564",
    "outputId": "531ffaaa-0528-4f8d-96b0-74ef17a640f0"
   },
   "outputs": [
    {
     "data": {
      "image/png": "[encoded data removed]",
      "text/plain": [
       "<Figure size 432x288 with 1 Axes>"
      ]
     },
     "metadata": {
      "needs_background": "light"
     },
     "output_type": "display_data"
    }
   ],
   "source": [
    "import matplotlib.pyplot as plt\n",
    "\n",
    "# plot losses\n",
    "plt.plot(losses)\n",
    "plt.xlabel('iteration')\n",
    "plt.ylabel('Loss')\n",
    "plt.show()"
   ]
  },
  {
   "cell_type": "code",
   "execution_count": null,
   "id": "4f2efe06",
   "metadata": {
    "id": "4f2efe06"
   },
   "outputs": [],
   "source": []
  }
 ],
 "metadata": {
  "colab": {
   "collapsed_sections": [],
   "provenance": []
  },
  "kernelspec": {
   "display_name": "Python 3 (ipykernel)",
   "language": "python",
   "name": "python3"
  },
  "language_info": {
   "codemirror_mode": {
    "name": "ipython",
    "version": 3
   },
   "file_extension": ".py",
   "mimetype": "text/x-python",
   "name": "python",
   "nbconvert_exporter": "python",
   "pygments_lexer": "ipython3",
   "version": "3.9.13"
  }
 },
 "nbformat": 4,
 "nbformat_minor": 5
}
