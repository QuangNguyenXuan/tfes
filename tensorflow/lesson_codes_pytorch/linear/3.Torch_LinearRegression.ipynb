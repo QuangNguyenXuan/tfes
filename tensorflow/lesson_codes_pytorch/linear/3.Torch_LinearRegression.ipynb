{
 "cells": [
  {
   "cell_type": "code",
   "execution_count": 1,
   "metadata": {
    "colab": {
     "base_uri": "https://localhost:8080/"
    },
    "executionInfo": {
     "elapsed": 1563,
     "status": "ok",
     "timestamp": 1667357426400,
     "user": {
      "displayName": "Tiềm Đình",
      "userId": "05726324356439983752"
     },
     "user_tz": -420
    },
    "id": "WZbBCQGM2OjZ",
    "outputId": "0cafd1be-8a73-4f86-d334-dd434fb09ba9"
   },
   "outputs": [
    {
     "name": "stdout",
     "output_type": "stream",
     "text": [
      "/usr/local/lib/python3.7/dist-packages/gdown/cli.py:131: FutureWarning: Option `--id` was deprecated in version 4.3.1 and will be removed in 5.0. You don't need to pass it anymore to use a file ID.\n",
      "  category=FutureWarning,\n",
      "Downloading...\n",
      "From: https://drive.google.com/uc?id=1O8q12g0VnWlu3ZZJvJdL1siWJqgpmzsI\n",
      "To: /content/data.csv\n",
      "100% 31.0/31.0 [00:00<00:00, 50.3kB/s]\n"
     ]
    }
   ],
   "source": [
    "# Tải file data\n",
    "!gdown --id 1O8q12g0VnWlu3ZZJvJdL1siWJqgpmzsI"
   ]
  },
  {
   "cell_type": "code",
   "execution_count": 2,
   "metadata": {
    "colab": {
     "base_uri": "https://localhost:8080/"
    },
    "executionInfo": {
     "elapsed": 2989,
     "status": "ok",
     "timestamp": 1667357429382,
     "user": {
      "displayName": "Tiềm Đình",
      "userId": "05726324356439983752"
     },
     "user_tz": -420
    },
    "id": "nOv1wC8IqeK7",
    "outputId": "bc7d8c34-9a4d-4bf4-8e88-42a3eab29719"
   },
   "outputs": [
    {
     "name": "stdout",
     "output_type": "stream",
     "text": [
      "tensor([[6.7000],\n",
      "        [4.6000],\n",
      "        [3.5000],\n",
      "        [5.5000]], dtype=torch.float64)\n",
      "tensor([[9.1000],\n",
      "        [5.9000],\n",
      "        [4.6000],\n",
      "        [6.7000]], dtype=torch.float64)\n"
     ]
    }
   ],
   "source": [
    "import numpy as np\n",
    "import torch\n",
    "import torch.nn as nn\n",
    "\n",
    "# Data Preparation\n",
    "data = np.genfromtxt('data.csv', delimiter=',')\n",
    "X = torch.from_numpy(data[:,0:1])\n",
    "y = torch.from_numpy(data[:,1:])\n",
    "\n",
    "print(X)\n",
    "print(y)"
   ]
  },
  {
   "cell_type": "code",
   "execution_count": null,
   "metadata": {
    "id": "GC0X7D5hqeK-"
   },
   "outputs": [],
   "source": []
  },
  {
   "cell_type": "code",
   "execution_count": null,
   "metadata": {
    "id": "lZm7NPHIqeK_"
   },
   "outputs": [],
   "source": [
    "#Create model liner regression\n",
    "linear_model = nn.Linear(1, 1)"
   ]
  },
  {
   "cell_type": "code",
   "execution_count": null,
   "metadata": {
    "colab": {
     "base_uri": "https://localhost:8080/"
    },
    "executionInfo": {
     "elapsed": 8,
     "status": "ok",
     "timestamp": 1667184631292,
     "user": {
      "displayName": "Tiềm Đình",
      "userId": "05726324356439983752"
     },
     "user_tz": -420
    },
    "id": "w2VfEB3l8UR1",
    "outputId": "8e96e3a2-8eb9-4d0b-b339-079f8d0c7c74"
   },
   "outputs": [
    {
     "name": "stdout",
     "output_type": "stream",
     "text": [
      "Linear(in_features=1, out_features=1, bias=True)\n"
     ]
    },
    {
     "data": {
      "text/plain": [
       "[Parameter containing:\n",
       " tensor([[-0.1769]], requires_grad=True), Parameter containing:\n",
       " tensor([0.7114], requires_grad=True)]"
      ]
     },
     "execution_count": 8,
     "metadata": {},
     "output_type": "execute_result"
    }
   ],
   "source": [
    "print(linear_model)\n",
    "list(linear_model.parameters())"
   ]
  },
  {
   "cell_type": "code",
   "execution_count": null,
   "metadata": {
    "id": "fbz4x5H69Edm"
   },
   "outputs": [],
   "source": [
    "loss_fn = nn.MSELoss()"
   ]
  },
  {
   "cell_type": "code",
   "execution_count": null,
   "metadata": {
    "id": "f8kGsaT_9Not"
   },
   "outputs": [],
   "source": [
    "optimizer = torch.optim.SGD(linear_model.parameters(), lr=0.00004)"
   ]
  },
  {
   "cell_type": "code",
   "execution_count": null,
   "metadata": {
    "colab": {
     "base_uri": "https://localhost:8080/"
    },
    "executionInfo": {
     "elapsed": 11,
     "status": "ok",
     "timestamp": 1667187889838,
     "user": {
      "displayName": "Tiềm Đình",
      "userId": "05726324356439983752"
     },
     "user_tz": -420
    },
    "id": "4in3WJBSF8B8",
    "outputId": "9f4b3777-b98e-4db8-eb92-f6172856eef0"
   },
   "outputs": [
    {
     "name": "stdout",
     "output_type": "stream",
     "text": [
      "tensor([[6.7000],\n",
      "        [4.6000],\n",
      "        [3.5000],\n",
      "        [5.5000]])\n",
      "tensor([[9.1000],\n",
      "        [5.9000],\n",
      "        [4.6000],\n",
      "        [6.7000]])\n"
     ]
    }
   ],
   "source": [
    "from torch.autograd import Variable\n",
    "data = np.genfromtxt('data.csv', delimiter=',')\n",
    "X = Variable(torch.tensor(data[:,0:1])).float()\n",
    "y = Variable(torch.tensor(data[:,1:])).float()\n",
    "\n",
    "print(X)\n",
    "print(y)"
   ]
  },
  {
   "cell_type": "code",
   "execution_count": null,
   "metadata": {
    "colab": {
     "base_uri": "https://localhost:8080/"
    },
    "executionInfo": {
     "elapsed": 534,
     "status": "ok",
     "timestamp": 1667188295123,
     "user": {
      "displayName": "Tiềm Đình",
      "userId": "05726324356439983752"
     },
     "user_tz": -420
    },
    "id": "mnHSLdPtF8NT",
    "outputId": "f97c40d5-a37f-498c-b302-58c0b33ebd3c"
   },
   "outputs": [
    {
     "name": "stdout",
     "output_type": "stream",
     "text": [
      "epoch 0, loss 27.351436614990234\n",
      "epoch 1, loss 24.38535499572754\n",
      "epoch 2, loss 21.743154525756836\n",
      "epoch 3, loss 19.389476776123047\n",
      "epoch 4, loss 17.29281234741211\n",
      "epoch 5, loss 15.425092697143555\n",
      "epoch 6, loss 13.761323928833008\n",
      "epoch 7, loss 12.279230117797852\n",
      "epoch 8, loss 10.958975791931152\n",
      "epoch 9, loss 9.782886505126953\n",
      "epoch 10, loss 8.735220909118652\n",
      "epoch 11, loss 7.8019561767578125\n",
      "epoch 12, loss 6.970600128173828\n",
      "epoch 13, loss 6.23002290725708\n",
      "epoch 14, loss 5.570311546325684\n",
      "epoch 15, loss 4.98263692855835\n",
      "epoch 16, loss 4.459133625030518\n",
      "epoch 17, loss 3.992793083190918\n",
      "epoch 18, loss 3.5773727893829346\n",
      "epoch 19, loss 3.2073140144348145\n",
      "epoch 20, loss 2.8776614665985107\n",
      "epoch 21, loss 2.5840044021606445\n",
      "epoch 22, loss 2.322410821914673\n",
      "epoch 23, loss 2.089381217956543\n",
      "epoch 24, loss 1.8817944526672363\n",
      "epoch 25, loss 1.6968746185302734\n",
      "epoch 26, loss 1.5321450233459473\n",
      "epoch 27, loss 1.3854005336761475\n",
      "epoch 28, loss 1.254678726196289\n",
      "epoch 29, loss 1.1382288932800293\n",
      "epoch 30, loss 1.0344922542572021\n",
      "epoch 31, loss 0.9420822858810425\n",
      "epoch 32, loss 0.8597601652145386\n",
      "epoch 33, loss 0.7864247560501099\n",
      "epoch 34, loss 0.7210955619812012\n",
      "epoch 35, loss 0.6628978252410889\n",
      "epoch 36, loss 0.6110531687736511\n",
      "epoch 37, loss 0.5648676753044128\n",
      "epoch 38, loss 0.5237227082252502\n",
      "epoch 39, loss 0.4870684742927551\n",
      "epoch 40, loss 0.4544147253036499\n",
      "epoch 41, loss 0.42532411217689514\n",
      "epoch 42, loss 0.39940810203552246\n",
      "epoch 43, loss 0.3763197064399719\n",
      "epoch 44, loss 0.3557504415512085\n",
      "epoch 45, loss 0.3374255299568176\n",
      "epoch 46, loss 0.32109886407852173\n",
      "epoch 47, loss 0.3065528869628906\n",
      "epoch 48, loss 0.2935928702354431\n",
      "epoch 49, loss 0.2820459306240082\n",
      "epoch 50, loss 0.27175793051719666\n",
      "epoch 51, loss 0.2625906765460968\n",
      "epoch 52, loss 0.25442203879356384\n",
      "epoch 53, loss 0.24714329838752747\n",
      "epoch 54, loss 0.2406572699546814\n",
      "epoch 55, loss 0.23487748205661774\n",
      "epoch 56, loss 0.22972626984119415\n",
      "epoch 57, loss 0.2251352220773697\n",
      "epoch 58, loss 0.22104331851005554\n",
      "epoch 59, loss 0.21739643812179565\n",
      "epoch 60, loss 0.21414496004581451\n",
      "epoch 61, loss 0.21124675869941711\n",
      "epoch 62, loss 0.2086622416973114\n",
      "epoch 63, loss 0.20635785162448883\n",
      "epoch 64, loss 0.20430344343185425\n",
      "epoch 65, loss 0.20247052609920502\n",
      "epoch 66, loss 0.20083566009998322\n",
      "epoch 67, loss 0.19937707483768463\n",
      "epoch 68, loss 0.19807551801204681\n",
      "epoch 69, loss 0.19691359996795654\n",
      "epoch 70, loss 0.1958766132593155\n",
      "epoch 71, loss 0.19495081901550293\n",
      "epoch 72, loss 0.19412341713905334\n",
      "epoch 73, loss 0.19338442385196686\n",
      "epoch 74, loss 0.19272381067276\n",
      "epoch 75, loss 0.19213292002677917\n",
      "epoch 76, loss 0.19160455465316772\n",
      "epoch 77, loss 0.19113194942474365\n",
      "epoch 78, loss 0.19070790708065033\n",
      "epoch 79, loss 0.19032835960388184\n",
      "epoch 80, loss 0.18998833000659943\n",
      "epoch 81, loss 0.1896827518939972\n",
      "epoch 82, loss 0.18940848112106323\n",
      "epoch 83, loss 0.18916209042072296\n",
      "epoch 84, loss 0.18893997371196747\n",
      "epoch 85, loss 0.18873998522758484\n",
      "epoch 86, loss 0.18855980038642883\n",
      "epoch 87, loss 0.1883969008922577\n",
      "epoch 88, loss 0.1882495880126953\n",
      "epoch 89, loss 0.18811610341072083\n",
      "epoch 90, loss 0.1879947930574417\n",
      "epoch 91, loss 0.18788477778434753\n",
      "epoch 92, loss 0.1877848505973816\n",
      "epoch 93, loss 0.18769283592700958\n",
      "epoch 94, loss 0.18760910630226135\n",
      "epoch 95, loss 0.18753233551979065\n",
      "epoch 96, loss 0.18746155500411987\n",
      "epoch 97, loss 0.18739649653434753\n",
      "epoch 98, loss 0.1873358190059662\n",
      "epoch 99, loss 0.18727990984916687\n"
     ]
    }
   ],
   "source": [
    "import torch\n",
    "from torch.autograd import Variable\n",
    "\n",
    "class LinearRegressionModel(torch.nn.Module):\n",
    "\n",
    "\tdef __init__(self):\n",
    "\t\tsuper(LinearRegressionModel, self).__init__()\n",
    "\t\tself.linear = torch.nn.Linear(1, 1) # One in and one out\n",
    "\n",
    "\tdef forward(self, x):\n",
    "\t\ty_pred = self.linear(x)\n",
    "\t\treturn y_pred\n",
    "\n",
    "# our model\n",
    "our_model = LinearRegressionModel()\n",
    "\n",
    "criterion = torch.nn.MSELoss()\n",
    "optimizer = torch.optim.SGD(our_model.parameters(), lr = 0.001)\n",
    "\n",
    "for epoch in range(100):\n",
    "\n",
    "\t# Forward pass: Compute predicted y by passing\n",
    "\t# x to the model\n",
    "\tpred_y = our_model(X)\n",
    "\n",
    "\t# Compute and print loss\n",
    "\tloss = criterion(pred_y, y)\n",
    "\n",
    "\t# Zero gradients, perform a backward pass,\n",
    "\t# and update the weights.\n",
    "\toptimizer.zero_grad()\n",
    "\tloss.backward()\n",
    "\toptimizer.step()\n",
    "\tprint('epoch {}, loss {}'.format(epoch, loss.item()))\n"
   ]
  },
  {
   "cell_type": "code",
   "execution_count": null,
   "metadata": {
    "colab": {
     "base_uri": "https://localhost:8080/"
    },
    "executionInfo": {
     "elapsed": 582,
     "status": "ok",
     "timestamp": 1667188311848,
     "user": {
      "displayName": "Tiềm Đình",
      "userId": "05726324356439983752"
     },
     "user_tz": -420
    },
    "id": "fQiWpjfcF8QA",
    "outputId": "9ec78fca-4036-4720-bb29-ba8940e17eb8"
   },
   "outputs": [
    {
     "name": "stdout",
     "output_type": "stream",
     "text": [
      "predict (after training) 4 5.444839000701904\n"
     ]
    }
   ],
   "source": [
    "new_var = Variable(torch.Tensor([[4.0]]))\n",
    "pred_y = our_model(new_var)\n",
    "print(\"predict (after training)\", 4, our_model(new_var).item())"
   ]
  },
  {
   "cell_type": "code",
   "execution_count": null,
   "metadata": {
    "colab": {
     "base_uri": "https://localhost:8080/"
    },
    "executionInfo": {
     "elapsed": 503,
     "status": "ok",
     "timestamp": 1667189304247,
     "user": {
      "displayName": "Tiềm Đình",
      "userId": "05726324356439983752"
     },
     "user_tz": -420
    },
    "id": "xBxa03CfOa2U",
    "outputId": "5ba6c4ab-b2a2-40b2-a6a7-c24f4449495f"
   },
   "outputs": [
    {
     "data": {
      "text/plain": [
       "OrderedDict([('linear.weight', tensor([[1.1021]])),\n",
       "             ('linear.bias', tensor([1.0365]))])"
      ]
     },
     "execution_count": 43,
     "metadata": {},
     "output_type": "execute_result"
    }
   ],
   "source": [
    "our_model.state_dict()"
   ]
  },
  {
   "cell_type": "code",
   "execution_count": null,
   "metadata": {
    "colab": {
     "base_uri": "https://localhost:8080/"
    },
    "executionInfo": {
     "elapsed": 6,
     "status": "ok",
     "timestamp": 1667189354634,
     "user": {
      "displayName": "Tiềm Đình",
      "userId": "05726324356439983752"
     },
     "user_tz": -420
    },
    "id": "GwSCT-fdOa5i",
    "outputId": "1a018cce-dbbb-47f4-e8ec-ed828a1ed16d"
   },
   "outputs": [
    {
     "name": "stdout",
     "output_type": "stream",
     "text": [
      "linear.weight \t torch.Size([1, 1])\n",
      "linear.bias \t torch.Size([1])\n"
     ]
    }
   ],
   "source": [
    "for param_tensor in our_model.state_dict():\n",
    "    print(param_tensor, \"\\t\", our_model.state_dict()[param_tensor].size())"
   ]
  },
  {
   "cell_type": "code",
   "execution_count": null,
   "metadata": {
    "id": "W_hQYTNfO1RB"
   },
   "outputs": [],
   "source": [
    "torch.save(our_model.state_dict(), \"ln.pt\")"
   ]
  },
  {
   "cell_type": "code",
   "execution_count": null,
   "metadata": {
    "id": "cX1j2JPHQDn0"
   },
   "outputs": [],
   "source": [
    "model = LinearRegressionModel()"
   ]
  },
  {
   "cell_type": "code",
   "execution_count": null,
   "metadata": {
    "colab": {
     "base_uri": "https://localhost:8080/"
    },
    "executionInfo": {
     "elapsed": 419,
     "status": "ok",
     "timestamp": 1667190208629,
     "user": {
      "displayName": "Tiềm Đình",
      "userId": "05726324356439983752"
     },
     "user_tz": -420
    },
    "id": "ZC1VyDw9P0vr",
    "outputId": "1c525b4d-8626-4cb3-bc0d-962f8fbdcd9a"
   },
   "outputs": [
    {
     "data": {
      "text/plain": [
       "<All keys matched successfully>"
      ]
     },
     "execution_count": 63,
     "metadata": {},
     "output_type": "execute_result"
    }
   ],
   "source": [
    "model.load_state_dict(torch.load(\"/content/ln.pt\"))"
   ]
  },
  {
   "cell_type": "code",
   "execution_count": null,
   "metadata": {
    "colab": {
     "base_uri": "https://localhost:8080/"
    },
    "executionInfo": {
     "elapsed": 321,
     "status": "ok",
     "timestamp": 1667190211539,
     "user": {
      "displayName": "Tiềm Đình",
      "userId": "05726324356439983752"
     },
     "user_tz": -420
    },
    "id": "A-ZumLR1RkPg",
    "outputId": "211494ef-351a-4bd5-c4f8-8179b5fd452b"
   },
   "outputs": [
    {
     "data": {
      "text/plain": [
       "LinearRegressionModel(\n",
       "  (linear): Linear(in_features=1, out_features=1, bias=True)\n",
       ")"
      ]
     },
     "execution_count": 64,
     "metadata": {},
     "output_type": "execute_result"
    }
   ],
   "source": [
    "model.eval()"
   ]
  },
  {
   "cell_type": "code",
   "execution_count": null,
   "metadata": {
    "colab": {
     "base_uri": "https://localhost:8080/"
    },
    "executionInfo": {
     "elapsed": 552,
     "status": "ok",
     "timestamp": 1667190222227,
     "user": {
      "displayName": "Tiềm Đình",
      "userId": "05726324356439983752"
     },
     "user_tz": -420
    },
    "id": "eSECg4uVRGUp",
    "outputId": "335427a3-55c6-4547-a31b-4cc16a66ac03"
   },
   "outputs": [
    {
     "name": "stdout",
     "output_type": "stream",
     "text": [
      "predict (after training) 4 5.444839000701904\n"
     ]
    }
   ],
   "source": [
    "new_var = Variable(torch.Tensor([[4.0]]))\n",
    "pred_y = model(new_var)\n",
    "print(\"predict (after training)\", 4, model(new_var).item())"
   ]
  },
  {
   "cell_type": "code",
   "execution_count": null,
   "metadata": {
    "id": "l3K49W9O2-Xm"
   },
   "outputs": [],
   "source": []
  },
  {
   "cell_type": "code",
   "execution_count": null,
   "metadata": {
    "id": "j3oYkmS42-ah"
   },
   "outputs": [],
   "source": []
  },
  {
   "cell_type": "code",
   "execution_count": null,
   "metadata": {
    "id": "QpO4RFal2-dL"
   },
   "outputs": [],
   "source": []
  },
  {
   "cell_type": "code",
   "execution_count": null,
   "metadata": {
    "id": "TX6Mijvx2-gA"
   },
   "outputs": [],
   "source": []
  },
  {
   "cell_type": "code",
   "execution_count": 14,
   "metadata": {
    "executionInfo": {
     "elapsed": 453,
     "status": "ok",
     "timestamp": 1667357577532,
     "user": {
      "displayName": "Tiềm Đình",
      "userId": "05726324356439983752"
     },
     "user_tz": -420
    },
    "id": "o-_PeIpU2-iV"
   },
   "outputs": [],
   "source": [
    "import torch\n",
    "import torch.nn as nn\n",
    "import torch.nn.functional as F\n",
    "import numpy as np"
   ]
  },
  {
   "cell_type": "code",
   "execution_count": 16,
   "metadata": {
    "colab": {
     "base_uri": "https://localhost:8080/"
    },
    "executionInfo": {
     "elapsed": 6,
     "status": "ok",
     "timestamp": 1667357631842,
     "user": {
      "displayName": "Tiềm Đình",
      "userId": "05726324356439983752"
     },
     "user_tz": -420
    },
    "id": "fTFc_4jYQV-5",
    "outputId": "b2b51aea-7929-49fe-f243-b4a20eb171c0"
   },
   "outputs": [
    {
     "name": "stdout",
     "output_type": "stream",
     "text": [
      "tensor([[6.7000],\n",
      "        [4.6000],\n",
      "        [3.5000],\n",
      "        [5.5000]])\n",
      "tensor([[9.1000],\n",
      "        [5.9000],\n",
      "        [4.6000],\n",
      "        [6.7000]])\n"
     ]
    }
   ],
   "source": [
    "# Data Preparation\n",
    "data = np.genfromtxt('data.csv', delimiter=',')\n",
    "X = torch.tensor(data[:,0:1], dtype = torch.float)\n",
    "y = torch.tensor(data[:,1:], dtype = torch.float)\n",
    "\n",
    "print(X)\n",
    "print(y)"
   ]
  },
  {
   "cell_type": "code",
   "execution_count": 17,
   "metadata": {
    "executionInfo": {
     "elapsed": 13342,
     "status": "ok",
     "timestamp": 1667357649863,
     "user": {
      "displayName": "Tiềm Đình",
      "userId": "05726324356439983752"
     },
     "user_tz": -420
    },
    "id": "npIzS9N_54We"
   },
   "outputs": [],
   "source": [
    "# Import tensor dataset & data loader\n",
    "from torch.utils.data import TensorDataset, DataLoader"
   ]
  },
  {
   "cell_type": "code",
   "execution_count": 18,
   "metadata": {
    "colab": {
     "base_uri": "https://localhost:8080/"
    },
    "executionInfo": {
     "elapsed": 9,
     "status": "ok",
     "timestamp": 1667357651327,
     "user": {
      "displayName": "Tiềm Đình",
      "userId": "05726324356439983752"
     },
     "user_tz": -420
    },
    "id": "zh68pzvv58gy",
    "outputId": "34a904df-c7e9-4384-a11e-12e039b6b21f"
   },
   "outputs": [
    {
     "data": {
      "text/plain": [
       "(tensor([[6.7000],\n",
       "         [4.6000],\n",
       "         [3.5000]]), tensor([[9.1000],\n",
       "         [5.9000],\n",
       "         [4.6000]]))"
      ]
     },
     "execution_count": 18,
     "metadata": {},
     "output_type": "execute_result"
    }
   ],
   "source": [
    "# Define dataset\n",
    "train_ds = TensorDataset(X, y)\n",
    "train_ds[0:3]"
   ]
  },
  {
   "cell_type": "code",
   "execution_count": 19,
   "metadata": {
    "colab": {
     "base_uri": "https://localhost:8080/"
    },
    "executionInfo": {
     "elapsed": 8,
     "status": "ok",
     "timestamp": 1667357651328,
     "user": {
      "displayName": "Tiềm Đình",
      "userId": "05726324356439983752"
     },
     "user_tz": -420
    },
    "id": "NJAEHlZZ6SbS",
    "outputId": "25f5f5fd-7e4b-4f94-dec9-4781581c96a2"
   },
   "outputs": [
    {
     "data": {
      "text/plain": [
       "[tensor([[5.5000],\n",
       "         [3.5000]]), tensor([[6.7000],\n",
       "         [4.6000]])]"
      ]
     },
     "execution_count": 19,
     "metadata": {},
     "output_type": "execute_result"
    }
   ],
   "source": [
    "batch_size = 2\n",
    "train_dl = DataLoader(train_ds, batch_size, shuffle=True)\n",
    "next(iter(train_dl))"
   ]
  },
  {
   "cell_type": "code",
   "execution_count": 20,
   "metadata": {
    "executionInfo": {
     "elapsed": 6,
     "status": "ok",
     "timestamp": 1667357651329,
     "user": {
      "displayName": "Tiềm Đình",
      "userId": "05726324356439983752"
     },
     "user_tz": -420
    },
    "id": "e4YNSLmb2-kz"
   },
   "outputs": [],
   "source": [
    "class my_network(nn.Module):\n",
    "  def __init__(self):\n",
    "    super().__init__()\n",
    "    self.liner1 = nn.Linear(1,1)\n",
    "  def forward(self, x):\n",
    "    x = self.liner1(x)\n",
    "    return x  "
   ]
  },
  {
   "cell_type": "code",
   "execution_count": 21,
   "metadata": {
    "executionInfo": {
     "elapsed": 2,
     "status": "ok",
     "timestamp": 1667357653660,
     "user": {
      "displayName": "Tiềm Đình",
      "userId": "05726324356439983752"
     },
     "user_tz": -420
    },
    "id": "lR7zn-Ed5AC4"
   },
   "outputs": [],
   "source": [
    "model = my_network()"
   ]
  },
  {
   "cell_type": "code",
   "execution_count": 25,
   "metadata": {
    "executionInfo": {
     "elapsed": 7,
     "status": "ok",
     "timestamp": 1667357725481,
     "user": {
      "displayName": "Tiềm Đình",
      "userId": "05726324356439983752"
     },
     "user_tz": -420
    },
    "id": "oiJ-2Gr55FGt"
   },
   "outputs": [],
   "source": [
    "opt = torch.optim.SGD(model.parameters(), 0.01)"
   ]
  },
  {
   "cell_type": "code",
   "execution_count": 26,
   "metadata": {
    "executionInfo": {
     "elapsed": 8,
     "status": "ok",
     "timestamp": 1667357725482,
     "user": {
      "displayName": "Tiềm Đình",
      "userId": "05726324356439983752"
     },
     "user_tz": -420
    },
    "id": "D6K1xeMo5L_Z"
   },
   "outputs": [],
   "source": [
    "loss_fn = F.mse_loss"
   ]
  },
  {
   "cell_type": "code",
   "execution_count": 27,
   "metadata": {
    "executionInfo": {
     "elapsed": 7,
     "status": "ok",
     "timestamp": 1667357725482,
     "user": {
      "displayName": "Tiềm Đình",
      "userId": "05726324356439983752"
     },
     "user_tz": -420
    },
    "id": "Brod3a9A5MbD"
   },
   "outputs": [],
   "source": [
    "# Define a utility function to train the model\n",
    "def fit(datatrain, num_epochs, model, loss_fn, opt):\n",
    "    for epoch in range(num_epochs):\n",
    "        for xb,yb in train_dl:\n",
    "            # Generate predictions\n",
    "            pred = model(xb)\n",
    "            loss = loss_fn(pred, yb)\n",
    "            # Perform gradient descent\n",
    "            loss.backward()\n",
    "            opt.step()\n",
    "            opt.zero_grad()\n",
    "    print('Training loss: ', loss_fn(model(X), y))\n"
   ]
  },
  {
   "cell_type": "code",
   "execution_count": 28,
   "metadata": {
    "colab": {
     "base_uri": "https://localhost:8080/"
    },
    "executionInfo": {
     "elapsed": 343,
     "status": "ok",
     "timestamp": 1667357730459,
     "user": {
      "displayName": "Tiềm Đình",
      "userId": "05726324356439983752"
     },
     "user_tz": -420
    },
    "id": "znxQutp5P2_z",
    "outputId": "ec9964b7-3b07-4350-eee0-06285406e196"
   },
   "outputs": [
    {
     "name": "stdout",
     "output_type": "stream",
     "text": [
      "Training loss:  tensor(0.0878, grad_fn=<MseLossBackward0>)\n"
     ]
    }
   ],
   "source": [
    "fit(train_dl, 100, model, loss_fn, opt)"
   ]
  },
  {
   "cell_type": "code",
   "execution_count": null,
   "metadata": {
    "id": "528k1eGXQM1h"
   },
   "outputs": [],
   "source": []
  }
 ],
 "metadata": {
  "colab": {
   "collapsed_sections": [],
   "provenance": []
  },
  "kernelspec": {
   "display_name": "Python 3 (ipykernel)",
   "language": "python",
   "name": "python3"
  },
  "language_info": {
   "codemirror_mode": {
    "name": "ipython",
    "version": 3
   },
   "file_extension": ".py",
   "mimetype": "text/x-python",
   "name": "python",
   "nbconvert_exporter": "python",
   "pygments_lexer": "ipython3",
   "version": "3.9.13"
  }
 },
 "nbformat": 4,
 "nbformat_minor": 1
}
