{
 "cells": [
  {
   "cell_type": "markdown",
   "metadata": {
    "id": "nCYga8KaTMy_"
   },
   "source": [
    "# **PYTORCH BASIC**"
   ]
  },
  {
   "cell_type": "markdown",
   "metadata": {
    "id": "1G7LUVPRTixN"
   },
   "source": [
    "## INTRODUCT TO PYTORCH"
   ]
  },
  {
   "cell_type": "code",
   "execution_count": null,
   "metadata": {
    "id": "tOXWjSljNs2Z"
   },
   "outputs": [],
   "source": [
    "import torch\n",
    "import numpy as np"
   ]
  },
  {
   "cell_type": "code",
   "execution_count": null,
   "metadata": {
    "colab": {
     "base_uri": "https://localhost:8080/"
    },
    "executionInfo": {
     "elapsed": 3,
     "status": "ok",
     "timestamp": 1665713962740,
     "user": {
      "displayName": "Tiềm Đình",
      "userId": "05726324356439983752"
     },
     "user_tz": -420
    },
    "id": "qBuqFOYFPrXB",
    "outputId": "e50019ee-a64f-42df-9d78-39ad387c70ab"
   },
   "outputs": [
    {
     "name": "stdout",
     "output_type": "stream",
     "text": [
      "[0 1 2 3 4 5 6 7 8 9]\n",
      "(10,)\n",
      "tensor([0, 1, 2, 3, 4, 5, 6, 7, 8, 9])\n",
      "[0 1 2 3 4 5 6 7 8 9]\n",
      "(10,)\n"
     ]
    }
   ],
   "source": [
    "#create  a numpy array\n",
    "arr_np = np.arange(10)\n",
    "print(arr_np)\n",
    "print(arr_np.shape)\n",
    "\n",
    "#convert a numpy array to tensor\n",
    "tensor_arr = torch.from_numpy(arr_np)\n",
    "print(tensor_arr)\n",
    "\n",
    "#convert tensor to numpy\n",
    "arr_np_back = tensor_arr.numpy()\n",
    "print(arr_np_back)\n",
    "print(arr_np_back.shape)"
   ]
  },
  {
   "cell_type": "code",
   "execution_count": null,
   "metadata": {
    "id": "dujIlwoLQBXR"
   },
   "outputs": [],
   "source": []
  },
  {
   "cell_type": "markdown",
   "metadata": {
    "id": "_nl8PmdaSw76"
   },
   "source": [
    "### Create a tensor\n"
   ]
  },
  {
   "cell_type": "code",
   "execution_count": null,
   "metadata": {
    "colab": {
     "base_uri": "https://localhost:8080/"
    },
    "executionInfo": {
     "elapsed": 5,
     "status": "ok",
     "timestamp": 1665714283087,
     "user": {
      "displayName": "Tiềm Đình",
      "userId": "05726324356439983752"
     },
     "user_tz": -420
    },
    "id": "HXLO8vB_SzY8",
    "outputId": "079663c2-ae0e-42e5-d1c4-773ae6a0d210"
   },
   "outputs": [
    {
     "name": "stdout",
     "output_type": "stream",
     "text": [
      "tensor([[1, 2, 3],\n",
      "        [4, 5, 6]])\n",
      "tensor([1, 2, 3])\n",
      "tensor([4, 5, 6])\n",
      "tensor(2)\n"
     ]
    }
   ],
   "source": [
    "#from list\n",
    "list_1 = [[1, 2, 3],\n",
    "          [4, 5, 6]]\n",
    "torch_from_list = torch.tensor(list_1)\n",
    "print(torch_from_list)\n",
    "print(torch_from_list[0])\n",
    "print(torch_from_list[1])\n",
    "print(torch_from_list[0,1])"
   ]
  },
  {
   "cell_type": "markdown",
   "metadata": {
    "id": "DJdGuEhAXah1"
   },
   "source": [
    "### Attributes of a tensor "
   ]
  },
  {
   "cell_type": "code",
   "execution_count": null,
   "metadata": {
    "colab": {
     "base_uri": "https://localhost:8080/"
    },
    "executionInfo": {
     "elapsed": 5,
     "status": "ok",
     "timestamp": 1665715564222,
     "user": {
      "displayName": "Tiềm Đình",
      "userId": "05726324356439983752"
     },
     "user_tz": -420
    },
    "id": "7wsjqn4RWT1R",
    "outputId": "3ea5a85f-f08e-4cfe-a6b0-027f9b3828f9"
   },
   "outputs": [
    {
     "name": "stdout",
     "output_type": "stream",
     "text": [
      "tensor([[1, 2, 3, 4],\n",
      "        [4, 3, 2, 1]])\n",
      "Shape of tensor: torch.Size([2, 4])\n",
      "Datatype of tensor: torch.int64\n",
      "Device tensor is stored on: cpu\n"
     ]
    }
   ],
   "source": [
    "tensor = torch.tensor([[1, 2, 3, 4], [4, 3, 2, 1]])\n",
    "print(tensor)\n",
    "print(f\"Shape of tensor: {tensor.shape}\")\n",
    "print(f\"Datatype of tensor: {tensor.dtype}\")\n",
    "print(f\"Device tensor is stored on: {tensor.device}\")"
   ]
  },
  {
   "cell_type": "markdown",
   "metadata": {
    "id": "LIXHs4zPWUE_"
   },
   "source": [
    "### Common Atributes"
   ]
  },
  {
   "cell_type": "code",
   "execution_count": null,
   "metadata": {
    "colab": {
     "base_uri": "https://localhost:8080/"
    },
    "executionInfo": {
     "elapsed": 8,
     "status": "ok",
     "timestamp": 1665718724753,
     "user": {
      "displayName": "Tiềm Đình",
      "userId": "05726324356439983752"
     },
     "user_tz": -420
    },
    "id": "Zlzk18ZnTYl4",
    "outputId": "fe543c37-74a7-44b6-b1d0-cf7a68e4d0ac"
   },
   "outputs": [
    {
     "name": "stdout",
     "output_type": "stream",
     "text": [
      "tensor(3)\n",
      "torch.Size([])\n"
     ]
    }
   ],
   "source": [
    "# Tao torch tu 1 so, duoc goi la scalar\n",
    "import torch\n",
    "data = torch.tensor(3)\n",
    "print(data)\n",
    "print(data.shape)"
   ]
  },
  {
   "cell_type": "code",
   "execution_count": null,
   "metadata": {
    "colab": {
     "base_uri": "https://localhost:8080/"
    },
    "executionInfo": {
     "elapsed": 5,
     "status": "ok",
     "timestamp": 1665718739668,
     "user": {
      "displayName": "Tiềm Đình",
      "userId": "05726324356439983752"
     },
     "user_tz": -420
    },
    "id": "V73yqWdMZtna",
    "outputId": "2a1e7cb1-d418-49c5-aa53-4e29a5927ad5"
   },
   "outputs": [
    {
     "name": "stdout",
     "output_type": "stream",
     "text": [
      "tensor([1, 2, 3, 4])\n",
      "torch.Size([4])\n"
     ]
    }
   ],
   "source": [
    "#Tao tensor tu 1 list\n",
    "import torch\n",
    "\n",
    "#Tao list\n",
    "list_1D = [1, 2, 3, 4]\n",
    "#Tao tensor\n",
    "data = torch.tensor(list_1D)\n",
    "\n",
    "print(data)\n",
    "print(data.shape)\n"
   ]
  },
  {
   "cell_type": "code",
   "execution_count": null,
   "metadata": {
    "colab": {
     "base_uri": "https://localhost:8080/"
    },
    "executionInfo": {
     "elapsed": 5,
     "status": "ok",
     "timestamp": 1665718751317,
     "user": {
      "displayName": "Tiềm Đình",
      "userId": "05726324356439983752"
     },
     "user_tz": -420
    },
    "id": "PM4M_4TseDR2",
    "outputId": "dff2a0a4-5acd-4366-9ac6-0185093890ab"
   },
   "outputs": [
    {
     "name": "stdout",
     "output_type": "stream",
     "text": [
      "tensor([[1, 2],\n",
      "        [3, 4],\n",
      "        [5, 6]])\n",
      "torch.Size([3, 2])\n"
     ]
    }
   ],
   "source": [
    "import torch\n",
    "\n",
    "#Tao list\n",
    "list_2D = [[1, 2], [3, 4], [5, 6]]\n",
    "#Tao tensor\n",
    "data = torch.tensor(list_2D)\n",
    "\n",
    "print(data)\n",
    "print(data.shape)\n"
   ]
  },
  {
   "cell_type": "code",
   "execution_count": null,
   "metadata": {
    "colab": {
     "base_uri": "https://localhost:8080/"
    },
    "executionInfo": {
     "elapsed": 14,
     "status": "ok",
     "timestamp": 1665718716137,
     "user": {
      "displayName": "Tiềm Đình",
      "userId": "05726324356439983752"
     },
     "user_tz": -420
    },
    "id": "yXZqqEC1eOTf",
    "outputId": "32612ab6-157b-4ffa-d7a4-f97a49f5fd79"
   },
   "outputs": [
    {
     "name": "stdout",
     "output_type": "stream",
     "text": [
      "tensor([[[ 1,  2],\n",
      "         [ 3,  4]],\n",
      "\n",
      "        [[ 5,  6],\n",
      "         [ 7,  8]],\n",
      "\n",
      "        [[ 9, 10],\n",
      "         [11, 12]]])\n",
      "torch.Size([3, 2, 2])\n"
     ]
    }
   ],
   "source": [
    "import torch\n",
    "\n",
    "#Tao list\n",
    "list_3D = [[[1, 2], [3, 4]],\n",
    "           [[5, 6], [7, 8]],\n",
    "           [[9,10], [11, 12]]]\n",
    "#Tao tensor\n",
    "data = torch.tensor(list_3D)\n",
    "\n",
    "print(data)\n",
    "print(data.shape)"
   ]
  },
  {
   "cell_type": "code",
   "execution_count": null,
   "metadata": {
    "colab": {
     "base_uri": "https://localhost:8080/"
    },
    "executionInfo": {
     "elapsed": 5,
     "status": "ok",
     "timestamp": 1665717740098,
     "user": {
      "displayName": "Tiềm Đình",
      "userId": "05726324356439983752"
     },
     "user_tz": -420
    },
    "id": "ZP7GTrBmek2C",
    "outputId": "4a34af31-0d82-4e0d-a60b-922409f2ced2"
   },
   "outputs": [
    {
     "name": "stdout",
     "output_type": "stream",
     "text": [
      "tensor([1, 2, 3])\n",
      "torch.int64\n",
      "torch.float32\n",
      "tensor([3.1400, 2.1400, 2.1600])\n",
      "torch.float64\n",
      "tensor([1., 2., 3.], dtype=torch.float64)\n"
     ]
    }
   ],
   "source": [
    "#dtype example\n",
    "data1 = torch.tensor([1, 2, 3])\n",
    "print(data1)\n",
    "print(data1.dtype)\n",
    "\n",
    "data2 = torch.tensor([3.14, 2.14, 2.16])\n",
    "print(data2.dtype)\n",
    "print(data2)\n",
    "\n",
    "data3 = torch.tensor([1, 2, 3], dtype=float)\n",
    "print(data3.dtype)\n",
    "print(data3)"
   ]
  },
  {
   "cell_type": "code",
   "execution_count": null,
   "metadata": {
    "id": "p2Su8tYphD4P"
   },
   "outputs": [],
   "source": []
  },
  {
   "cell_type": "markdown",
   "metadata": {
    "id": "QLvtH_k1hEI9"
   },
   "source": [
    "### Update an element"
   ]
  },
  {
   "cell_type": "code",
   "execution_count": null,
   "metadata": {
    "colab": {
     "base_uri": "https://localhost:8080/"
    },
    "executionInfo": {
     "elapsed": 7,
     "status": "ok",
     "timestamp": 1665718777495,
     "user": {
      "displayName": "Tiềm Đình",
      "userId": "05726324356439983752"
     },
     "user_tz": -420
    },
    "id": "JL49ZZvAfvCL",
    "outputId": "fcd74cb1-52e9-41e3-803a-0d9315b5c705"
   },
   "outputs": [
    {
     "name": "stdout",
     "output_type": "stream",
     "text": [
      "tensor([1, 2, 3])\n",
      "tensor([100,   2,   3])\n"
     ]
    }
   ],
   "source": [
    "#Thay doi gia tri phan tu trong tensor\n",
    "import torch\n",
    "\n",
    "#Khoi tao list\n",
    "l = list(range(1,4))\n",
    "\n",
    "#Tao torch\n",
    "data = torch.tensor(l)\n",
    "print(data)\n",
    "\n",
    "#Thay doi gia tri cua phan tu thu nhat trong tensor\n",
    "data[0] = 100\n",
    "print(data)"
   ]
  },
  {
   "cell_type": "code",
   "execution_count": null,
   "metadata": {
    "id": "rH8Eifjuh3lj"
   },
   "outputs": [],
   "source": []
  },
  {
   "cell_type": "markdown",
   "metadata": {
    "id": "Ymw_RZ-liC95"
   },
   "source": [
    "### Create tensor"
   ]
  },
  {
   "cell_type": "code",
   "execution_count": null,
   "metadata": {
    "colab": {
     "base_uri": "https://localhost:8080/"
    },
    "executionInfo": {
     "elapsed": 9,
     "status": "ok",
     "timestamp": 1665718925871,
     "user": {
      "displayName": "Tiềm Đình",
      "userId": "05726324356439983752"
     },
     "user_tz": -420
    },
    "id": "hQohZpc6jZVH",
    "outputId": "13c76650-0149-416f-f1d7-0f26565bd6c3"
   },
   "outputs": [
    {
     "name": "stdout",
     "output_type": "stream",
     "text": [
      "tensor([[0., 0., 0., 0.],\n",
      "        [0., 0., 0., 0.],\n",
      "        [0., 0., 0., 0.]])\n"
     ]
    }
   ],
   "source": [
    "#Tao 1 tensor toan so 0\n",
    "import torch\n",
    "tensor0 = torch.zeros((3, 4))\n",
    "print(tensor0)"
   ]
  },
  {
   "cell_type": "code",
   "execution_count": null,
   "metadata": {
    "colab": {
     "base_uri": "https://localhost:8080/"
    },
    "executionInfo": {
     "elapsed": 5,
     "status": "ok",
     "timestamp": 1665718972171,
     "user": {
      "displayName": "Tiềm Đình",
      "userId": "05726324356439983752"
     },
     "user_tz": -420
    },
    "id": "e1hahTCSlV_z",
    "outputId": "bd776ed8-141c-44bc-adeb-de053731821e"
   },
   "outputs": [
    {
     "name": "stdout",
     "output_type": "stream",
     "text": [
      "tensor([[1., 1., 1., 1.],\n",
      "        [1., 1., 1., 1.],\n",
      "        [1., 1., 1., 1.]])\n"
     ]
    }
   ],
   "source": [
    "#Tao 1 tensor toan so 1\n",
    "import torch\n",
    "tensor1 = torch.ones((3, 4))\n",
    "print(tensor1)"
   ]
  },
  {
   "cell_type": "code",
   "execution_count": null,
   "metadata": {
    "colab": {
     "base_uri": "https://localhost:8080/"
    },
    "executionInfo": {
     "elapsed": 6,
     "status": "ok",
     "timestamp": 1665719107274,
     "user": {
      "displayName": "Tiềm Đình",
      "userId": "05726324356439983752"
     },
     "user_tz": -420
    },
    "id": "K1R162tXlke5",
    "outputId": "bb5ea9f7-17df-4613-8512-14ce040e97bf"
   },
   "outputs": [
    {
     "name": "stdout",
     "output_type": "stream",
     "text": [
      "tensor([[33, 33, 33, 33],\n",
      "        [33, 33, 33, 33],\n",
      "        [33, 33, 33, 33]])\n"
     ]
    }
   ],
   "source": [
    "#Tao 1 tensor voi tat ca phan tu la hang so\n",
    "import torch\n",
    "tensor_instance_value = torch.full((3, 4), 33)\n",
    "print(tensor_instance_value)"
   ]
  },
  {
   "cell_type": "code",
   "execution_count": null,
   "metadata": {
    "colab": {
     "base_uri": "https://localhost:8080/"
    },
    "executionInfo": {
     "elapsed": 7,
     "status": "ok",
     "timestamp": 1665719283131,
     "user": {
      "displayName": "Tiềm Đình",
      "userId": "05726324356439983752"
     },
     "user_tz": -420
    },
    "id": "JoSNj8oHmE2U",
    "outputId": "5b2495f9-c70d-4b7e-ba7b-b607e5bd686d"
   },
   "outputs": [
    {
     "name": "stdout",
     "output_type": "stream",
     "text": [
      "tensor([0, 1, 2, 3, 4])\n",
      "tensor([-10,  -7,  -4,  -1,   2,   5,   8])\n"
     ]
    }
   ],
   "source": [
    "#arrange function\n",
    "import torch\n",
    "\n",
    "torch_arange = torch.arange(5)\n",
    "print(torch_arange)\n",
    "\n",
    "torch_arrange_2 = torch.arange(-10, 10, 3)\n",
    "print(torch_arrange_2)\n",
    "\n",
    "torch_arrange_2 = torch.arange(-10, 10, 3)\n",
    "print(torch_arrange_2)"
   ]
  },
  {
   "cell_type": "code",
   "execution_count": null,
   "metadata": {
    "colab": {
     "base_uri": "https://localhost:8080/"
    },
    "executionInfo": {
     "elapsed": 6,
     "status": "ok",
     "timestamp": 1665719744923,
     "user": {
      "displayName": "Tiềm Đình",
      "userId": "05726324356439983752"
     },
     "user_tz": -420
    },
    "id": "mr7-dSdsmdnX",
    "outputId": "8ee24ef8-6d5f-440d-e6d0-c6e5a5a86f3b"
   },
   "outputs": [
    {
     "data": {
      "text/plain": [
       "tensor([[1., 0., 0.],\n",
       "        [0., 1., 0.],\n",
       "        [0., 0., 1.]])"
      ]
     },
     "execution_count": 63,
     "metadata": {},
     "output_type": "execute_result"
    }
   ],
   "source": [
    "#Tao 1 tensor voi duong cheo chinh la so 1, cac phan tu con lai =0\n",
    "import torch\n",
    "\n",
    "torch_eye = torch.eye(3,3)\n",
    "torch_eye"
   ]
  },
  {
   "cell_type": "code",
   "execution_count": null,
   "metadata": {
    "colab": {
     "base_uri": "https://localhost:8080/"
    },
    "executionInfo": {
     "elapsed": 5,
     "status": "ok",
     "timestamp": 1665719826319,
     "user": {
      "displayName": "Tiềm Đình",
      "userId": "05726324356439983752"
     },
     "user_tz": -420
    },
    "id": "CS-Z780uohk3",
    "outputId": "1721aa5b-3128-429c-ae26-af6ceb38a74f"
   },
   "outputs": [
    {
     "name": "stdout",
     "output_type": "stream",
     "text": [
      "tensor([[0.7824, 0.8800, 0.8176],\n",
      "        [0.8380, 0.3435, 0.5907]])\n"
     ]
    }
   ],
   "source": [
    "#Tao 1 tensor voi cac gia tri ngau nhien\n",
    "import torch\n",
    "\n",
    "torch_random = torch.rand((2, 3))\n",
    "print(torch_random)\n"
   ]
  },
  {
   "cell_type": "markdown",
   "metadata": {
    "id": "CKvcUlj1o_BL"
   },
   "source": [
    "### Some important functions"
   ]
  },
  {
   "cell_type": "markdown",
   "metadata": {
    "id": "2IK3JBU1QLWg"
   },
   "source": [
    "#### Clip"
   ]
  },
  {
   "cell_type": "code",
   "execution_count": null,
   "metadata": {
    "colab": {
     "base_uri": "https://localhost:8080/"
    },
    "executionInfo": {
     "elapsed": 9,
     "status": "ok",
     "timestamp": 1665720165962,
     "user": {
      "displayName": "Tiềm Đình",
      "userId": "05726324356439983752"
     },
     "user_tz": -420
    },
    "id": "bomQGa3Vo3My",
    "outputId": "21713857-d48c-4cae-9ee3-abb0446f7afe"
   },
   "outputs": [
    {
     "name": "stdout",
     "output_type": "stream",
     "text": [
      "tensor([[-59,  94,  41],\n",
      "        [-93,  58, -99],\n",
      "        [ 31, -37,  30]])\n",
      "tensor([[1, 4, 4],\n",
      "        [1, 4, 1],\n",
      "        [4, 1, 4]])\n"
     ]
    }
   ],
   "source": [
    "#clip\n",
    "import torch\n",
    "\n",
    "torch_random = torch.randint(-100,100,(3,3))\n",
    "print(torch_random)\n",
    "\n",
    "torch_clip = torch.clip(torch_random, min=1, max=4)\n",
    "print(torch_clip)"
   ]
  },
  {
   "cell_type": "code",
   "execution_count": null,
   "metadata": {
    "colab": {
     "base_uri": "https://localhost:8080/"
    },
    "executionInfo": {
     "elapsed": 511,
     "status": "ok",
     "timestamp": 1665721564686,
     "user": {
      "displayName": "Tiềm Đình",
      "userId": "05726324356439983752"
     },
     "user_tz": -420
    },
    "id": "hgs30Avupp9r",
    "outputId": "500668c4-6b52-4467-856b-4e5d2178a79a"
   },
   "outputs": [
    {
     "name": "stdout",
     "output_type": "stream",
     "text": [
      "tensor([ 1,  4,  9, -2,  4])\n"
     ]
    }
   ],
   "source": [
    "import torch\n",
    "data = torch.tensor([1, 2, 3, 4, 5])\n",
    "min_list = [1, 4, 9, -19, 3]\n",
    "max_list = [9, 10, 11, -2, 4]\n",
    "#clip value\n",
    "results = np.clip(data, a_min = min_list, a_max= max_list)\n",
    "print(results)"
   ]
  },
  {
   "cell_type": "markdown",
   "metadata": {
    "id": "11KEpIwPQUfx"
   },
   "source": [
    "#### hstask"
   ]
  },
  {
   "cell_type": "code",
   "execution_count": null,
   "metadata": {
    "colab": {
     "base_uri": "https://localhost:8080/"
    },
    "executionInfo": {
     "elapsed": 5,
     "status": "ok",
     "timestamp": 1665722984851,
     "user": {
      "displayName": "Tiềm Đình",
      "userId": "05726324356439983752"
     },
     "user_tz": -420
    },
    "id": "-xrfUE80tpSA",
    "outputId": "20ba9010-f994-4a29-de5d-4790972778e8"
   },
   "outputs": [
    {
     "name": "stdout",
     "output_type": "stream",
     "text": [
      "torch1: tensor([1, 2, 3])\n",
      "torch2: tensor([4, 5, 6])\n",
      "results tensor([ 1,  4,  9, -2,  4])\n"
     ]
    }
   ],
   "source": [
    "#hstack(horizontal stack)  Ket hop tensor theo chieu ngang\n",
    "torch1 = torch.tensor([1, 2, 3])\n",
    "torch2 = torch.tensor([4, 5, 6])\n",
    "\n",
    "result = torch.hstack((torch1, torch2))\n",
    "print(\"torch1:\", torch1)\n",
    "print(\"torch2:\", torch2)\n",
    "print(\"results\", results)\n"
   ]
  },
  {
   "cell_type": "code",
   "execution_count": null,
   "metadata": {
    "colab": {
     "base_uri": "https://localhost:8080/"
    },
    "executionInfo": {
     "elapsed": 3,
     "status": "ok",
     "timestamp": 1665723248161,
     "user": {
      "displayName": "Tiềm Đình",
      "userId": "05726324356439983752"
     },
     "user_tz": -420
    },
    "id": "Ji5e78ZC12sY",
    "outputId": "77516247-958f-4eab-d629-c18cdbe87a71"
   },
   "outputs": [
    {
     "data": {
      "text/plain": [
       "tensor([[1, 4],\n",
       "        [2, 5],\n",
       "        [3, 6]])"
      ]
     },
     "execution_count": 88,
     "metadata": {},
     "output_type": "execute_result"
    }
   ],
   "source": [
    "#hstack \n",
    "a = torch.tensor([[1],[2],[3]])\n",
    "b = torch.tensor([[4],[5],[6]])\n",
    "torch.hstack((a,b))"
   ]
  },
  {
   "cell_type": "markdown",
   "metadata": {
    "id": "DeEaS_uwQYcy"
   },
   "source": [
    "#### vstack"
   ]
  },
  {
   "cell_type": "code",
   "execution_count": null,
   "metadata": {
    "colab": {
     "base_uri": "https://localhost:8080/"
    },
    "executionInfo": {
     "elapsed": 345,
     "status": "ok",
     "timestamp": 1665723277487,
     "user": {
      "displayName": "Tiềm Đình",
      "userId": "05726324356439983752"
     },
     "user_tz": -420
    },
    "id": "Lx1xKh2M0leJ",
    "outputId": "9d04f5ad-cd42-4805-879d-22900cb1dfb0"
   },
   "outputs": [
    {
     "name": "stdout",
     "output_type": "stream",
     "text": [
      "torch1: tensor([1, 2, 3])\n",
      "torch2: tensor([4, 5, 6])\n",
      "results tensor([[1, 2, 3],\n",
      "        [4, 5, 6]])\n"
     ]
    }
   ],
   "source": [
    "#vstack(vertical stack) ket hop tensor theo chieu doc\n",
    "torch1 = torch.tensor([1, 2, 3])\n",
    "torch2 = torch.tensor([4, 5, 6])\n",
    "\n",
    "results = torch.vstack((torch1, torch2))\n",
    "print(\"torch1:\", torch1)\n",
    "print(\"torch2:\", torch2)\n",
    "print(\"results\", results)"
   ]
  },
  {
   "cell_type": "code",
   "execution_count": null,
   "metadata": {
    "colab": {
     "base_uri": "https://localhost:8080/"
    },
    "executionInfo": {
     "elapsed": 7,
     "status": "ok",
     "timestamp": 1665723320415,
     "user": {
      "displayName": "Tiềm Đình",
      "userId": "05726324356439983752"
     },
     "user_tz": -420
    },
    "id": "XUOhLhcx1W0s",
    "outputId": "eb03894c-b791-45c9-898f-f0465b3da811"
   },
   "outputs": [
    {
     "data": {
      "text/plain": [
       "tensor([[1],\n",
       "        [2],\n",
       "        [3],\n",
       "        [4],\n",
       "        [5],\n",
       "        [6]])"
      ]
     },
     "execution_count": 90,
     "metadata": {},
     "output_type": "execute_result"
    }
   ],
   "source": [
    "#vstack \n",
    "a = torch.tensor([[1],[2],[3]])\n",
    "b = torch.tensor([[4],[5],[6]])\n",
    "torch.vstack((a,b))"
   ]
  },
  {
   "cell_type": "markdown",
   "metadata": {
    "id": "e22C9JynQghc"
   },
   "source": [
    "#### concatenate\n"
   ]
  },
  {
   "cell_type": "code",
   "execution_count": null,
   "metadata": {
    "colab": {
     "base_uri": "https://localhost:8080/"
    },
    "executionInfo": {
     "elapsed": 309,
     "status": "ok",
     "timestamp": 1665730120356,
     "user": {
      "displayName": "Tiềm Đình",
      "userId": "05726324356439983752"
     },
     "user_tz": -420
    },
    "id": "w5RJM07e2MXG",
    "outputId": "962cc009-eb47-4749-e9f9-6d1a999e8d82"
   },
   "outputs": [
    {
     "name": "stdout",
     "output_type": "stream",
     "text": [
      "tensor 1: tensor([[1., 1., 1., 1.],\n",
      "        [1., 1., 1., 1.],\n",
      "        [1., 1., 1., 1.]])\n",
      "tensor 2: tensor([[0., 0., 0., 0.],\n",
      "        [0., 0., 0., 0.],\n",
      "        [0., 0., 0., 0.]])\n",
      "concanate_tensor: tensor([[1., 1., 1., 1.],\n",
      "        [1., 1., 1., 1.],\n",
      "        [1., 1., 1., 1.],\n",
      "        [0., 0., 0., 0.],\n",
      "        [0., 0., 0., 0.],\n",
      "        [0., 0., 0., 0.]])\n",
      "concanate_tensor: tensor([[1., 1., 1., 1., 0., 0., 0., 0.],\n",
      "        [1., 1., 1., 1., 0., 0., 0., 0.],\n",
      "        [1., 1., 1., 1., 0., 0., 0., 0.]])\n"
     ]
    }
   ],
   "source": [
    "#concatenate Noi hai tensor theo chieu ngang hoac chieu doc\n",
    "tensor1 = torch.ones((3,4))\n",
    "print(\"tensor 1:\", tensor1)\n",
    "\n",
    "tensor2 = torch.zeros((3,4))\n",
    "print(\"tensor 2:\", tensor2)\n",
    "\n",
    "#Noi theo chieu doc\n",
    "concanate_tensor = torch.concat((tensor1, tensor2), 0)\n",
    "print(\"concanate_tensor:\",concanate_tensor)\n",
    "\n",
    "#Noi theo chieu ngang\n",
    "concanate_tensor = torch.concat((tensor1, tensor2), 1)\n",
    "print(\"concanate_tensor:\",concanate_tensor)"
   ]
  },
  {
   "cell_type": "code",
   "execution_count": null,
   "metadata": {
    "colab": {
     "base_uri": "https://localhost:8080/",
     "height": 269
    },
    "executionInfo": {
     "elapsed": 306,
     "status": "error",
     "timestamp": 1665730486828,
     "user": {
      "displayName": "Tiềm Đình",
      "userId": "05726324356439983752"
     },
     "user_tz": -420
    },
    "id": "4n_KWlhCRRqN",
    "outputId": "e1602456-1ddf-4ff9-ca38-5ad14bfbe546"
   },
   "outputs": [
    {
     "name": "stdout",
     "output_type": "stream",
     "text": [
      "tensor 1: tensor([1., 1., 1.])\n",
      "tensor 2: tensor([0., 0., 0.])\n",
      "concanate_tensor: tensor([1., 1., 1., 0., 0., 0.])\n"
     ]
    },
    {
     "ename": "IndexError",
     "evalue": "ignored",
     "output_type": "error",
     "traceback": [
      "\u001b[0;31m---------------------------------------------------------------------------\u001b[0m",
      "\u001b[0;31mIndexError\u001b[0m                                Traceback (most recent call last)",
      "\u001b[0;32m<ipython-input-100-e005f2034e5e>\u001b[0m in \u001b[0;36m<module>\u001b[0;34m\u001b[0m\n\u001b[1;32m     10\u001b[0m \u001b[0;34m\u001b[0m\u001b[0m\n\u001b[1;32m     11\u001b[0m \u001b[0;31m#Noi theo chieu ngang\u001b[0m\u001b[0;34m\u001b[0m\u001b[0;34m\u001b[0m\u001b[0;34m\u001b[0m\u001b[0m\n\u001b[0;32m---> 12\u001b[0;31m \u001b[0mconcanate_tensor\u001b[0m \u001b[0;34m=\u001b[0m \u001b[0mtorch\u001b[0m\u001b[0;34m.\u001b[0m\u001b[0mconcat\u001b[0m\u001b[0;34m(\u001b[0m\u001b[0;34m(\u001b[0m\u001b[0mtensor1\u001b[0m\u001b[0;34m,\u001b[0m \u001b[0mtensor2\u001b[0m\u001b[0;34m)\u001b[0m\u001b[0;34m,\u001b[0m \u001b[0;36m1\u001b[0m\u001b[0;34m)\u001b[0m\u001b[0;34m\u001b[0m\u001b[0;34m\u001b[0m\u001b[0m\n\u001b[0m\u001b[1;32m     13\u001b[0m \u001b[0mprint\u001b[0m\u001b[0;34m(\u001b[0m\u001b[0;34m\"concanate_tensor:\"\u001b[0m\u001b[0;34m,\u001b[0m\u001b[0mconcanate_tensor\u001b[0m\u001b[0;34m)\u001b[0m\u001b[0;34m\u001b[0m\u001b[0;34m\u001b[0m\u001b[0m\n",
      "\u001b[0;31mIndexError\u001b[0m: Dimension out of range (expected to be in range of [-1, 0], but got 1)"
     ]
    }
   ],
   "source": [
    "tensor1 = torch.ones((3,))\n",
    "print(\"tensor 1:\", tensor1)\n",
    "\n",
    "tensor2 = torch.zeros((3,))\n",
    "print(\"tensor 2:\", tensor2)\n",
    "\n",
    "#Noi theo chieu doc\n",
    "concanate_tensor = torch.concat((tensor1, tensor2), 0)\n",
    "print(\"concanate_tensor:\",concanate_tensor)\n",
    "\n",
    "#Noi theo chieu ngang\n",
    "concanate_tensor = torch.concat((tensor1, tensor2), 1)\n",
    "print(\"concanate_tensor:\",concanate_tensor)"
   ]
  },
  {
   "cell_type": "markdown",
   "metadata": {
    "id": "IKSrN6uqQ5Sy"
   },
   "source": [
    "5. Add more dimensions"
   ]
  },
  {
   "cell_type": "code",
   "execution_count": null,
   "metadata": {
    "colab": {
     "base_uri": "https://localhost:8080/"
    },
    "executionInfo": {
     "elapsed": 423,
     "status": "ok",
     "timestamp": 1665731772782,
     "user": {
      "displayName": "Tiềm Đình",
      "userId": "05726324356439983752"
     },
     "user_tz": -420
    },
    "id": "tOboHT0QPjoF",
    "outputId": "d39f5f10-d23f-44fe-dece-3eaa409fe974"
   },
   "outputs": [
    {
     "name": "stdout",
     "output_type": "stream",
     "text": [
      "tensor([0.9804, 0.7677, 0.8093]) torch.Size([3])\n",
      "torch.Size([1, 3])\n"
     ]
    }
   ],
   "source": [
    "t1 = torch.rand((3,))\n",
    "print(t1, t1.shape)\n",
    "\n",
    "#Cach 1: Su dung None de lap chi muc\n",
    "\n",
    "# 1D--->2D\n",
    "t1 = t1[None,:]\n",
    "print(t1.shape)"
   ]
  },
  {
   "cell_type": "code",
   "execution_count": null,
   "metadata": {
    "colab": {
     "base_uri": "https://localhost:8080/"
    },
    "executionInfo": {
     "elapsed": 426,
     "status": "ok",
     "timestamp": 1665731831015,
     "user": {
      "displayName": "Tiềm Đình",
      "userId": "05726324356439983752"
     },
     "user_tz": -420
    },
    "id": "KJSLQxnUT4AL",
    "outputId": "4f81206c-1c04-470f-9370-520c1d4fc4f6"
   },
   "outputs": [
    {
     "name": "stdout",
     "output_type": "stream",
     "text": [
      "tensor([0.8026, 0.6325, 0.8382]) torch.Size([3])\n",
      "torch.Size([1, 1, 3])\n"
     ]
    }
   ],
   "source": [
    "# 1D--->3D\n",
    "t1 = torch.rand((3,))\n",
    "print(t1, t1.shape)\n",
    "t1 = t1[None,None]\n",
    "print(t1.shape)"
   ]
  },
  {
   "cell_type": "code",
   "execution_count": null,
   "metadata": {
    "colab": {
     "base_uri": "https://localhost:8080/"
    },
    "executionInfo": {
     "elapsed": 542,
     "status": "ok",
     "timestamp": 1665731862957,
     "user": {
      "displayName": "Tiềm Đình",
      "userId": "05726324356439983752"
     },
     "user_tz": -420
    },
    "id": "QIAMjQRFWoAr",
    "outputId": "76c4aa89-7bff-49ba-9928-4a76132870b4"
   },
   "outputs": [
    {
     "name": "stdout",
     "output_type": "stream",
     "text": [
      "tensor([0.3964, 0.1056, 0.3091]) torch.Size([3])\n",
      "torch.Size([3, 1, 1])\n"
     ]
    }
   ],
   "source": [
    "#1D--->3D\n",
    "t1 = torch.rand((3,))\n",
    "print(t1, t1.shape)\n",
    "\n",
    "t1 = t1[:, None,None]\n",
    "print(t1.shape)"
   ]
  },
  {
   "cell_type": "code",
   "execution_count": null,
   "metadata": {
    "colab": {
     "base_uri": "https://localhost:8080/"
    },
    "executionInfo": {
     "elapsed": 481,
     "status": "ok",
     "timestamp": 1665732299033,
     "user": {
      "displayName": "Tiềm Đình",
      "userId": "05726324356439983752"
     },
     "user_tz": -420
    },
    "id": "Shuhc2ffX9O9",
    "outputId": "d7efb96d-b52c-4070-e842-5bf1ba80ecd4"
   },
   "outputs": [
    {
     "name": "stdout",
     "output_type": "stream",
     "text": [
      "1D------->2D\n",
      "tensor([0.7706, 0.9095, 0.2699]) torch.Size([3])\n",
      "torch.Size([1, 3])\n",
      "2D------->3D\n",
      "torch.Size([1, 1, 3])\n",
      "3D------->5D\n",
      "torch.Size([1, 1, 1, 1, 3])\n"
     ]
    }
   ],
   "source": [
    "# 1D--->2D\n",
    "print(\"1D------->2D\")\n",
    "t1 = torch.rand((3,))\n",
    "print(t1, t1.shape)\n",
    "t1 = t1[None,:]\n",
    "print(t1.shape)\n",
    "\n",
    "print(\"2D------->3D\")\n",
    "t1 = t1[None,:]\n",
    "print(t1.shape)\n",
    "\n",
    "print(\"3D------->5D\")\n",
    "t1 = t1[None,None,:]\n",
    "print(t1.shape)"
   ]
  },
  {
   "cell_type": "code",
   "execution_count": null,
   "metadata": {
    "colab": {
     "base_uri": "https://localhost:8080/"
    },
    "executionInfo": {
     "elapsed": 411,
     "status": "ok",
     "timestamp": 1665732666763,
     "user": {
      "displayName": "Tiềm Đình",
      "userId": "05726324356439983752"
     },
     "user_tz": -420
    },
    "id": "BJrTVhR4Wx20",
    "outputId": "fbe3dd90-14f9-4fa5-e9f3-1a1a2833d51c"
   },
   "outputs": [
    {
     "name": "stdout",
     "output_type": "stream",
     "text": [
      "torch.Size([16])\n",
      "torch.Size([1, 16])\n",
      "torch.Size([1, 16, 1])\n"
     ]
    }
   ],
   "source": [
    "#Cach 2: su dung PyTorch Unsqueeze\n",
    "# 1D--->2D\n",
    "x = torch.randn(16)\n",
    "print(x.shape)\n",
    "x = torch.unsqueeze(x, dim=0)\n",
    "print(x.shape)\n",
    "\n",
    "# 2D--->3D\n",
    "x = torch.unsqueeze(x, dim=(2))\n",
    "print(x.shape)"
   ]
  },
  {
   "cell_type": "code",
   "execution_count": null,
   "metadata": {
    "colab": {
     "base_uri": "https://localhost:8080/"
    },
    "executionInfo": {
     "elapsed": 470,
     "status": "ok",
     "timestamp": 1665732751435,
     "user": {
      "displayName": "Tiềm Đình",
      "userId": "05726324356439983752"
     },
     "user_tz": -420
    },
    "id": "GT63yl-SXEge",
    "outputId": "7ef3f374-1459-4a67-93cb-7c97b531420d"
   },
   "outputs": [
    {
     "name": "stdout",
     "output_type": "stream",
     "text": [
      "torch.Size([16])\n",
      "torch.Size([16, 1])\n"
     ]
    }
   ],
   "source": [
    "# Them 1 chieu vao cuoi\n",
    "x = torch.randn(16)\n",
    "print(x.shape)\n",
    "x = torch.unsqueeze(x, dim=-1)\n",
    "print(x.shape)"
   ]
  },
  {
   "cell_type": "markdown",
   "metadata": {
    "id": "_OI7hx5lg9mm"
   },
   "source": [
    "6. Apply along axis function\n",
    "Note: Ham nay khong co san"
   ]
  },
  {
   "cell_type": "code",
   "execution_count": null,
   "metadata": {
    "id": "MWXuS5cg3VJR"
   },
   "outputs": [],
   "source": [
    "t1 = torch.rand((3,3))"
   ]
  },
  {
   "cell_type": "code",
   "execution_count": null,
   "metadata": {
    "colab": {
     "base_uri": "https://localhost:8080/"
    },
    "executionInfo": {
     "elapsed": 497,
     "status": "ok",
     "timestamp": 1665740554876,
     "user": {
      "displayName": "Tiềm Đình",
      "userId": "05726324356439983752"
     },
     "user_tz": -420
    },
    "id": "FoFQYdmX364M",
    "outputId": "44157a9e-88a1-4913-921c-ecd501bb3c02"
   },
   "outputs": [
    {
     "name": "stdout",
     "output_type": "stream",
     "text": [
      "tensor([[0.0890, 0.5005, 0.3961],\n",
      "        [0.6825, 0.1086, 0.6724],\n",
      "        [0.0888, 0.0994, 0.2383]])\n"
     ]
    }
   ],
   "source": [
    "print(t1)"
   ]
  },
  {
   "cell_type": "code",
   "execution_count": null,
   "metadata": {
    "colab": {
     "base_uri": "https://localhost:8080/"
    },
    "executionInfo": {
     "elapsed": 10,
     "status": "ok",
     "timestamp": 1665740597669,
     "user": {
      "displayName": "Tiềm Đình",
      "userId": "05726324356439983752"
     },
     "user_tz": -420
    },
    "id": "ztKhbbxPkrcJ",
    "outputId": "dd668de7-9b84-4da4-b676-5dc69431f2af"
   },
   "outputs": [
    {
     "name": "stdout",
     "output_type": "stream",
     "text": [
      "[[0.9680993  0.01273572 0.21204251]\n",
      " [0.12959105 0.19527131 0.65940005]\n",
      " [0.11239374 0.72365487 0.1455617 ]]\n",
      "[[[0.9680993  0.         0.        ]\n",
      "  [0.         0.01273572 0.        ]\n",
      "  [0.         0.         0.21204251]]\n",
      "\n",
      " [[0.12959105 0.         0.        ]\n",
      "  [0.         0.19527131 0.        ]\n",
      "  [0.         0.         0.65940005]]\n",
      "\n",
      " [[0.11239374 0.         0.        ]\n",
      "  [0.         0.72365487 0.        ]\n",
      "  [0.         0.         0.1455617 ]]]\n"
     ]
    }
   ],
   "source": [
    "t2 = t1.numpy()\n",
    "print(t2)\n",
    "t3 = np.apply_along_axis(np.diag, -1, t2)\n",
    "print(t3)"
   ]
  },
  {
   "cell_type": "code",
   "execution_count": null,
   "metadata": {
    "colab": {
     "base_uri": "https://localhost:8080/"
    },
    "executionInfo": {
     "elapsed": 480,
     "status": "ok",
     "timestamp": 1665740666061,
     "user": {
      "displayName": "Tiềm Đình",
      "userId": "05726324356439983752"
     },
     "user_tz": -420
    },
    "id": "gL-yFINNlN_G",
    "outputId": "90e5a692-ca5f-4eb0-980d-13f0e65f5bad"
   },
   "outputs": [
    {
     "name": "stdout",
     "output_type": "stream",
     "text": [
      "tensor([[[0.9681, 0.0000, 0.0000],\n",
      "         [0.0000, 0.0127, 0.0000],\n",
      "         [0.0000, 0.0000, 0.2120]],\n",
      "\n",
      "        [[0.1296, 0.0000, 0.0000],\n",
      "         [0.0000, 0.1953, 0.0000],\n",
      "         [0.0000, 0.0000, 0.6594]],\n",
      "\n",
      "        [[0.1124, 0.0000, 0.0000],\n",
      "         [0.0000, 0.7237, 0.0000],\n",
      "         [0.0000, 0.0000, 0.1456]]])\n"
     ]
    }
   ],
   "source": [
    "t1 = torch.from_numpy(t3)\n",
    "print(t1)"
   ]
  },
  {
   "cell_type": "markdown",
   "metadata": {
    "id": "YOifROPlmGe5"
   },
   "source": [
    "7 Compare"
   ]
  },
  {
   "cell_type": "code",
   "execution_count": null,
   "metadata": {
    "colab": {
     "base_uri": "https://localhost:8080/"
    },
    "executionInfo": {
     "elapsed": 305,
     "status": "ok",
     "timestamp": 1665741217557,
     "user": {
      "displayName": "Tiềm Đình",
      "userId": "05726324356439983752"
     },
     "user_tz": -420
    },
    "id": "1SxyANNhmIGL",
    "outputId": "60e983dc-f613-40c6-f095-efa6ae889c9a"
   },
   "outputs": [
    {
     "name": "stdout",
     "output_type": "stream",
     "text": [
      "tensor([-5,  9,  7, -9,  9, -6, -2,  4,  0, -1, -6, -4,  8, -4, -1,  0,  5, -9,\n",
      "        -5,  6])\n",
      "tensor([ -9, -10,   5,   4,   0,  -4,   9,  -7,   9,   8,   2,   7,  -3,   9,\n",
      "         -2,  -1,  -7,   3,   5,  -8])\n"
     ]
    }
   ],
   "source": [
    "import torch\n",
    "\n",
    "t1 = torch.randint(-10, 10, (20,))\n",
    "print(t1)\n",
    "t2 = torch.randint(-10, 10, (20,))\n",
    "print(t2)"
   ]
  },
  {
   "cell_type": "code",
   "execution_count": null,
   "metadata": {
    "id": "0ASGA151mtxK"
   },
   "outputs": [],
   "source": [
    "def compare(a, b):\n",
    "  if a>=b:\n",
    "    return 0\n",
    "  else:\n",
    "    return 1"
   ]
  },
  {
   "cell_type": "code",
   "execution_count": null,
   "metadata": {
    "colab": {
     "base_uri": "https://localhost:8080/"
    },
    "executionInfo": {
     "elapsed": 3,
     "status": "ok",
     "timestamp": 1665741233730,
     "user": {
      "displayName": "Tiềm Đình",
      "userId": "05726324356439983752"
     },
     "user_tz": -420
    },
    "id": "slcREbRvvvxu",
    "outputId": "14cfed01-73d7-4f18-bdb7-f6ffb05f0bf7"
   },
   "outputs": [
    {
     "data": {
      "text/plain": [
       "1"
      ]
     },
     "execution_count": 198,
     "metadata": {},
     "output_type": "execute_result"
    }
   ],
   "source": [
    "compare(1, 2)"
   ]
  },
  {
   "cell_type": "code",
   "execution_count": null,
   "metadata": {
    "colab": {
     "base_uri": "https://localhost:8080/",
     "height": 287
    },
    "executionInfo": {
     "elapsed": 7,
     "status": "error",
     "timestamp": 1665741235753,
     "user": {
      "displayName": "Tiềm Đình",
      "userId": "05726324356439983752"
     },
     "user_tz": -420
    },
    "id": "AnDh4Xqj4gN2",
    "outputId": "3cc3c728-0002-410d-b151-ca4438dcdca8"
   },
   "outputs": [
    {
     "ename": "RuntimeError",
     "evalue": "ignored",
     "output_type": "error",
     "traceback": [
      "\u001b[0;31m---------------------------------------------------------------------------\u001b[0m",
      "\u001b[0;31mRuntimeError\u001b[0m                              Traceback (most recent call last)",
      "\u001b[0;32m<ipython-input-199-c5b54bbd9eac>\u001b[0m in \u001b[0;36m<module>\u001b[0;34m\u001b[0m\n\u001b[0;32m----> 1\u001b[0;31m \u001b[0mcompare\u001b[0m\u001b[0;34m(\u001b[0m\u001b[0mt1\u001b[0m\u001b[0;34m,\u001b[0m \u001b[0mt2\u001b[0m\u001b[0;34m)\u001b[0m\u001b[0;34m\u001b[0m\u001b[0;34m\u001b[0m\u001b[0m\n\u001b[0m",
      "\u001b[0;32m<ipython-input-197-af68bb2f55b6>\u001b[0m in \u001b[0;36mcompare\u001b[0;34m(a, b)\u001b[0m\n\u001b[1;32m      1\u001b[0m \u001b[0;32mdef\u001b[0m \u001b[0mcompare\u001b[0m\u001b[0;34m(\u001b[0m\u001b[0ma\u001b[0m\u001b[0;34m,\u001b[0m \u001b[0mb\u001b[0m\u001b[0;34m)\u001b[0m\u001b[0;34m:\u001b[0m\u001b[0;34m\u001b[0m\u001b[0;34m\u001b[0m\u001b[0m\n\u001b[0;32m----> 2\u001b[0;31m   \u001b[0;32mif\u001b[0m \u001b[0ma\u001b[0m\u001b[0;34m>=\u001b[0m\u001b[0mb\u001b[0m\u001b[0;34m:\u001b[0m\u001b[0;34m\u001b[0m\u001b[0;34m\u001b[0m\u001b[0m\n\u001b[0m\u001b[1;32m      3\u001b[0m     \u001b[0;32mreturn\u001b[0m \u001b[0;36m0\u001b[0m\u001b[0;34m\u001b[0m\u001b[0;34m\u001b[0m\u001b[0m\n\u001b[1;32m      4\u001b[0m   \u001b[0;32melse\u001b[0m\u001b[0;34m:\u001b[0m\u001b[0;34m\u001b[0m\u001b[0;34m\u001b[0m\u001b[0m\n\u001b[1;32m      5\u001b[0m     \u001b[0;32mreturn\u001b[0m \u001b[0;36m1\u001b[0m\u001b[0;34m\u001b[0m\u001b[0;34m\u001b[0m\u001b[0m\n",
      "\u001b[0;31mRuntimeError\u001b[0m: Boolean value of Tensor with more than one value is ambiguous"
     ]
    }
   ],
   "source": [
    "compare(t1, t2)"
   ]
  },
  {
   "cell_type": "code",
   "execution_count": null,
   "metadata": {
    "colab": {
     "base_uri": "https://localhost:8080/"
    },
    "executionInfo": {
     "elapsed": 471,
     "status": "ok",
     "timestamp": 1665741248782,
     "user": {
      "displayName": "Tiềm Đình",
      "userId": "05726324356439983752"
     },
     "user_tz": -420
    },
    "id": "C1BJC99evyUm",
    "outputId": "b741ee16-aae7-4b9b-a794-423410f42f5e"
   },
   "outputs": [
    {
     "name": "stdout",
     "output_type": "stream",
     "text": [
      "[0 0 0 1 0 1 1 0 1 1 1 1 0 1 0 0 0 1 1 0]\n"
     ]
    }
   ],
   "source": [
    "compare_vec = np.vectorize(compare)\n",
    "\n",
    "t1_to_np = t1.numpy()\n",
    "t2_to_np = t2.numpy()\n",
    "\n",
    "results = compare_vec(t1_to_np, t2_to_np)\n",
    "print(results)"
   ]
  },
  {
   "cell_type": "code",
   "execution_count": null,
   "metadata": {
    "id": "cLE0_pJM6gbo"
   },
   "outputs": [],
   "source": [
    "results_tensor = torch.from_numpy(results)"
   ]
  },
  {
   "cell_type": "code",
   "execution_count": null,
   "metadata": {
    "colab": {
     "base_uri": "https://localhost:8080/"
    },
    "executionInfo": {
     "elapsed": 375,
     "status": "ok",
     "timestamp": 1665741303338,
     "user": {
      "displayName": "Tiềm Đình",
      "userId": "05726324356439983752"
     },
     "user_tz": -420
    },
    "id": "oUGxGZ-_wTKk",
    "outputId": "5a4368a4-4fb8-465f-f267-13d65072a908"
   },
   "outputs": [
    {
     "data": {
      "text/plain": [
       "tensor([0, 0, 0, 1, 0, 1, 1, 0, 1, 1, 1, 1, 0, 1, 0, 0, 0, 1, 1, 0])"
      ]
     },
     "execution_count": 203,
     "metadata": {},
     "output_type": "execute_result"
    }
   ],
   "source": [
    "results_tensor"
   ]
  },
  {
   "cell_type": "code",
   "execution_count": null,
   "metadata": {
    "id": "gGnJdkMP6yre"
   },
   "outputs": [],
   "source": []
  },
  {
   "cell_type": "markdown",
   "metadata": {
    "id": "8DtuhSwl8B45"
   },
   "source": [
    "#### Where, flatten, reshape"
   ]
  },
  {
   "cell_type": "code",
   "execution_count": null,
   "metadata": {
    "colab": {
     "base_uri": "https://localhost:8080/"
    },
    "executionInfo": {
     "elapsed": 407,
     "status": "ok",
     "timestamp": 1665742007783,
     "user": {
      "displayName": "Tiềm Đình",
      "userId": "05726324356439983752"
     },
     "user_tz": -420
    },
    "id": "REnfjYf28Gm8",
    "outputId": "51ad7f7d-618b-4ed8-8475-b58a4830e39e"
   },
   "outputs": [
    {
     "name": "stdout",
     "output_type": "stream",
     "text": [
      "tensor([[ True,  True,  True,  True],\n",
      "        [False,  True, False,  True],\n",
      "        [ True,  True, False,  True]])\n",
      "tensor([[ 0,  0,  0,  0],\n",
      "        [10,  0, 20,  0],\n",
      "        [ 0,  0, 48,  0]])\n"
     ]
    }
   ],
   "source": [
    "import torch\n",
    "\n",
    "#Tao 1 tensor\n",
    "t = torch.tensor([[1, 2, 3, 4],\n",
    "                  [5, 1, 10, -9],\n",
    "                  [1, 3, 24, -6]])\n",
    "#condition\n",
    "condition = t<5\n",
    "print(condition)\n",
    "\n",
    "#where\n",
    "out = torch.where(condition, 0, t*2)\n",
    "print(out)"
   ]
  },
  {
   "cell_type": "code",
   "execution_count": null,
   "metadata": {
    "colab": {
     "base_uri": "https://localhost:8080/"
    },
    "executionInfo": {
     "elapsed": 351,
     "status": "ok",
     "timestamp": 1665742145480,
     "user": {
      "displayName": "Tiềm Đình",
      "userId": "05726324356439983752"
     },
     "user_tz": -420
    },
    "id": "5XIom1Zb87LI",
    "outputId": "db19be17-51f5-4ead-e67d-67580f2f6c37"
   },
   "outputs": [
    {
     "name": "stdout",
     "output_type": "stream",
     "text": [
      "tensor([[ 1,  2,  3,  4],\n",
      "        [ 5,  1, 10, -9],\n",
      "        [ 1,  3, 24, -6]])\n",
      "tensor([ 1,  2,  3,  4,  5,  1, 10, -9,  1,  3, 24, -6])\n"
     ]
    }
   ],
   "source": [
    "#flatten\n",
    "t = torch.tensor([[1, 2, 3, 4],\n",
    "                  [5, 1, 10, -9],\n",
    "                  [1, 3, 24, -6]])\n",
    "out = torch.flatten(t)\n",
    "print(t)\n",
    "print(out)"
   ]
  },
  {
   "cell_type": "code",
   "execution_count": null,
   "metadata": {
    "colab": {
     "base_uri": "https://localhost:8080/"
    },
    "executionInfo": {
     "elapsed": 398,
     "status": "ok",
     "timestamp": 1665742442977,
     "user": {
      "displayName": "Tiềm Đình",
      "userId": "05726324356439983752"
     },
     "user_tz": -420
    },
    "id": "HVZty8Jq-ASW",
    "outputId": "d6c500bc-f49d-44b5-bff5-8162257d2197"
   },
   "outputs": [
    {
     "name": "stdout",
     "output_type": "stream",
     "text": [
      "tensor([[1, 1, 1, 1],\n",
      "        [1, 1, 1, 1],\n",
      "        [1, 1, 1, 1]])\n",
      "torch.Size([3, 4])\n"
     ]
    }
   ],
   "source": [
    "#reshape\n",
    "t = torch.ones_like(t)\n",
    "print(t)\n",
    "print(t.shape)\n"
   ]
  },
  {
   "cell_type": "code",
   "execution_count": null,
   "metadata": {
    "colab": {
     "base_uri": "https://localhost:8080/"
    },
    "executionInfo": {
     "elapsed": 306,
     "status": "ok",
     "timestamp": 1665742473161,
     "user": {
      "displayName": "Tiềm Đình",
      "userId": "05726324356439983752"
     },
     "user_tz": -420
    },
    "id": "gfKCue6i-0OO",
    "outputId": "5af20a32-e115-4989-f42c-2676bc8b7cd4"
   },
   "outputs": [
    {
     "data": {
      "text/plain": [
       "tensor([[1, 1, 1],\n",
       "        [1, 1, 1],\n",
       "        [1, 1, 1],\n",
       "        [1, 1, 1]])"
      ]
     },
     "execution_count": 216,
     "metadata": {},
     "output_type": "execute_result"
    }
   ],
   "source": [
    "torch.reshape(t, (4,3))"
   ]
  },
  {
   "cell_type": "code",
   "execution_count": null,
   "metadata": {
    "colab": {
     "base_uri": "https://localhost:8080/"
    },
    "executionInfo": {
     "elapsed": 338,
     "status": "ok",
     "timestamp": 1665742488877,
     "user": {
      "displayName": "Tiềm Đình",
      "userId": "05726324356439983752"
     },
     "user_tz": -420
    },
    "id": "Hkd9kgsS_Odl",
    "outputId": "3eb81c08-d0de-4e3f-9830-a49719c90d88"
   },
   "outputs": [
    {
     "data": {
      "text/plain": [
       "tensor([[1, 1, 1, 1, 1, 1],\n",
       "        [1, 1, 1, 1, 1, 1]])"
      ]
     },
     "execution_count": 217,
     "metadata": {},
     "output_type": "execute_result"
    }
   ],
   "source": [
    "torch.reshape(t, (2,6))"
   ]
  },
  {
   "cell_type": "code",
   "execution_count": null,
   "metadata": {
    "colab": {
     "base_uri": "https://localhost:8080/"
    },
    "executionInfo": {
     "elapsed": 454,
     "status": "ok",
     "timestamp": 1665742500949,
     "user": {
      "displayName": "Tiềm Đình",
      "userId": "05726324356439983752"
     },
     "user_tz": -420
    },
    "id": "7J7c5hr9_UFe",
    "outputId": "aa4579ff-3f17-468f-99fc-a1413b90f696"
   },
   "outputs": [
    {
     "data": {
      "text/plain": [
       "tensor([[[1, 1, 1],\n",
       "         [1, 1, 1]],\n",
       "\n",
       "        [[1, 1, 1],\n",
       "         [1, 1, 1]]])"
      ]
     },
     "execution_count": 218,
     "metadata": {},
     "output_type": "execute_result"
    }
   ],
   "source": [
    "torch.reshape(t, (2, 2 ,3))"
   ]
  },
  {
   "cell_type": "code",
   "execution_count": null,
   "metadata": {
    "id": "T79OnbRD_XDC"
   },
   "outputs": [],
   "source": []
  },
  {
   "cell_type": "markdown",
   "metadata": {
    "id": "d_76G_zZANQw"
   },
   "source": [
    "# TENSOR INDEXING"
   ]
  },
  {
   "cell_type": "markdown",
   "metadata": {
    "id": "WARAHc87UpLk"
   },
   "source": [
    "## Slicing"
   ]
  },
  {
   "cell_type": "code",
   "execution_count": null,
   "metadata": {
    "colab": {
     "base_uri": "https://localhost:8080/"
    },
    "executionInfo": {
     "elapsed": 422,
     "status": "ok",
     "timestamp": 1665743138628,
     "user": {
      "displayName": "Tiềm Đình",
      "userId": "05726324356439983752"
     },
     "user_tz": -420
    },
    "id": "rbU-APCOAQts",
    "outputId": "8db3f051-92e8-4459-8c71-c5d95f7bf885"
   },
   "outputs": [
    {
     "name": "stdout",
     "output_type": "stream",
     "text": [
      "tensor([[-48,  63,  86],\n",
      "        [ 99,  23,  61],\n",
      "        [ 61, -24, -50]])\n",
      "tensor(63)\n",
      "tensor([ 63,  23, -24])\n",
      "tensor([-48])\n",
      "tensor([[-48,  63,  86],\n",
      "        [ 99,  23,  61],\n",
      "        [ 61, -24, -50]])\n"
     ]
    }
   ],
   "source": [
    "#slicing\n",
    "\n",
    "t1 = torch.randint(-100, 100, (3,3))\n",
    "print(t1)\n",
    "print(t1[0,1])\n",
    "print(t1[:, 1])\n",
    "print(t1[0:1, 0])\n",
    "print(t1[:,:])"
   ]
  },
  {
   "cell_type": "code",
   "execution_count": null,
   "metadata": {
    "colab": {
     "base_uri": "https://localhost:8080/"
    },
    "executionInfo": {
     "elapsed": 545,
     "status": "ok",
     "timestamp": 1665743869691,
     "user": {
      "displayName": "Tiềm Đình",
      "userId": "05726324356439983752"
     },
     "user_tz": -420
    },
    "id": "X4FAAdIBAdgC",
    "outputId": "234a9fc8-4538-44b9-82b2-3d77f3a7dadd"
   },
   "outputs": [
    {
     "name": "stdout",
     "output_type": "stream",
     "text": [
      "tensor([[1, 2, 3],\n",
      "        [5, 6, 7]])\n",
      "tensor([[2, 3],\n",
      "        [6, 7]])\n"
     ]
    }
   ],
   "source": [
    "#slicing\n",
    "import torch\n",
    "\n",
    "#Khoi tao 1 tensor\n",
    "t1 = torch.tensor([[1, 2, 3],\n",
    "                  [5, 6, 7]])\n",
    "#Su dung slicing de tao tensor t2 bang cach lay tat ca dong va cot\n",
    "t2 = t1[:, 1:3]\n",
    "\n",
    "print(t1)\n",
    "print(t2)"
   ]
  },
  {
   "cell_type": "code",
   "execution_count": null,
   "metadata": {
    "colab": {
     "base_uri": "https://localhost:8080/"
    },
    "executionInfo": {
     "elapsed": 299,
     "status": "ok",
     "timestamp": 1665744135608,
     "user": {
      "displayName": "Tiềm Đình",
      "userId": "05726324356439983752"
     },
     "user_tz": -420
    },
    "id": "pgJSdoZIElIi",
    "outputId": "8dc761dd-e2be-4d43-9b2c-631bde291c80"
   },
   "outputs": [
    {
     "name": "stdout",
     "output_type": "stream",
     "text": [
      "tensor([[1, 2, 3],\n",
      "        [5, 6, 7]])\n",
      "tensor([[2, 3],\n",
      "        [6, 7]])\n",
      "tensor([[99,  3],\n",
      "        [ 6,  7]])\n",
      "tensor([[ 1, 99,  3],\n",
      "        [ 5,  6,  7]])\n"
     ]
    }
   ],
   "source": [
    "#Mutable\n",
    "import torch\n",
    "\n",
    "#Khoi tao 1 tensor\n",
    "t1 = torch.tensor([[1, 2, 3],\n",
    "                  [5, 6, 7]])\n",
    "#Su dung slicing de tao tensor t2 bang cach lay tat ca dong va cot\n",
    "t2 = t1[:, 1:3]\n",
    "\n",
    "print(t1)\n",
    "print(t2)\n",
    "\n",
    "t2[0,0] = 99\n",
    "\n",
    "print(t2)\n",
    "print(t1)\n"
   ]
  },
  {
   "cell_type": "markdown",
   "metadata": {
    "id": "m3F2i8p6Uwtr"
   },
   "source": [
    "## Get a row"
   ]
  },
  {
   "cell_type": "code",
   "execution_count": null,
   "metadata": {
    "colab": {
     "base_uri": "https://localhost:8080/"
    },
    "executionInfo": {
     "elapsed": 488,
     "status": "ok",
     "timestamp": 1665744607639,
     "user": {
      "displayName": "Tiềm Đình",
      "userId": "05726324356439983752"
     },
     "user_tz": -420
    },
    "id": "1KIL-Q5KFmK2",
    "outputId": "96c75b9e-ea68-41c8-f5a8-57a639fb2c59"
   },
   "outputs": [
    {
     "name": "stdout",
     "output_type": "stream",
     "text": [
      "tensor([[3, 4, 5],\n",
      "        [7, 7, 6],\n",
      "        [6, 3, 3]]) torch.Size([3, 3])\n"
     ]
    }
   ],
   "source": [
    "#Get a row\n",
    "#Tao 1 tensor co kic co 3x3 \n",
    "t1 = torch.randint(1, 10, (3, 3))\n",
    "print(t1, t1.shape)"
   ]
  },
  {
   "cell_type": "code",
   "execution_count": null,
   "metadata": {
    "colab": {
     "base_uri": "https://localhost:8080/"
    },
    "executionInfo": {
     "elapsed": 294,
     "status": "ok",
     "timestamp": 1665744596651,
     "user": {
      "displayName": "Tiềm Đình",
      "userId": "05726324356439983752"
     },
     "user_tz": -420
    },
    "id": "CsI_7SOJGudG",
    "outputId": "fcdcbd7a-2f2d-4785-b2aa-6e4e70425e48"
   },
   "outputs": [
    {
     "name": "stdout",
     "output_type": "stream",
     "text": [
      "tensor([6, 5, 4]) torch.Size([3])\n",
      "tensor([[6, 5, 4]]) torch.Size([1, 3])\n"
     ]
    }
   ],
   "source": [
    "#cach 1: So chiu giam  \n",
    "t2 = t1[1, :]\n",
    "#cach 2: so chieu giu nguyen\n",
    "t3 = t1[1:2, :]\n",
    "\n",
    "print(t2, t2.shape)\n",
    "print(t3, t3.shape)"
   ]
  },
  {
   "cell_type": "markdown",
   "metadata": {
    "id": "4wSAbSStU3Ce"
   },
   "source": [
    "##Get a column"
   ]
  },
  {
   "cell_type": "code",
   "execution_count": null,
   "metadata": {
    "colab": {
     "base_uri": "https://localhost:8080/"
    },
    "executionInfo": {
     "elapsed": 779,
     "status": "ok",
     "timestamp": 1665744678953,
     "user": {
      "displayName": "Tiềm Đình",
      "userId": "05726324356439983752"
     },
     "user_tz": -420
    },
    "id": "SzRegsv-HHWm",
    "outputId": "c9b03431-5005-4efd-ce77-c153b8ec116a"
   },
   "outputs": [
    {
     "name": "stdout",
     "output_type": "stream",
     "text": [
      "tensor([[2, 6, 9],\n",
      "        [1, 1, 1],\n",
      "        [4, 6, 5]]) torch.Size([3, 3])\n",
      "tensor([6, 1, 6]) torch.Size([3])\n",
      "tensor([[6],\n",
      "        [1],\n",
      "        [6]]) torch.Size([3, 1])\n"
     ]
    }
   ],
   "source": [
    "#Get a column\n",
    "\n",
    "#Tao 1 tensor co kic co 3x3 \n",
    "t1 = torch.randint(1, 10, (3, 3))\n",
    "print(t1, t1.shape)\n",
    "\n",
    "#cach 1: So chiu giam  \n",
    "t2 = t1[:, 1]\n",
    "#cach 2: so chieu giu nguyen\n",
    "t3 = t1[:, 1:2]\n",
    "\n",
    "print(t2, t2.shape)\n",
    "print(t3, t3.shape)"
   ]
  },
  {
   "cell_type": "markdown",
   "metadata": {
    "id": "v6zTOa0dU69t"
   },
   "source": [
    "##Using lists as indices"
   ]
  },
  {
   "cell_type": "code",
   "execution_count": null,
   "metadata": {
    "colab": {
     "base_uri": "https://localhost:8080/"
    },
    "executionInfo": {
     "elapsed": 339,
     "status": "ok",
     "timestamp": 1665744936602,
     "user": {
      "displayName": "Tiềm Đình",
      "userId": "05726324356439983752"
     },
     "user_tz": -420
    },
    "id": "Fjb9w65WHqlU",
    "outputId": "8945514a-dbef-437d-dd3e-d0583e99e761"
   },
   "outputs": [
    {
     "name": "stdout",
     "output_type": "stream",
     "text": [
      "tensor([[4, 9, 7],\n",
      "        [2, 5, 5],\n",
      "        [2, 6, 2]]) torch.Size([3, 3])\n",
      "tensor([4, 5, 2])\n",
      "tensor([9, 9, 9])\n"
     ]
    }
   ],
   "source": [
    "#Using lists as indices\n",
    "\n",
    "t1 = torch.randint(1, 10, (3, 3))\n",
    "print(t1, t1.shape)\n",
    "\n",
    "#Lay gia tri tai vi tri (0,0), (1, 1), (2, 0)\n",
    "out1 = t1[[0, 1, 2], [0, 1, 0]]\n",
    "print(out1)\n",
    "\n",
    "#Có thể truy xuất 1 phần tử nhiều lần cùng lúc\n",
    "out2 = t1[[0, 0, 0], [1, 1, 1]]\n",
    "print(out2)\n",
    "\n"
   ]
  },
  {
   "cell_type": "markdown",
   "metadata": {
    "id": "RoiDH3ZZU-sB"
   },
   "source": [
    "##Boolean indices"
   ]
  },
  {
   "cell_type": "code",
   "execution_count": null,
   "metadata": {
    "colab": {
     "base_uri": "https://localhost:8080/"
    },
    "executionInfo": {
     "elapsed": 352,
     "status": "ok",
     "timestamp": 1665745058697,
     "user": {
      "displayName": "Tiềm Đình",
      "userId": "05726324356439983752"
     },
     "user_tz": -420
    },
    "id": "FZJqAnzsIY3o",
    "outputId": "3c6b2628-d2d5-40f6-ad2e-3f3bfe743562"
   },
   "outputs": [
    {
     "name": "stdout",
     "output_type": "stream",
     "text": [
      "tensor([[1, 8, 8],\n",
      "        [2, 5, 8],\n",
      "        [8, 5, 3]]) torch.Size([3, 3])\n",
      "tensor([[False,  True,  True],\n",
      "        [False,  True,  True],\n",
      "        [ True,  True,  True]])\n"
     ]
    }
   ],
   "source": [
    "#Boolean indices\n",
    "t1 = torch.randint(1, 10, (3, 3))\n",
    "print(t1, t1.shape)\n",
    "\n",
    "#Tim cac phan tu lon hon 2\n",
    "bool_idx = t1>2\n",
    "print(bool_idx)"
   ]
  },
  {
   "cell_type": "code",
   "execution_count": null,
   "metadata": {
    "colab": {
     "base_uri": "https://localhost:8080/"
    },
    "executionInfo": {
     "elapsed": 396,
     "status": "ok",
     "timestamp": 1665745155027,
     "user": {
      "displayName": "Tiềm Đình",
      "userId": "05726324356439983752"
     },
     "user_tz": -420
    },
    "id": "OJtwCCcsJHNW",
    "outputId": "bf03f2a2-6588-45ef-c721-e3efea5fc9ed"
   },
   "outputs": [
    {
     "name": "stdout",
     "output_type": "stream",
     "text": [
      "tensor([[7, 4, 5],\n",
      "        [2, 7, 2],\n",
      "        [9, 6, 6]]) torch.Size([3, 3])\n",
      "tensor([[ True,  True,  True],\n",
      "        [False,  True, False],\n",
      "        [ True,  True,  True]])\n",
      "[0 0 0 1 0 1 1 0 1 1 1 1 0 1 0 0 0 1 1 0]\n"
     ]
    }
   ],
   "source": [
    "t1 = torch.randint(1, 10, (3, 3))\n",
    "print(t1, t1.shape)\n",
    "\n",
    "#Tim cac phan tu lon hon 2\n",
    "bool_idx = t1>2\n",
    "print(bool_idx)\n",
    "#get satisfying  elements\n",
    "result = t1[bool_idx]\n",
    "print(results)"
   ]
  },
  {
   "cell_type": "markdown",
   "metadata": {
    "id": "3GcAEgM3VCop"
   },
   "source": [
    "##Addition"
   ]
  },
  {
   "cell_type": "code",
   "execution_count": null,
   "metadata": {
    "colab": {
     "base_uri": "https://localhost:8080/"
    },
    "executionInfo": {
     "elapsed": 312,
     "status": "ok",
     "timestamp": 1665745527384,
     "user": {
      "displayName": "Tiềm Đình",
      "userId": "05726324356439983752"
     },
     "user_tz": -420
    },
    "id": "0pr99SDmJe9S",
    "outputId": "ef5e23aa-9720-464d-8558-1c5342fdf28a"
   },
   "outputs": [
    {
     "name": "stdout",
     "output_type": "stream",
     "text": [
      "t1: tensor([7, 1, 6, 4, 7, 5, 8, 4, 4, 3])\n",
      "t2: tensor([9, 7, 4, 1, 8, 6, 2, 8, 5, 1])\n",
      "method 1\n",
      " tensor([16,  8, 10,  5, 15, 11, 10, 12,  9,  4])\n",
      "method 2\n",
      " tensor([16,  8, 10,  5, 15, 11, 10, 12,  9,  4])\n"
     ]
    }
   ],
   "source": [
    "#Addition\n",
    "import torch\n",
    "\n",
    "t1 = torch.randint(1, 10, (10,))\n",
    "t2 = torch.randint(1, 10, (10,))\n",
    "\n",
    "print(\"t1:\",t1)\n",
    "print(\"t2:\",t2)\n",
    "\n",
    "#tong hai tensor \n",
    "print(\"method 1\\n\", t1+t2)\n",
    "print(\"method 2\\n\", torch.add(t1, t2))"
   ]
  },
  {
   "cell_type": "markdown",
   "metadata": {
    "id": "YXJ0DbnYVFAK"
   },
   "source": [
    "##Subtraction"
   ]
  },
  {
   "cell_type": "code",
   "execution_count": null,
   "metadata": {
    "colab": {
     "base_uri": "https://localhost:8080/"
    },
    "executionInfo": {
     "elapsed": 288,
     "status": "ok",
     "timestamp": 1665745548016,
     "user": {
      "displayName": "Tiềm Đình",
      "userId": "05726324356439983752"
     },
     "user_tz": -420
    },
    "id": "TESYs07lKpQx",
    "outputId": "f721e11e-b84d-43da-c4b8-584c4cccf5ae"
   },
   "outputs": [
    {
     "name": "stdout",
     "output_type": "stream",
     "text": [
      "t1: tensor([3, 6, 7, 7, 7, 7, 4, 5, 5, 7])\n",
      "t2: tensor([3, 5, 6, 7, 7, 8, 5, 7, 8, 9])\n",
      "method 1\n",
      " tensor([ 0,  1,  1,  0,  0, -1, -1, -2, -3, -2])\n",
      "method 2\n",
      " tensor([ 0,  1,  1,  0,  0, -1, -1, -2, -3, -2])\n"
     ]
    }
   ],
   "source": [
    "#Subtraction \n",
    "import torch\n",
    "\n",
    "t1 = torch.randint(1, 10, (10,))\n",
    "t2 = torch.randint(1, 10, (10,))\n",
    "\n",
    "print(\"t1:\",t1)\n",
    "print(\"t2:\",t2)\n",
    "\n",
    "#hieu hai tensor \n",
    "print(\"method 1\\n\", t1-t2)\n",
    "print(\"method 2\\n\", torch.sub(t1, t2))"
   ]
  },
  {
   "cell_type": "markdown",
   "metadata": {
    "id": "NVjgCi5_VH-C"
   },
   "source": [
    "##Multiplication"
   ]
  },
  {
   "cell_type": "code",
   "execution_count": null,
   "metadata": {
    "colab": {
     "base_uri": "https://localhost:8080/"
    },
    "executionInfo": {
     "elapsed": 493,
     "status": "ok",
     "timestamp": 1665745634794,
     "user": {
      "displayName": "Tiềm Đình",
      "userId": "05726324356439983752"
     },
     "user_tz": -420
    },
    "id": "dN3wacrxK8Hh",
    "outputId": "89444dcb-9afa-41ba-aa20-3951cc2d7c72"
   },
   "outputs": [
    {
     "name": "stdout",
     "output_type": "stream",
     "text": [
      "t1: tensor([6, 3, 8, 3, 4, 7, 2, 4, 8, 1])\n",
      "t2: tensor([9, 4, 3, 4, 1, 1, 4, 3, 7, 4])\n",
      "method 1\n",
      " tensor([54, 12, 24, 12,  4,  7,  8, 12, 56,  4])\n",
      "method 2\n",
      " tensor([54, 12, 24, 12,  4,  7,  8, 12, 56,  4])\n"
     ]
    }
   ],
   "source": [
    "#Multiplication \n",
    "import torch\n",
    "\n",
    "t1 = torch.randint(1, 10, (10,))\n",
    "t2 = torch.randint(1, 10, (10,))\n",
    "\n",
    "print(\"t1:\",t1)\n",
    "print(\"t2:\",t2)\n",
    "\n",
    "#tich hai tensor\n",
    "print(\"method 1\\n\", t1*t2)\n",
    "print(\"method 2\\n\", torch.mul(t1, t2))"
   ]
  },
  {
   "cell_type": "markdown",
   "metadata": {
    "id": "qlxP74xgVOLz"
   },
   "source": [
    "##Division "
   ]
  },
  {
   "cell_type": "code",
   "execution_count": null,
   "metadata": {
    "colab": {
     "base_uri": "https://localhost:8080/"
    },
    "executionInfo": {
     "elapsed": 492,
     "status": "ok",
     "timestamp": 1665745667556,
     "user": {
      "displayName": "Tiềm Đình",
      "userId": "05726324356439983752"
     },
     "user_tz": -420
    },
    "id": "yDOytTTYLKJk",
    "outputId": "dcb189f0-afd6-40e7-9bf9-6c8100e86624"
   },
   "outputs": [
    {
     "name": "stdout",
     "output_type": "stream",
     "text": [
      "t1: tensor([3, 7, 7, 2, 3, 1, 7, 9, 4, 7])\n",
      "t2: tensor([7, 9, 3, 4, 7, 5, 3, 9, 9, 6])\n",
      "method 1\n",
      " tensor([0.4286, 0.7778, 2.3333, 0.5000, 0.4286, 0.2000, 2.3333, 1.0000, 0.4444,\n",
      "        1.1667])\n",
      "method 2\n",
      " tensor([0.4286, 0.7778, 2.3333, 0.5000, 0.4286, 0.2000, 2.3333, 1.0000, 0.4444,\n",
      "        1.1667])\n"
     ]
    }
   ],
   "source": [
    "#Division \n",
    "import torch\n",
    "\n",
    "t1 = torch.randint(1, 10, (10,))\n",
    "t2 = torch.randint(1, 10, (10,))\n",
    "\n",
    "print(\"t1:\",t1)\n",
    "print(\"t2:\",t2)\n",
    "\n",
    "#tich hai tensor\n",
    "print(\"method 1\\n\", t1/t2)\n",
    "print(\"method 2\\n\", torch.div(t1, t2))"
   ]
  },
  {
   "cell_type": "markdown",
   "metadata": {
    "id": "kFZONCZcVRDZ"
   },
   "source": [
    "##Square root"
   ]
  },
  {
   "cell_type": "code",
   "execution_count": null,
   "metadata": {
    "colab": {
     "base_uri": "https://localhost:8080/"
    },
    "executionInfo": {
     "elapsed": 5,
     "status": "ok",
     "timestamp": 1665745803486,
     "user": {
      "displayName": "Tiềm Đình",
      "userId": "05726324356439983752"
     },
     "user_tz": -420
    },
    "id": "RaKHFqk0LcC9",
    "outputId": "0d88e552-f158-436c-c58c-d47252259108"
   },
   "outputs": [
    {
     "name": "stdout",
     "output_type": "stream",
     "text": [
      "t1\n",
      " tensor([3, 8, 1, 4, 4, 1, 4, 8, 4, 6])\n",
      "sqrt t1:\n",
      " tensor([1.0000, 1.4142, 1.7321, 2.0000, 2.2361])\n"
     ]
    }
   ],
   "source": [
    "#Square root\n",
    "import torch\n",
    "\n",
    "t1 = torch.randint(1, 10, (10,))\n",
    "print(\"t1\\n\", t1)\n",
    "\n",
    "#Can bac hai cua tung phan tu trong tensor\n",
    "print(\"sqrt t1:\\n\", torch.sqrt(data))\n"
   ]
  },
  {
   "cell_type": "markdown",
   "metadata": {
    "id": "GbpOlDpzVTMK"
   },
   "source": [
    "##Inner product"
   ]
  },
  {
   "cell_type": "code",
   "execution_count": null,
   "metadata": {
    "colab": {
     "base_uri": "https://localhost:8080/"
    },
    "executionInfo": {
     "elapsed": 386,
     "status": "ok",
     "timestamp": 1665746713747,
     "user": {
      "displayName": "Tiềm Đình",
      "userId": "05726324356439983752"
     },
     "user_tz": -420
    },
    "id": "kAkrF8OPL9Or",
    "outputId": "3b1dabcc-c974-4a67-8c24-254b616f5810"
   },
   "outputs": [
    {
     "name": "stdout",
     "output_type": "stream",
     "text": [
      "t1: tensor([2, 6, 2, 6, 5, 4, 7, 3, 9, 8])\n",
      "t2: tensor([7, 4, 8, 4, 4, 6, 3, 7, 2, 6])\n",
      "method 1 \n",
      " tensor(230)\n",
      "method 2 \n",
      " tensor(230)\n",
      "method 3 \n",
      " tensor(230)\n"
     ]
    }
   ],
   "source": [
    "#Inner product\n",
    "import torch\n",
    "\n",
    "t1 = torch.randint(1, 10, (10,))\n",
    "t2 = torch.randint(1, 10, (10,))\n",
    "\n",
    "print(\"t1:\",t1)\n",
    "print(\"t2:\",t2)\n",
    "\n",
    "#Tinh inner product giữa t1 và t2\n",
    "\n",
    "print(\"method 1 \\n\", torch.dot(t1, t2))\n",
    "print(\"method 2 \\n\", t1.dot(t2))\n",
    "print(\"method 3 \\n\", t1@t2)"
   ]
  },
  {
   "cell_type": "markdown",
   "metadata": {
    "id": "EXmgkjnDVVl4"
   },
   "source": [
    "##Vector-matrix multiplication"
   ]
  },
  {
   "cell_type": "code",
   "execution_count": null,
   "metadata": {
    "colab": {
     "base_uri": "https://localhost:8080/"
    },
    "executionInfo": {
     "elapsed": 295,
     "status": "ok",
     "timestamp": 1665746794202,
     "user": {
      "displayName": "Tiềm Đình",
      "userId": "05726324356439983752"
     },
     "user_tz": -420
    },
    "id": "popZr_5vMrAj",
    "outputId": "4e46e1f9-cd54-407e-8d71-1ecc67e74741"
   },
   "outputs": [
    {
     "name": "stdout",
     "output_type": "stream",
     "text": [
      "tensor([3, 9]) \n",
      " tensor([[1, 4],\n",
      "        [5, 9]])\n",
      "t1xt2: tensor([48, 93])\n"
     ]
    }
   ],
   "source": [
    "#Vector-matrix multiplication\n",
    "t1 = torch.randint(1, 10, (2,))\n",
    "t2 = torch.randint(1, 10, (2,2))\n",
    "\n",
    "print(t1,\"\\n\", t2)\n",
    "#Phap nhan giua ma tran va vecto\n",
    "print(\"t1xt2:\", t1.matmul(t2))"
   ]
  },
  {
   "cell_type": "code",
   "execution_count": null,
   "metadata": {
    "colab": {
     "base_uri": "https://localhost:8080/",
     "height": 165
    },
    "executionInfo": {
     "elapsed": 385,
     "status": "error",
     "timestamp": 1665746413990,
     "user": {
      "displayName": "Tiềm Đình",
      "userId": "05726324356439983752"
     },
     "user_tz": -420
    },
    "id": "x-xPlnVUNRrB",
    "outputId": "d38455c3-1814-428a-aebf-e28edd6eadab"
   },
   "outputs": [
    {
     "ename": "RuntimeError",
     "evalue": "ignored",
     "output_type": "error",
     "traceback": [
      "\u001b[0;31m---------------------------------------------------------------------------\u001b[0m",
      "\u001b[0;31mRuntimeError\u001b[0m                              Traceback (most recent call last)",
      "\u001b[0;32m<ipython-input-260-7d271bb2afea>\u001b[0m in \u001b[0;36m<module>\u001b[0;34m\u001b[0m\n\u001b[0;32m----> 1\u001b[0;31m \u001b[0mprint\u001b[0m\u001b[0;34m(\u001b[0m\u001b[0;34m\"t2xt1:\"\u001b[0m\u001b[0;34m,\u001b[0m \u001b[0mtorch\u001b[0m\u001b[0;34m.\u001b[0m\u001b[0mdot\u001b[0m\u001b[0;34m(\u001b[0m\u001b[0mt2\u001b[0m\u001b[0;34m,\u001b[0m\u001b[0mt1\u001b[0m\u001b[0;34m)\u001b[0m\u001b[0;34m)\u001b[0m\u001b[0;34m\u001b[0m\u001b[0;34m\u001b[0m\u001b[0m\n\u001b[0m",
      "\u001b[0;31mRuntimeError\u001b[0m: 1D tensors expected, but got 2D and 1D tensors"
     ]
    }
   ],
   "source": [
    "print(\"t2xt1:\", torch.dot(t2,t1))"
   ]
  },
  {
   "cell_type": "code",
   "execution_count": null,
   "metadata": {
    "colab": {
     "base_uri": "https://localhost:8080/"
    },
    "executionInfo": {
     "elapsed": 5,
     "status": "ok",
     "timestamp": 1665746764572,
     "user": {
      "displayName": "Tiềm Đình",
      "userId": "05726324356439983752"
     },
     "user_tz": -420
    },
    "id": "dccT6rg7OSYt",
    "outputId": "353f65a7-5d79-4d21-981d-5ed1d7ff0156"
   },
   "outputs": [
    {
     "name": "stdout",
     "output_type": "stream",
     "text": [
      "t2xt1: tensor([93, 42])\n"
     ]
    }
   ],
   "source": [
    "print(\"t2xt1:\", torch.matmul(t2,t1))"
   ]
  },
  {
   "cell_type": "markdown",
   "metadata": {
    "id": "luuuGePeVYxV"
   },
   "source": [
    "##Matrix-matrix multiplication"
   ]
  },
  {
   "cell_type": "code",
   "execution_count": null,
   "metadata": {
    "colab": {
     "base_uri": "https://localhost:8080/"
    },
    "executionInfo": {
     "elapsed": 479,
     "status": "ok",
     "timestamp": 1665746863613,
     "user": {
      "displayName": "Tiềm Đình",
      "userId": "05726324356439983752"
     },
     "user_tz": -420
    },
    "id": "R1LVWyNAP1hW",
    "outputId": "66804bd9-9f99-48d3-af4e-0334de5d7218"
   },
   "outputs": [
    {
     "name": "stdout",
     "output_type": "stream",
     "text": [
      "tensor([[8, 7],\n",
      "        [1, 1]]) \n",
      " tensor([[3, 7],\n",
      "        [7, 6]])\n",
      "t1xt2: tensor([[73, 98],\n",
      "        [10, 13]])\n"
     ]
    }
   ],
   "source": [
    "#Matrix-matrix multiplication\n",
    "t1 = torch.randint(1, 10, (2,2))\n",
    "t2 = torch.randint(1, 10, (2,2))\n",
    "\n",
    "print(t1,\"\\n\", t2)\n",
    "#Phap nhan giua ma tran va ma tran\n",
    "print(\"t1xt2:\", t1.matmul(t2))"
   ]
  },
  {
   "cell_type": "markdown",
   "metadata": {
    "id": "9cTrbck-VbLL"
   },
   "source": [
    "##Transpose"
   ]
  },
  {
   "cell_type": "code",
   "execution_count": null,
   "metadata": {
    "colab": {
     "base_uri": "https://localhost:8080/"
    },
    "executionInfo": {
     "elapsed": 309,
     "status": "ok",
     "timestamp": 1665746971324,
     "user": {
      "displayName": "Tiềm Đình",
      "userId": "05726324356439983752"
     },
     "user_tz": -420
    },
    "id": "qxKcua71P1tL",
    "outputId": "11dc11d6-6d06-4784-a336-6196c2e4ebec"
   },
   "outputs": [
    {
     "name": "stdout",
     "output_type": "stream",
     "text": [
      "tensor([[2, 4, 6, 4, 6],\n",
      "        [4, 5, 5, 4, 7],\n",
      "        [2, 6, 6, 8, 8]]) torch.Size([3, 5])\n",
      "tensor([[2, 4, 2],\n",
      "        [4, 5, 6],\n",
      "        [6, 5, 6],\n",
      "        [4, 4, 8],\n",
      "        [6, 7, 8]]) torch.Size([5, 3])\n"
     ]
    }
   ],
   "source": [
    "#Transpose\n",
    "t1 = torch.randint(1, 10, (3,5))\n",
    "print(t1, t1.shape)\n",
    "print(t1.T, t1.T.shape)"
   ]
  },
  {
   "cell_type": "markdown",
   "metadata": {
    "id": "DAEDhje0Vdig"
   },
   "source": [
    "##Sumation"
   ]
  },
  {
   "cell_type": "code",
   "execution_count": null,
   "metadata": {
    "colab": {
     "base_uri": "https://localhost:8080/"
    },
    "executionInfo": {
     "elapsed": 348,
     "status": "ok",
     "timestamp": 1665747098436,
     "user": {
      "displayName": "Tiềm Đình",
      "userId": "05726324356439983752"
     },
     "user_tz": -420
    },
    "id": "oQ-vkHsuQRbl",
    "outputId": "e9eb4fc6-2fd8-44d6-8618-48ed765b1f9e"
   },
   "outputs": [
    {
     "name": "stdout",
     "output_type": "stream",
     "text": [
      "tensor([[6, 1, 2, 9, 7],\n",
      "        [9, 1, 9, 9, 5],\n",
      "        [9, 1, 1, 1, 2]]) torch.Size([3, 5])\n",
      "tensor(72)\n",
      "tensor([24,  3, 12, 19, 14])\n",
      "tensor([25, 33, 14])\n"
     ]
    }
   ],
   "source": [
    "#Sumation\n",
    "t1 = torch.randint(1, 10, (3,5))\n",
    "print(t1, t1.shape)\n",
    "\n",
    "#Tong cac phan tu cua tensor\n",
    "print(torch.sum(t1))\n",
    "#Tinh tong theo tung cot\n",
    "print(torch.sum(t1, axis=0))\n",
    "#Tinh tong theo tung hang\n",
    "print(torch.sum(t1, axis=1))"
   ]
  },
  {
   "cell_type": "markdown",
   "metadata": {
    "id": "YN1SHYC7VgBm"
   },
   "source": [
    "##Max and min"
   ]
  },
  {
   "cell_type": "code",
   "execution_count": null,
   "metadata": {
    "colab": {
     "base_uri": "https://localhost:8080/"
    },
    "executionInfo": {
     "elapsed": 896,
     "status": "ok",
     "timestamp": 1665747158193,
     "user": {
      "displayName": "Tiềm Đình",
      "userId": "05726324356439983752"
     },
     "user_tz": -420
    },
    "id": "rzVwn5UfQgnv",
    "outputId": "c915439b-c76b-49fe-ee7d-9e58d6ddcd94"
   },
   "outputs": [
    {
     "name": "stdout",
     "output_type": "stream",
     "text": [
      "tensor([[4, 2, 6, 1, 9],\n",
      "        [6, 6, 3, 9, 8],\n",
      "        [3, 7, 3, 3, 1]]) torch.Size([3, 5])\n",
      "tensor(1)\n",
      "tensor(9)\n"
     ]
    }
   ],
   "source": [
    "#Max and min\n",
    "t1 = torch.randint(1, 10, (3,5))\n",
    "print(t1, t1.shape)\n",
    "\n",
    "print(t1.min())\n",
    "print(t1.max())"
   ]
  },
  {
   "cell_type": "code",
   "execution_count": null,
   "metadata": {
    "colab": {
     "base_uri": "https://localhost:8080/"
    },
    "executionInfo": {
     "elapsed": 566,
     "status": "ok",
     "timestamp": 1665747211574,
     "user": {
      "displayName": "Tiềm Đình",
      "userId": "05726324356439983752"
     },
     "user_tz": -420
    },
    "id": "N9f86E9NRFl-",
    "outputId": "c0a2cd0e-1afc-42a4-cc74-190012ce39f5"
   },
   "outputs": [
    {
     "name": "stdout",
     "output_type": "stream",
     "text": [
      "torch.return_types.min(\n",
      "values=tensor([3, 2, 3, 1, 1]),\n",
      "indices=tensor([2, 0, 1, 0, 2]))\n",
      "torch.return_types.max(\n",
      "values=tensor([9, 9, 7]),\n",
      "indices=tensor([4, 3, 1]))\n"
     ]
    }
   ],
   "source": [
    "print(t1.min(axis = 0))\n",
    "print(t1.max(axis = 1))"
   ]
  },
  {
   "cell_type": "code",
   "execution_count": null,
   "metadata": {
    "id": "t_58eSp-RRkE"
   },
   "outputs": [],
   "source": []
  },
  {
   "cell_type": "markdown",
   "metadata": {
    "id": "9E4GB_j4Ru0f"
   },
   "source": [
    "# Broadcasting\n"
   ]
  },
  {
   "cell_type": "code",
   "execution_count": null,
   "metadata": {
    "colab": {
     "base_uri": "https://localhost:8080/"
    },
    "executionInfo": {
     "elapsed": 383,
     "status": "ok",
     "timestamp": 1665747489643,
     "user": {
      "displayName": "Tiềm Đình",
      "userId": "05726324356439983752"
     },
     "user_tz": -420
    },
    "id": "o4Vh4N9hRzLp",
    "outputId": "fbcb40f2-c560-4020-dd19-9b35b931477f"
   },
   "outputs": [
    {
     "name": "stdout",
     "output_type": "stream",
     "text": [
      "tensor([[6, 9, 2, 5, 2],\n",
      "        [1, 7, 1, 4, 3],\n",
      "        [3, 5, 7, 1, 9]]) torch.Size([3, 5])\n",
      "tensor([[12, 18,  4, 10,  4],\n",
      "        [ 2, 14,  2,  8,  6],\n",
      "        [ 6, 10, 14,  2, 18]])\n",
      "tensor([[ 4,  7,  0,  3,  0],\n",
      "        [-1,  5, -1,  2,  1],\n",
      "        [ 1,  3,  5, -1,  7]])\n"
     ]
    }
   ],
   "source": [
    "#vector and a scalar\n",
    "t1 = torch.randint(1, 10, (3,5))\n",
    "print(t1, t1.shape)\n",
    "\n",
    "t2 = 2\n",
    "\n",
    "#broadcasting\n",
    "result_multiplication = t1*t2\n",
    "result_minus = t1 - t2\n",
    "\n",
    "print(result_multiplication)\n",
    "print(result_minus)"
   ]
  },
  {
   "cell_type": "code",
   "execution_count": null,
   "metadata": {
    "colab": {
     "base_uri": "https://localhost:8080/"
    },
    "executionInfo": {
     "elapsed": 404,
     "status": "ok",
     "timestamp": 1665747641320,
     "user": {
      "displayName": "Tiềm Đình",
      "userId": "05726324356439983752"
     },
     "user_tz": -420
    },
    "id": "2tRxLqddSZAS",
    "outputId": "9e12f1e7-cd89-425c-a5d2-c64a98a606ce"
   },
   "outputs": [
    {
     "name": "stdout",
     "output_type": "stream",
     "text": [
      "t1: tensor([[2, 1, 9, 4, 5, 9, 2, 7, 5, 3],\n",
      "        [4, 7, 2, 1, 1, 1, 5, 8, 3, 7],\n",
      "        [7, 1, 6, 8, 7, 9, 5, 1, 2, 5],\n",
      "        [2, 8, 1, 5, 3, 6, 9, 9, 3, 1],\n",
      "        [6, 4, 3, 2, 5, 6, 2, 5, 8, 6],\n",
      "        [2, 7, 5, 4, 8, 4, 8, 9, 9, 2],\n",
      "        [8, 5, 4, 8, 1, 6, 3, 4, 8, 8],\n",
      "        [1, 4, 2, 4, 4, 7, 9, 6, 9, 8],\n",
      "        [8, 9, 5, 6, 5, 8, 7, 7, 4, 8],\n",
      "        [1, 5, 6, 2, 3, 9, 9, 3, 1, 7]])\n",
      "t2: tensor([6, 8, 3, 5, 5, 3, 2, 4, 5, 6])\n",
      "t3: tensor([[ 8,  9, 12,  9, 10, 12,  4, 11, 10,  9],\n",
      "        [10, 15,  5,  6,  6,  4,  7, 12,  8, 13],\n",
      "        [13,  9,  9, 13, 12, 12,  7,  5,  7, 11],\n",
      "        [ 8, 16,  4, 10,  8,  9, 11, 13,  8,  7],\n",
      "        [12, 12,  6,  7, 10,  9,  4,  9, 13, 12],\n",
      "        [ 8, 15,  8,  9, 13,  7, 10, 13, 14,  8],\n",
      "        [14, 13,  7, 13,  6,  9,  5,  8, 13, 14],\n",
      "        [ 7, 12,  5,  9,  9, 10, 11, 10, 14, 14],\n",
      "        [14, 17,  8, 11, 10, 11,  9, 11,  9, 14],\n",
      "        [ 7, 13,  9,  7,  8, 12, 11,  7,  6, 13]])\n"
     ]
    }
   ],
   "source": [
    "#mtrix and vector\n",
    "import torch\n",
    "\n",
    "t1 = torch.randint(1, 10, (10,10))\n",
    "t2 = torch.randint(1, 10, (10,))\n",
    "\n",
    "print(\"t1:\",t1)\n",
    "print(\"t2:\",t2)\n",
    "\n",
    "t3 = t1 +t2\n",
    "print(\"t3:\",t3)"
   ]
  },
  {
   "cell_type": "code",
   "execution_count": null,
   "metadata": {
    "id": "5V05IQIOS2Xn"
   },
   "outputs": [],
   "source": []
  }
 ],
 "metadata": {
  "colab": {
   "authorship_tag": "ABX9TyOlsZvlw/NR6QdHMAtcNCS3",
   "collapsed_sections": [],
   "provenance": []
  },
  "kernelspec": {
   "display_name": "Python 3 (ipykernel)",
   "language": "python",
   "name": "python3"
  },
  "language_info": {
   "codemirror_mode": {
    "name": "ipython",
    "version": 3
   },
   "file_extension": ".py",
   "mimetype": "text/x-python",
   "name": "python",
   "nbconvert_exporter": "python",
   "pygments_lexer": "ipython3",
   "version": "3.9.13"
  }
 },
 "nbformat": 4,
 "nbformat_minor": 1
}
