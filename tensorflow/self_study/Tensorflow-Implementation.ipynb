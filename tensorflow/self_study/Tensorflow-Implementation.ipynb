{
 "cells": [
  {
   "cell_type": "code",
   "execution_count": 2,
   "metadata": {
    "executionInfo": {
     "elapsed": 4743,
     "status": "ok",
     "timestamp": 1665917183586,
     "user": {
      "displayName": "Tiềm Đình",
      "userId": "05726324356439983752"
     },
     "user_tz": -420
    },
    "id": "tOXWjSljNs2Z"
   },
   "outputs": [],
   "source": [
    "import tensorflow as tf\n",
    "import numpy as np"
   ]
  },
  {
   "cell_type": "code",
   "execution_count": 3,
   "metadata": {
    "colab": {
     "base_uri": "https://localhost:8080/"
    },
    "executionInfo": {
     "elapsed": 326,
     "status": "ok",
     "timestamp": 1665917185550,
     "user": {
      "displayName": "Tiềm Đình",
      "userId": "05726324356439983752"
     },
     "user_tz": -420
    },
    "id": "q3iJhWc-ZW7G",
    "outputId": "4625589a-6c73-4fd4-9d8b-60f7f7a31b14"
   },
   "outputs": [
    {
     "name": "stdout",
     "output_type": "stream",
     "text": [
      "[0 1 2 3 4 5 6 7 8 9]\n",
      "(10,)\n",
      "tf.Tensor([0 1 2 3 4 5 6 7 8 9], shape=(10,), dtype=int64)\n",
      "[0 1 2 3 4 5 6 7 8 9]\n",
      "(10,)\n"
     ]
    }
   ],
   "source": [
    "# Create some basic tensor\n",
    "\n",
    "#create  a numpy array\n",
    "arr_np = np.arange(10)\n",
    "print(arr_np)\n",
    "print(arr_np.shape)\n",
    "\n",
    "#create a tensor \n",
    "tensor_arr = tf.constant(arr_np)\n",
    "print(tensor_arr)\n",
    "\n",
    "#convert tensor to numpy\n",
    "arr_np_back = tensor_arr.numpy()\n",
    "print(arr_np_back)\n",
    "print(arr_np_back.shape)"
   ]
  },
  {
   "cell_type": "code",
   "execution_count": 4,
   "metadata": {
    "colab": {
     "base_uri": "https://localhost:8080/"
    },
    "executionInfo": {
     "elapsed": 520,
     "status": "ok",
     "timestamp": 1665917193061,
     "user": {
      "displayName": "Tiềm Đình",
      "userId": "05726324356439983752"
     },
     "user_tz": -420
    },
    "id": "qBuqFOYFPrXB",
    "outputId": "91e25652-751c-4186-b20f-1a11df05da56"
   },
   "outputs": [
    {
     "name": "stdout",
     "output_type": "stream",
     "text": [
      "[0 1 2 3 4 5 6 7 8 9]\n",
      "(10,)\n",
      "tf.Tensor([0 1 2 3 4 5 6 7 8 9], shape=(10,), dtype=int64)\n",
      "[0 1 2 3 4 5 6 7 8 9]\n",
      "(10,)\n"
     ]
    }
   ],
   "source": [
    "#create  a numpy array\n",
    "arr_np = np.arange(10)\n",
    "print(arr_np)\n",
    "print(arr_np.shape)\n",
    "\n",
    "#convert a numpy array to tensor\n",
    "tensor_arr = tf.convert_to_tensor(arr_np)\n",
    "print(tensor_arr)\n",
    "\n",
    "#convert tensor to numpy\n",
    "arr_np_back = tensor_arr.numpy()\n",
    "print(arr_np_back)\n",
    "print(arr_np_back.shape)"
   ]
  },
  {
   "cell_type": "code",
   "execution_count": 5,
   "metadata": {
    "colab": {
     "base_uri": "https://localhost:8080/"
    },
    "executionInfo": {
     "elapsed": 439,
     "status": "ok",
     "timestamp": 1665917198475,
     "user": {
      "displayName": "Tiềm Đình",
      "userId": "05726324356439983752"
     },
     "user_tz": -420
    },
    "id": "dujIlwoLQBXR",
    "outputId": "4cee7e60-567e-4ea0-d5b7-dfd0e2f937ec"
   },
   "outputs": [
    {
     "name": "stdout",
     "output_type": "stream",
     "text": [
      "[0 1 2 3 4 5 6 7 8 9]\n",
      "(10,)\n",
      "tf.Tensor([0 1 2 3 4 5 6 7 8 9], shape=(10,), dtype=int64)\n"
     ]
    },
    {
     "data": {
      "text/plain": [
       "<tf.Tensor: shape=(), dtype=int64, numpy=2>"
      ]
     },
     "execution_count": 5,
     "metadata": {},
     "output_type": "execute_result"
    }
   ],
   "source": [
    "arr_np = np.arange(10)\n",
    "print(arr_np)\n",
    "print(arr_np.shape)\n",
    "\n",
    "#convert a numpy array to tensor\n",
    "tensor_arr = tf.convert_to_tensor(arr_np)\n",
    "print(tensor_arr)\n",
    "tensor_arr[2]"
   ]
  },
  {
   "cell_type": "code",
   "execution_count": 6,
   "metadata": {
    "colab": {
     "base_uri": "https://localhost:8080/"
    },
    "executionInfo": {
     "elapsed": 508,
     "status": "ok",
     "timestamp": 1665917200915,
     "user": {
      "displayName": "Tiềm Đình",
      "userId": "05726324356439983752"
     },
     "user_tz": -420
    },
    "id": "VuG6-AR05Efh",
    "outputId": "d58d7bbb-2ba9-43dd-d50a-b37949c36bca"
   },
   "outputs": [
    {
     "data": {
      "text/plain": [
       "<tf.Tensor: shape=(), dtype=int64, numpy=1>"
      ]
     },
     "execution_count": 6,
     "metadata": {},
     "output_type": "execute_result"
    }
   ],
   "source": [
    "tensor_arr[1]"
   ]
  },
  {
   "cell_type": "code",
   "execution_count": 7,
   "metadata": {
    "colab": {
     "base_uri": "https://localhost:8080/"
    },
    "executionInfo": {
     "elapsed": 486,
     "status": "ok",
     "timestamp": 1665917255122,
     "user": {
      "displayName": "Tiềm Đình",
      "userId": "05726324356439983752"
     },
     "user_tz": -420
    },
    "id": "HXLO8vB_SzY8",
    "outputId": "4be111a6-5842-4d5e-a01a-60fb656799b6"
   },
   "outputs": [
    {
     "name": "stdout",
     "output_type": "stream",
     "text": [
      "tf.Tensor(\n",
      "[[1 2 3]\n",
      " [4 5 6]], shape=(2, 3), dtype=int32)\n",
      "tf.Tensor([1 2 3], shape=(3,), dtype=int32)\n",
      "tf.Tensor([4 5 6], shape=(3,), dtype=int32)\n",
      "tf.Tensor(2, shape=(), dtype=int32)\n"
     ]
    }
   ],
   "source": [
    "from tensorflow.python.framework.ops import convert_to_tensor\n",
    "#from list\n",
    "list_1 = [[1, 2, 3],\n",
    "          [4, 5, 6]]\n",
    "tensor_from_list = convert_to_tensor(list_1)\n",
    "print(tensor_from_list)\n",
    "print(tensor_from_list[0])\n",
    "print(tensor_from_list[1])\n",
    "print(tensor_from_list[0,1])"
   ]
  },
  {
   "cell_type": "markdown",
   "metadata": {
    "id": "DJdGuEhAXah1"
   },
   "source": [
    "### Attributes of a tensor "
   ]
  },
  {
   "cell_type": "code",
   "execution_count": 8,
   "metadata": {
    "colab": {
     "base_uri": "https://localhost:8080/"
    },
    "executionInfo": {
     "elapsed": 349,
     "status": "ok",
     "timestamp": 1665917267602,
     "user": {
      "displayName": "Tiềm Đình",
      "userId": "05726324356439983752"
     },
     "user_tz": -420
    },
    "id": "7wsjqn4RWT1R",
    "outputId": "3d85ffef-3a40-403d-9dcc-726839c8d8ba"
   },
   "outputs": [
    {
     "name": "stdout",
     "output_type": "stream",
     "text": [
      "tf.Tensor(\n",
      "[[1 2 3 4]\n",
      " [4 3 2 1]], shape=(2, 4), dtype=int32)\n",
      "Shape of tensor: (2, 4)\n",
      "Datatype of tensor: <dtype: 'int32'>\n",
      "Device tensor is stored on: /job:localhost/replica:0/task:0/device:CPU:0\n"
     ]
    }
   ],
   "source": [
    "tensor = tf.convert_to_tensor([[1, 2, 3, 4], [4, 3, 2, 1]])\n",
    "print(tensor)\n",
    "print(f\"Shape of tensor: {tensor.shape}\")\n",
    "print(f\"Datatype of tensor: {tensor.dtype}\")\n",
    "print(f\"Device tensor is stored on: {tensor.device}\")"
   ]
  },
  {
   "cell_type": "markdown",
   "metadata": {
    "id": "LIXHs4zPWUE_"
   },
   "source": [
    "### Common Atributes"
   ]
  },
  {
   "cell_type": "code",
   "execution_count": 9,
   "metadata": {
    "colab": {
     "base_uri": "https://localhost:8080/"
    },
    "executionInfo": {
     "elapsed": 345,
     "status": "ok",
     "timestamp": 1665917272697,
     "user": {
      "displayName": "Tiềm Đình",
      "userId": "05726324356439983752"
     },
     "user_tz": -420
    },
    "id": "Zlzk18ZnTYl4",
    "outputId": "d78bf49b-1d73-4330-bf4c-4d5967c7fb3e"
   },
   "outputs": [
    {
     "name": "stdout",
     "output_type": "stream",
     "text": [
      "tf.Tensor(3, shape=(), dtype=int32)\n",
      "()\n"
     ]
    }
   ],
   "source": [
    "# Tao tensor tu 1 so, duoc goi la scalar\n",
    "import tensorflow as tf\n",
    "data = tf.convert_to_tensor(3)\n",
    "print(data)\n",
    "print(data.shape)"
   ]
  },
  {
   "cell_type": "code",
   "execution_count": 10,
   "metadata": {
    "colab": {
     "base_uri": "https://localhost:8080/"
    },
    "executionInfo": {
     "elapsed": 7,
     "status": "ok",
     "timestamp": 1665917276190,
     "user": {
      "displayName": "Tiềm Đình",
      "userId": "05726324356439983752"
     },
     "user_tz": -420
    },
    "id": "V73yqWdMZtna",
    "outputId": "2f85d6e8-bc12-4f7f-f8c8-7b974e69838f"
   },
   "outputs": [
    {
     "name": "stdout",
     "output_type": "stream",
     "text": [
      "tf.Tensor([1 2 3 4], shape=(4,), dtype=int32)\n",
      "(4,)\n"
     ]
    }
   ],
   "source": [
    "#Tao tensor tu 1 list\n",
    "import tensorflow as tf\n",
    "\n",
    "#Tao list\n",
    "list_1D = [1, 2, 3, 4]\n",
    "#Tao tensor\n",
    "data = tf.convert_to_tensor(list_1D)\n",
    "\n",
    "print(data)\n",
    "print(data.shape)\n"
   ]
  },
  {
   "cell_type": "code",
   "execution_count": 11,
   "metadata": {
    "colab": {
     "base_uri": "https://localhost:8080/"
    },
    "executionInfo": {
     "elapsed": 311,
     "status": "ok",
     "timestamp": 1665917280644,
     "user": {
      "displayName": "Tiềm Đình",
      "userId": "05726324356439983752"
     },
     "user_tz": -420
    },
    "id": "PM4M_4TseDR2",
    "outputId": "54ca96d3-b018-4286-ef63-d2b37125b1ad"
   },
   "outputs": [
    {
     "name": "stdout",
     "output_type": "stream",
     "text": [
      "tf.Tensor(\n",
      "[[1 2]\n",
      " [3 4]\n",
      " [5 6]], shape=(3, 2), dtype=int32)\n",
      "(3, 2)\n"
     ]
    }
   ],
   "source": [
    "import tensorflow as tf\n",
    "\n",
    "#Tao list\n",
    "list_2D = [[1, 2], [3, 4], [5, 6]]\n",
    "#Tao tensor\n",
    "data = tf.convert_to_tensor(list_2D)\n",
    "\n",
    "print(data)\n",
    "print(data.shape)\n"
   ]
  },
  {
   "cell_type": "code",
   "execution_count": 12,
   "metadata": {
    "colab": {
     "base_uri": "https://localhost:8080/"
    },
    "executionInfo": {
     "elapsed": 5,
     "status": "ok",
     "timestamp": 1665917283987,
     "user": {
      "displayName": "Tiềm Đình",
      "userId": "05726324356439983752"
     },
     "user_tz": -420
    },
    "id": "yXZqqEC1eOTf",
    "outputId": "c903c151-0082-4d77-9c48-0aa9d5f96132"
   },
   "outputs": [
    {
     "name": "stdout",
     "output_type": "stream",
     "text": [
      "tf.Tensor(\n",
      "[[[ 1  2]\n",
      "  [ 3  4]]\n",
      "\n",
      " [[ 5  6]\n",
      "  [ 7  8]]\n",
      "\n",
      " [[ 9 10]\n",
      "  [11 12]]], shape=(3, 2, 2), dtype=int32)\n",
      "(3, 2, 2)\n"
     ]
    }
   ],
   "source": [
    "import tensorflow as tf\n",
    "\n",
    "#Tao list\n",
    "list_3D = [[[1, 2], [3, 4]],\n",
    "           [[5, 6], [7, 8]],\n",
    "           [[9,10], [11, 12]]]\n",
    "#Tao tensor\n",
    "data = tf.convert_to_tensor(list_3D)\n",
    "\n",
    "print(data)\n",
    "print(data.shape)"
   ]
  },
  {
   "cell_type": "code",
   "execution_count": 13,
   "metadata": {
    "colab": {
     "base_uri": "https://localhost:8080/"
    },
    "executionInfo": {
     "elapsed": 345,
     "status": "ok",
     "timestamp": 1665917296048,
     "user": {
      "displayName": "Tiềm Đình",
      "userId": "05726324356439983752"
     },
     "user_tz": -420
    },
    "id": "ZP7GTrBmek2C",
    "outputId": "c9c1ac3f-7327-45e6-a041-3ce1981ffc14"
   },
   "outputs": [
    {
     "name": "stdout",
     "output_type": "stream",
     "text": [
      "tf.Tensor([1 2 3], shape=(3,), dtype=int32)\n",
      "<dtype: 'int32'>\n",
      "<dtype: 'float32'>\n",
      "tf.Tensor([3.14 2.14 2.16], shape=(3,), dtype=float32)\n",
      "<dtype: 'float32'>\n",
      "tf.Tensor([1. 2. 3.], shape=(3,), dtype=float32)\n"
     ]
    }
   ],
   "source": [
    "#dtype example\n",
    "data1 = tf.convert_to_tensor([1, 2, 3])\n",
    "print(data1)\n",
    "print(data1.dtype)\n",
    "\n",
    "data2 = tf.convert_to_tensor([3.14, 2.14, 2.16])\n",
    "print(data2.dtype)\n",
    "print(data2)\n",
    "\n",
    "data3 = tf.convert_to_tensor([1, 2, 3], dtype=float)\n",
    "print(data3.dtype)\n",
    "print(data3)"
   ]
  },
  {
   "cell_type": "code",
   "execution_count": null,
   "metadata": {
    "id": "p2Su8tYphD4P"
   },
   "outputs": [],
   "source": []
  },
  {
   "cell_type": "markdown",
   "metadata": {
    "id": "QLvtH_k1hEI9"
   },
   "source": [
    "### Update an element\n"
   ]
  },
  {
   "cell_type": "code",
   "execution_count": 14,
   "metadata": {
    "colab": {
     "base_uri": "https://localhost:8080/"
    },
    "executionInfo": {
     "elapsed": 6,
     "status": "ok",
     "timestamp": 1665917322847,
     "user": {
      "displayName": "Tiềm Đình",
      "userId": "05726324356439983752"
     },
     "user_tz": -420
    },
    "id": "sXaCO8Ew71Pl",
    "outputId": "508dd44c-cca9-4600-cafe-a3c6f2daa8a7"
   },
   "outputs": [
    {
     "name": "stdout",
     "output_type": "stream",
     "text": [
      "[1. 2.]\n",
      "[7. 9.]\n"
     ]
    }
   ],
   "source": [
    "#Variance ex1\n",
    "#Khoi tao 1 variable\n",
    "var = tf.Variable([1.0, 2.0])\n",
    "print(var.numpy())\n",
    "#Thay doi gia tri cua variable voi asign\n",
    "var.assign([7, 9])\n",
    "print(var.numpy())"
   ]
  },
  {
   "cell_type": "code",
   "execution_count": null,
   "metadata": {
    "colab": {
     "base_uri": "https://localhost:8080/",
     "height": 252
    },
    "executionInfo": {
     "elapsed": 338,
     "status": "error",
     "timestamp": 1665826042743,
     "user": {
      "displayName": "Tiềm Đình",
      "userId": "05726324356439983752"
     },
     "user_tz": -420
    },
    "id": "JL49ZZvAfvCL",
    "outputId": "6d2fec01-912c-4219-96ab-be7967d0d9b3"
   },
   "outputs": [
    {
     "name": "stdout",
     "output_type": "stream",
     "text": [
      "<tf.Variable 'Variable:0' shape=(3,) dtype=int32, numpy=array([1, 2, 3], dtype=int32)>\n",
      "tf.Tensor(1, shape=(), dtype=int32)\n"
     ]
    },
    {
     "ename": "TypeError",
     "evalue": "ignored",
     "output_type": "error",
     "traceback": [
      "\u001b[0;31m---------------------------------------------------------------------------\u001b[0m",
      "\u001b[0;31mTypeError\u001b[0m                                 Traceback (most recent call last)",
      "\u001b[0;32m<ipython-input-31-e468901475db>\u001b[0m in \u001b[0;36m<module>\u001b[0;34m\u001b[0m\n\u001b[1;32m     11\u001b[0m \u001b[0;31m#Thay doi gia tri cua phan tu thu nhat trong tensor\u001b[0m\u001b[0;34m\u001b[0m\u001b[0;34m\u001b[0m\u001b[0;34m\u001b[0m\u001b[0m\n\u001b[1;32m     12\u001b[0m \u001b[0mprint\u001b[0m\u001b[0;34m(\u001b[0m\u001b[0mdata\u001b[0m\u001b[0;34m[\u001b[0m\u001b[0;36m0\u001b[0m\u001b[0;34m]\u001b[0m\u001b[0;34m)\u001b[0m\u001b[0;34m\u001b[0m\u001b[0;34m\u001b[0m\u001b[0m\n\u001b[0;32m---> 13\u001b[0;31m \u001b[0mdata\u001b[0m\u001b[0;34m[\u001b[0m\u001b[0;36m0\u001b[0m\u001b[0;34m]\u001b[0m \u001b[0;34m=\u001b[0m \u001b[0;36m100\u001b[0m\u001b[0;34m\u001b[0m\u001b[0;34m\u001b[0m\u001b[0m\n\u001b[0m\u001b[1;32m     14\u001b[0m \u001b[0mprint\u001b[0m\u001b[0;34m(\u001b[0m\u001b[0mdata\u001b[0m\u001b[0;34m[\u001b[0m\u001b[0;36m0\u001b[0m\u001b[0;34m]\u001b[0m\u001b[0;34m)\u001b[0m\u001b[0;34m\u001b[0m\u001b[0;34m\u001b[0m\u001b[0m\n",
      "\u001b[0;31mTypeError\u001b[0m: 'ResourceVariable' object does not support item assignment"
     ]
    }
   ],
   "source": [
    "#Thay doi gia tri phan tu trong variable \n",
    "import tensorflow as tf\n",
    "\n",
    "#Khoi tao list\n",
    "l = list(range(1,4))\n",
    "\n",
    "#Tao variance\n",
    "data = tf.Variable(l)\n",
    "print(data)\n",
    "\n",
    "#Thay doi gia tri cua phan tu thu nhat trong tensor\n",
    "print(data[0])\n",
    "data[0] = 100\n",
    "print(data[0])"
   ]
  },
  {
   "cell_type": "code",
   "execution_count": 101,
   "metadata": {
    "colab": {
     "base_uri": "https://localhost:8080/"
    },
    "executionInfo": {
     "elapsed": 364,
     "status": "ok",
     "timestamp": 1665922040470,
     "user": {
      "displayName": "Tiềm Đình",
      "userId": "05726324356439983752"
     },
     "user_tz": -420
    },
    "id": "rH8Eifjuh3lj",
    "outputId": "f1544aba-48f0-4585-b21e-97d1fd0654f9"
   },
   "outputs": [
    {
     "name": "stdout",
     "output_type": "stream",
     "text": [
      "[[0 4 1 4]\n",
      " [2 1 2 3]] \n",
      "\n",
      "[[0 4 1 50]\n",
      " [2 60 2 3]]\n"
     ]
    }
   ],
   "source": [
    "tf.random.set_seed(111)\n",
    "\n",
    "tensor = tf.random.uniform((2, 4), minval=0, maxval=5, dtype=tf.int32)\n",
    "tf.print(tensor, '\\n')\n",
    "\n",
    "index1 = [0, 3]\n",
    "index2 = [1, 1]\n",
    "indices = [index1, index2]\n",
    "updates = [50, 60]\n",
    "\n",
    "tf.print(tf.tensor_scatter_nd_update(tensor, indices, updates))"
   ]
  },
  {
   "cell_type": "code",
   "execution_count": 21,
   "metadata": {
    "colab": {
     "base_uri": "https://localhost:8080/"
    },
    "executionInfo": {
     "elapsed": 5,
     "status": "ok",
     "timestamp": 1665917801526,
     "user": {
      "displayName": "Tiềm Đình",
      "userId": "05726324356439983752"
     },
     "user_tz": -420
    },
    "id": "hQohZpc6jZVH",
    "outputId": "15f80c0d-ba4e-4ba6-9b60-f1743ce2545d"
   },
   "outputs": [
    {
     "name": "stdout",
     "output_type": "stream",
     "text": [
      "tf.Tensor(\n",
      "[[0. 0. 0. 0.]\n",
      " [0. 0. 0. 0.]\n",
      " [0. 0. 0. 0.]], shape=(3, 4), dtype=float32)\n"
     ]
    }
   ],
   "source": [
    "#Tao 1 tensor toan so 0\n",
    "import tensorflow as tf\n",
    "tensor0 = tf.zeros((3, 4))\n",
    "print(tensor0)"
   ]
  },
  {
   "cell_type": "code",
   "execution_count": 22,
   "metadata": {
    "colab": {
     "base_uri": "https://localhost:8080/"
    },
    "executionInfo": {
     "elapsed": 370,
     "status": "ok",
     "timestamp": 1665918325102,
     "user": {
      "displayName": "Tiềm Đình",
      "userId": "05726324356439983752"
     },
     "user_tz": -420
    },
    "id": "e1hahTCSlV_z",
    "outputId": "789b5ff0-af34-4e48-baca-b3def665fda4"
   },
   "outputs": [
    {
     "name": "stdout",
     "output_type": "stream",
     "text": [
      "tf.Tensor(\n",
      "[[1. 1. 1. 1.]\n",
      " [1. 1. 1. 1.]\n",
      " [1. 1. 1. 1.]], shape=(3, 4), dtype=float32)\n"
     ]
    }
   ],
   "source": [
    "#Tao 1 tensor toan so 1\n",
    "import tensorflow as tf\n",
    "tensor1 = tf.ones((3, 4))\n",
    "print(tensor1)"
   ]
  },
  {
   "cell_type": "code",
   "execution_count": 24,
   "metadata": {
    "colab": {
     "base_uri": "https://localhost:8080/"
    },
    "executionInfo": {
     "elapsed": 5,
     "status": "ok",
     "timestamp": 1665918400427,
     "user": {
      "displayName": "Tiềm Đình",
      "userId": "05726324356439983752"
     },
     "user_tz": -420
    },
    "id": "K1R162tXlke5",
    "outputId": "b1429a81-4da8-4c39-abce-e064208e1008"
   },
   "outputs": [
    {
     "name": "stdout",
     "output_type": "stream",
     "text": [
      "tf.Tensor(\n",
      "[[33 33 33 33]\n",
      " [33 33 33 33]\n",
      " [33 33 33 33]], shape=(3, 4), dtype=int32)\n"
     ]
    }
   ],
   "source": [
    "#Tao 1 tensor voi tat ca phan tu la hang so\n",
    "import tensorflow as tf\n",
    "tensor_instance_value = tf.fill((3, 4), 33)\n",
    "print(tensor_instance_value)"
   ]
  },
  {
   "cell_type": "code",
   "execution_count": 28,
   "metadata": {
    "colab": {
     "base_uri": "https://localhost:8080/"
    },
    "executionInfo": {
     "elapsed": 5,
     "status": "ok",
     "timestamp": 1665918656433,
     "user": {
      "displayName": "Tiềm Đình",
      "userId": "05726324356439983752"
     },
     "user_tz": -420
    },
    "id": "JoSNj8oHmE2U",
    "outputId": "bbc7070f-ecfe-47a2-832b-6d77ac5b24e7"
   },
   "outputs": [
    {
     "name": "stdout",
     "output_type": "stream",
     "text": [
      "tf.Tensor([0 1 2 3 4], shape=(5,), dtype=int32)\n",
      "tf.Tensor([-10  -8  -6  -4  -2   0   2   4   6   8], shape=(10,), dtype=int32)\n",
      "tf.Tensor([-10  -7  -4  -1   2   5   8], shape=(7,), dtype=int32)\n"
     ]
    }
   ],
   "source": [
    "#range function\n",
    "import tensorflow as tf\n",
    "\n",
    "tensor_range = tf.range(5)\n",
    "print(tensor_range)\n",
    "\n",
    "tensor_range_2 = tf.range(-10, 10, 2)\n",
    "print(tensor_range_2)\n",
    "\n",
    "tensor_range_3 = tf.range(-10, 10, 3)\n",
    "print(tensor_range_3)"
   ]
  },
  {
   "cell_type": "code",
   "execution_count": 29,
   "metadata": {
    "colab": {
     "base_uri": "https://localhost:8080/"
    },
    "executionInfo": {
     "elapsed": 406,
     "status": "ok",
     "timestamp": 1665918710913,
     "user": {
      "displayName": "Tiềm Đình",
      "userId": "05726324356439983752"
     },
     "user_tz": -420
    },
    "id": "mr7-dSdsmdnX",
    "outputId": "9183210f-6fd3-4bee-f333-86507224d6e9"
   },
   "outputs": [
    {
     "data": {
      "text/plain": [
       "<tf.Tensor: shape=(3, 3), dtype=float32, numpy=\n",
       "array([[1., 0., 0.],\n",
       "       [0., 1., 0.],\n",
       "       [0., 0., 1.]], dtype=float32)>"
      ]
     },
     "execution_count": 29,
     "metadata": {},
     "output_type": "execute_result"
    }
   ],
   "source": [
    "#Tao 1 tensor voi duong cheo chinh la so 1, cac phan tu con lai =0\n",
    "import tensorflow as tf\n",
    "\n",
    "tensor_eye = tf.eye(3,3)\n",
    "tensor_eye"
   ]
  },
  {
   "cell_type": "code",
   "execution_count": 32,
   "metadata": {
    "colab": {
     "base_uri": "https://localhost:8080/"
    },
    "executionInfo": {
     "elapsed": 333,
     "status": "ok",
     "timestamp": 1665918812699,
     "user": {
      "displayName": "Tiềm Đình",
      "userId": "05726324356439983752"
     },
     "user_tz": -420
    },
    "id": "CS-Z780uohk3",
    "outputId": "f1182355-7097-49a4-e0d3-3db1486d642c"
   },
   "outputs": [
    {
     "name": "stdout",
     "output_type": "stream",
     "text": [
      "tf.Tensor(\n",
      "[[0.86369586 0.60063684 0.95674896]\n",
      " [0.7128948  0.50341344 0.9982449 ]], shape=(2, 3), dtype=float32)\n"
     ]
    }
   ],
   "source": [
    "#Tao 1 tensor voi cac gia tri ngau nhien\n",
    "import tensorflow as tf\n",
    "\n",
    "tensor_random = tf.random.uniform((2, 3))\n",
    "print(tensor_random)\n"
   ]
  },
  {
   "cell_type": "markdown",
   "metadata": {
    "id": "CKvcUlj1o_BL"
   },
   "source": [
    "### Some important functions"
   ]
  },
  {
   "cell_type": "markdown",
   "metadata": {
    "id": "2IK3JBU1QLWg"
   },
   "source": [
    "#### Clip"
   ]
  },
  {
   "cell_type": "code",
   "execution_count": 38,
   "metadata": {
    "colab": {
     "base_uri": "https://localhost:8080/"
    },
    "executionInfo": {
     "elapsed": 5,
     "status": "ok",
     "timestamp": 1665919097255,
     "user": {
      "displayName": "Tiềm Đình",
      "userId": "05726324356439983752"
     },
     "user_tz": -420
    },
    "id": "bomQGa3Vo3My",
    "outputId": "731f0fa1-c135-4f52-dd38-3afab0a92a92"
   },
   "outputs": [
    {
     "name": "stdout",
     "output_type": "stream",
     "text": [
      "tf.Tensor(\n",
      "[[-32.095    -34.87558  -68.99309 ]\n",
      " [-50.02916   53.719376 -86.17308 ]\n",
      " [-83.3075   -92.4345    27.717354]], shape=(3, 3), dtype=float32)\n",
      "tf.Tensor(\n",
      "[[1. 1. 1.]\n",
      " [1. 4. 1.]\n",
      " [1. 1. 4.]], shape=(3, 3), dtype=float32)\n"
     ]
    }
   ],
   "source": [
    "#clip\n",
    "import tensorflow as tf\n",
    "\n",
    "tensor_random = tf.random.uniform((3,3),  minval=-100, maxval=100)\n",
    "print(tensor_random)\n",
    "\n",
    "tensor_clip = tf.clip_by_value(tensor_random, clip_value_min=1, clip_value_max=4)\n",
    "print(tensor_clip)"
   ]
  },
  {
   "cell_type": "code",
   "execution_count": 40,
   "metadata": {
    "colab": {
     "base_uri": "https://localhost:8080/"
    },
    "executionInfo": {
     "elapsed": 322,
     "status": "ok",
     "timestamp": 1665919198307,
     "user": {
      "displayName": "Tiềm Đình",
      "userId": "05726324356439983752"
     },
     "user_tz": -420
    },
    "id": "hgs30Avupp9r",
    "outputId": "043509dd-be94-4254-d3a2-41b68efeea65"
   },
   "outputs": [
    {
     "name": "stdout",
     "output_type": "stream",
     "text": [
      "tf.Tensor([ 1  4  9 -2  4], shape=(5,), dtype=int32)\n"
     ]
    }
   ],
   "source": [
    "import tensorflow as tf\n",
    "\n",
    "data = tf.constant([1, 2, 3, 4, 5])\n",
    "min_list = [1, 4, 9, -19, 3]\n",
    "max_list = [9, 10, 11, -2, 4]\n",
    "#clip value\n",
    "results = tf.clip_by_value(data, clip_value_min=min_list, clip_value_max=max_list)\n",
    "print(results)"
   ]
  },
  {
   "cell_type": "markdown",
   "metadata": {
    "id": "11KEpIwPQUfx"
   },
   "source": [
    "#### hstask"
   ]
  },
  {
   "cell_type": "code",
   "execution_count": 45,
   "metadata": {
    "colab": {
     "base_uri": "https://localhost:8080/"
    },
    "executionInfo": {
     "elapsed": 10,
     "status": "ok",
     "timestamp": 1665919535440,
     "user": {
      "displayName": "Tiềm Đình",
      "userId": "05726324356439983752"
     },
     "user_tz": -420
    },
    "id": "-xrfUE80tpSA",
    "outputId": "4511e0d7-103c-4868-a1c2-273e51ad2a90"
   },
   "outputs": [
    {
     "name": "stdout",
     "output_type": "stream",
     "text": [
      "tensor1: tf.Tensor([1 2 3], shape=(3,), dtype=int32)\n",
      "tensor2: tf.Tensor([4 5 6], shape=(3,), dtype=int32)\n",
      "results tf.Tensor([ 1  4  9 -2  4], shape=(5,), dtype=int32)\n"
     ]
    }
   ],
   "source": [
    "#hstack(horizontal stack)  Ket hop tensor theo chieu ngang\n",
    "tensor1 = tf.constant([1, 2, 3])\n",
    "tensor2 = tf.constant([4, 5, 6])\n",
    "\n",
    "result = tf.stack((tensor1, tensor2), axis = 1)\n",
    "print(\"tensor1:\", tensor1)\n",
    "print(\"tensor2:\", tensor2)\n",
    "print(\"results\", results)\n"
   ]
  },
  {
   "cell_type": "code",
   "execution_count": 46,
   "metadata": {
    "colab": {
     "base_uri": "https://localhost:8080/"
    },
    "executionInfo": {
     "elapsed": 9,
     "status": "ok",
     "timestamp": 1665919535441,
     "user": {
      "displayName": "Tiềm Đình",
      "userId": "05726324356439983752"
     },
     "user_tz": -420
    },
    "id": "Ji5e78ZC12sY",
    "outputId": "3666f2f3-6f04-4a66-9ab0-a51ffe3e9a0c"
   },
   "outputs": [
    {
     "data": {
      "text/plain": [
       "<tf.Tensor: shape=(3, 2, 1), dtype=int32, numpy=\n",
       "array([[[1],\n",
       "        [4]],\n",
       "\n",
       "       [[2],\n",
       "        [5]],\n",
       "\n",
       "       [[3],\n",
       "        [6]]], dtype=int32)>"
      ]
     },
     "execution_count": 46,
     "metadata": {},
     "output_type": "execute_result"
    }
   ],
   "source": [
    "#hstack \n",
    "a = tf.constant([[1],[2],[3]])\n",
    "b = tf.constant([[4],[5],[6]])\n",
    "tf.stack((a,b), axis = 1)"
   ]
  },
  {
   "cell_type": "markdown",
   "metadata": {
    "id": "DeEaS_uwQYcy"
   },
   "source": [
    "#### vstack"
   ]
  },
  {
   "cell_type": "code",
   "execution_count": 48,
   "metadata": {
    "colab": {
     "base_uri": "https://localhost:8080/",
     "height": 235
    },
    "executionInfo": {
     "elapsed": 545,
     "status": "error",
     "timestamp": 1665919620076,
     "user": {
      "displayName": "Tiềm Đình",
      "userId": "05726324356439983752"
     },
     "user_tz": -420
    },
    "id": "Lx1xKh2M0leJ",
    "outputId": "12d9ccaa-f7e8-4f84-b2fb-ac805d7981f6"
   },
   "outputs": [
    {
     "ename": "NameError",
     "evalue": "ignored",
     "output_type": "error",
     "traceback": [
      "\u001b[0;31m---------------------------------------------------------------------------\u001b[0m",
      "\u001b[0;31mNameError\u001b[0m                                 Traceback (most recent call last)",
      "\u001b[0;32m<ipython-input-48-9ac28ea88872>\u001b[0m in \u001b[0;36m<module>\u001b[0;34m\u001b[0m\n\u001b[1;32m      3\u001b[0m \u001b[0mtensor2\u001b[0m \u001b[0;34m=\u001b[0m \u001b[0mtf\u001b[0m\u001b[0;34m.\u001b[0m\u001b[0mconstant\u001b[0m\u001b[0;34m(\u001b[0m\u001b[0;34m[\u001b[0m\u001b[0;36m4\u001b[0m\u001b[0;34m,\u001b[0m \u001b[0;36m5\u001b[0m\u001b[0;34m,\u001b[0m \u001b[0;36m6\u001b[0m\u001b[0;34m]\u001b[0m\u001b[0;34m)\u001b[0m\u001b[0;34m\u001b[0m\u001b[0;34m\u001b[0m\u001b[0m\n\u001b[1;32m      4\u001b[0m \u001b[0;34m\u001b[0m\u001b[0m\n\u001b[0;32m----> 5\u001b[0;31m \u001b[0mresults\u001b[0m \u001b[0;34m=\u001b[0m \u001b[0mtorch\u001b[0m\u001b[0;34m.\u001b[0m\u001b[0mstack\u001b[0m\u001b[0;34m(\u001b[0m\u001b[0;34m(\u001b[0m\u001b[0mtensor1\u001b[0m\u001b[0;34m,\u001b[0m \u001b[0mtensor2\u001b[0m\u001b[0;34m)\u001b[0m\u001b[0;34m,\u001b[0m \u001b[0maxis\u001b[0m \u001b[0;34m=\u001b[0m \u001b[0;36m0\u001b[0m\u001b[0;34m)\u001b[0m\u001b[0;34m\u001b[0m\u001b[0;34m\u001b[0m\u001b[0m\n\u001b[0m\u001b[1;32m      6\u001b[0m \u001b[0mprint\u001b[0m\u001b[0;34m(\u001b[0m\u001b[0;34m\"tensor1:\"\u001b[0m\u001b[0;34m,\u001b[0m \u001b[0mtensor1\u001b[0m\u001b[0;34m)\u001b[0m\u001b[0;34m\u001b[0m\u001b[0;34m\u001b[0m\u001b[0m\n\u001b[1;32m      7\u001b[0m \u001b[0mprint\u001b[0m\u001b[0;34m(\u001b[0m\u001b[0;34m\"tensor2:\"\u001b[0m\u001b[0;34m,\u001b[0m \u001b[0mtensor2\u001b[0m\u001b[0;34m)\u001b[0m\u001b[0;34m\u001b[0m\u001b[0;34m\u001b[0m\u001b[0m\n",
      "\u001b[0;31mNameError\u001b[0m: name 'torch' is not defined"
     ]
    }
   ],
   "source": [
    "#vstack(vertical stack) ket hop tensor theo chieu doc\n",
    "tensor1 = tf.constant([1, 2, 3])\n",
    "tensor2 = tf.constant([4, 5, 6])\n",
    "\n",
    "results = torch.stack((tensor1, tensor2), axis = 0)\n",
    "print(\"tensor1:\", tensor1)\n",
    "print(\"tensor2:\", tensor2)\n",
    "print(\"results\", results)"
   ]
  },
  {
   "cell_type": "code",
   "execution_count": 50,
   "metadata": {
    "colab": {
     "base_uri": "https://localhost:8080/"
    },
    "executionInfo": {
     "elapsed": 5,
     "status": "ok",
     "timestamp": 1665919658433,
     "user": {
      "displayName": "Tiềm Đình",
      "userId": "05726324356439983752"
     },
     "user_tz": -420
    },
    "id": "XUOhLhcx1W0s",
    "outputId": "76150a31-1d7c-47fd-eece-b6564418fd32"
   },
   "outputs": [
    {
     "data": {
      "text/plain": [
       "<tf.Tensor: shape=(2, 3, 1), dtype=int32, numpy=\n",
       "array([[[1],\n",
       "        [2],\n",
       "        [3]],\n",
       "\n",
       "       [[4],\n",
       "        [5],\n",
       "        [6]]], dtype=int32)>"
      ]
     },
     "execution_count": 50,
     "metadata": {},
     "output_type": "execute_result"
    }
   ],
   "source": [
    "#vstack \n",
    "a = tf.constant([[1],[2],[3]])\n",
    "b = tf.constant([[4],[5],[6]])\n",
    "tf.stack((a,b), axis = 0)"
   ]
  },
  {
   "cell_type": "markdown",
   "metadata": {
    "id": "e22C9JynQghc"
   },
   "source": [
    "#### concatenate\n"
   ]
  },
  {
   "cell_type": "code",
   "execution_count": 51,
   "metadata": {
    "colab": {
     "base_uri": "https://localhost:8080/"
    },
    "executionInfo": {
     "elapsed": 340,
     "status": "ok",
     "timestamp": 1665919691573,
     "user": {
      "displayName": "Tiềm Đình",
      "userId": "05726324356439983752"
     },
     "user_tz": -420
    },
    "id": "w5RJM07e2MXG",
    "outputId": "cf008bd5-5b55-4013-86f1-77a8970c52f7"
   },
   "outputs": [
    {
     "name": "stdout",
     "output_type": "stream",
     "text": [
      "tensor 1: tf.Tensor(\n",
      "[[1. 1. 1. 1.]\n",
      " [1. 1. 1. 1.]\n",
      " [1. 1. 1. 1.]], shape=(3, 4), dtype=float32)\n",
      "tensor 2: tf.Tensor(\n",
      "[[0. 0. 0. 0.]\n",
      " [0. 0. 0. 0.]\n",
      " [0. 0. 0. 0.]], shape=(3, 4), dtype=float32)\n",
      "concanate_tensor: tf.Tensor(\n",
      "[[1. 1. 1. 1.]\n",
      " [1. 1. 1. 1.]\n",
      " [1. 1. 1. 1.]\n",
      " [0. 0. 0. 0.]\n",
      " [0. 0. 0. 0.]\n",
      " [0. 0. 0. 0.]], shape=(6, 4), dtype=float32)\n",
      "concanate_tensor: tf.Tensor(\n",
      "[[1. 1. 1. 1. 0. 0. 0. 0.]\n",
      " [1. 1. 1. 1. 0. 0. 0. 0.]\n",
      " [1. 1. 1. 1. 0. 0. 0. 0.]], shape=(3, 8), dtype=float32)\n"
     ]
    }
   ],
   "source": [
    "#concatenate Noi hai tensor theo chieu ngang hoac chieu doc\n",
    "tensor1 = tf.ones((3,4))\n",
    "print(\"tensor 1:\", tensor1)\n",
    "\n",
    "tensor2 = tf.zeros((3,4))\n",
    "print(\"tensor 2:\", tensor2)\n",
    "\n",
    "#Noi theo chieu doc\n",
    "concanate_tensor = tf.concat((tensor1, tensor2), 0)\n",
    "print(\"concanate_tensor:\",concanate_tensor)\n",
    "\n",
    "#Noi theo chieu ngang\n",
    "concanate_tensor = tf.concat((tensor1, tensor2), 1)\n",
    "print(\"concanate_tensor:\",concanate_tensor)"
   ]
  },
  {
   "cell_type": "code",
   "execution_count": 52,
   "metadata": {
    "colab": {
     "base_uri": "https://localhost:8080/",
     "height": 432
    },
    "executionInfo": {
     "elapsed": 10,
     "status": "error",
     "timestamp": 1665919723134,
     "user": {
      "displayName": "Tiềm Đình",
      "userId": "05726324356439983752"
     },
     "user_tz": -420
    },
    "id": "4n_KWlhCRRqN",
    "outputId": "5487e15f-0cc8-40ea-b2c3-f517bb8df5c5"
   },
   "outputs": [
    {
     "name": "stdout",
     "output_type": "stream",
     "text": [
      "tensor 1: tf.Tensor([1. 1. 1.], shape=(3,), dtype=float32)\n",
      "tensor 2: tf.Tensor([0. 0. 0.], shape=(3,), dtype=float32)\n",
      "concanate_tensor: tf.Tensor([1. 1. 1. 0. 0. 0.], shape=(6,), dtype=float32)\n"
     ]
    },
    {
     "ename": "InvalidArgumentError",
     "evalue": "ignored",
     "output_type": "error",
     "traceback": [
      "\u001b[0;31m---------------------------------------------------------------------------\u001b[0m",
      "\u001b[0;31mInvalidArgumentError\u001b[0m                      Traceback (most recent call last)",
      "\u001b[0;32m<ipython-input-52-a8bf87325dae>\u001b[0m in \u001b[0;36m<module>\u001b[0;34m\u001b[0m\n\u001b[1;32m     10\u001b[0m \u001b[0;34m\u001b[0m\u001b[0m\n\u001b[1;32m     11\u001b[0m \u001b[0;31m#Noi theo chieu ngang\u001b[0m\u001b[0;34m\u001b[0m\u001b[0;34m\u001b[0m\u001b[0;34m\u001b[0m\u001b[0m\n\u001b[0;32m---> 12\u001b[0;31m \u001b[0mconcanate_tensor\u001b[0m \u001b[0;34m=\u001b[0m \u001b[0mtf\u001b[0m\u001b[0;34m.\u001b[0m\u001b[0mconcat\u001b[0m\u001b[0;34m(\u001b[0m\u001b[0;34m(\u001b[0m\u001b[0mtensor1\u001b[0m\u001b[0;34m,\u001b[0m \u001b[0mtensor2\u001b[0m\u001b[0;34m)\u001b[0m\u001b[0;34m,\u001b[0m \u001b[0;36m1\u001b[0m\u001b[0;34m)\u001b[0m\u001b[0;34m\u001b[0m\u001b[0;34m\u001b[0m\u001b[0m\n\u001b[0m\u001b[1;32m     13\u001b[0m \u001b[0mprint\u001b[0m\u001b[0;34m(\u001b[0m\u001b[0;34m\"concanate_tensor:\"\u001b[0m\u001b[0;34m,\u001b[0m\u001b[0mconcanate_tensor\u001b[0m\u001b[0;34m)\u001b[0m\u001b[0;34m\u001b[0m\u001b[0;34m\u001b[0m\u001b[0m\n",
      "\u001b[0;32m/usr/local/lib/python3.7/dist-packages/tensorflow/python/util/traceback_utils.py\u001b[0m in \u001b[0;36merror_handler\u001b[0;34m(*args, **kwargs)\u001b[0m\n\u001b[1;32m    151\u001b[0m     \u001b[0;32mexcept\u001b[0m \u001b[0mException\u001b[0m \u001b[0;32mas\u001b[0m \u001b[0me\u001b[0m\u001b[0;34m:\u001b[0m\u001b[0;34m\u001b[0m\u001b[0;34m\u001b[0m\u001b[0m\n\u001b[1;32m    152\u001b[0m       \u001b[0mfiltered_tb\u001b[0m \u001b[0;34m=\u001b[0m \u001b[0m_process_traceback_frames\u001b[0m\u001b[0;34m(\u001b[0m\u001b[0me\u001b[0m\u001b[0;34m.\u001b[0m\u001b[0m__traceback__\u001b[0m\u001b[0;34m)\u001b[0m\u001b[0;34m\u001b[0m\u001b[0;34m\u001b[0m\u001b[0m\n\u001b[0;32m--> 153\u001b[0;31m       \u001b[0;32mraise\u001b[0m \u001b[0me\u001b[0m\u001b[0;34m.\u001b[0m\u001b[0mwith_traceback\u001b[0m\u001b[0;34m(\u001b[0m\u001b[0mfiltered_tb\u001b[0m\u001b[0;34m)\u001b[0m \u001b[0;32mfrom\u001b[0m \u001b[0;32mNone\u001b[0m\u001b[0;34m\u001b[0m\u001b[0;34m\u001b[0m\u001b[0m\n\u001b[0m\u001b[1;32m    154\u001b[0m     \u001b[0;32mfinally\u001b[0m\u001b[0;34m:\u001b[0m\u001b[0;34m\u001b[0m\u001b[0;34m\u001b[0m\u001b[0m\n\u001b[1;32m    155\u001b[0m       \u001b[0;32mdel\u001b[0m \u001b[0mfiltered_tb\u001b[0m\u001b[0;34m\u001b[0m\u001b[0;34m\u001b[0m\u001b[0m\n",
      "\u001b[0;32m/usr/local/lib/python3.7/dist-packages/tensorflow/python/framework/ops.py\u001b[0m in \u001b[0;36mraise_from_not_ok_status\u001b[0;34m(e, name)\u001b[0m\n\u001b[1;32m   7162\u001b[0m \u001b[0;32mdef\u001b[0m \u001b[0mraise_from_not_ok_status\u001b[0m\u001b[0;34m(\u001b[0m\u001b[0me\u001b[0m\u001b[0;34m,\u001b[0m \u001b[0mname\u001b[0m\u001b[0;34m)\u001b[0m\u001b[0;34m:\u001b[0m\u001b[0;34m\u001b[0m\u001b[0;34m\u001b[0m\u001b[0m\n\u001b[1;32m   7163\u001b[0m   \u001b[0me\u001b[0m\u001b[0;34m.\u001b[0m\u001b[0mmessage\u001b[0m \u001b[0;34m+=\u001b[0m \u001b[0;34m(\u001b[0m\u001b[0;34m\" name: \"\u001b[0m \u001b[0;34m+\u001b[0m \u001b[0mname\u001b[0m \u001b[0;32mif\u001b[0m \u001b[0mname\u001b[0m \u001b[0;32mis\u001b[0m \u001b[0;32mnot\u001b[0m \u001b[0;32mNone\u001b[0m \u001b[0;32melse\u001b[0m \u001b[0;34m\"\"\u001b[0m\u001b[0;34m)\u001b[0m\u001b[0;34m\u001b[0m\u001b[0;34m\u001b[0m\u001b[0m\n\u001b[0;32m-> 7164\u001b[0;31m   \u001b[0;32mraise\u001b[0m \u001b[0mcore\u001b[0m\u001b[0;34m.\u001b[0m\u001b[0m_status_to_exception\u001b[0m\u001b[0;34m(\u001b[0m\u001b[0me\u001b[0m\u001b[0;34m)\u001b[0m \u001b[0;32mfrom\u001b[0m \u001b[0;32mNone\u001b[0m  \u001b[0;31m# pylint: disable=protected-access\u001b[0m\u001b[0;34m\u001b[0m\u001b[0;34m\u001b[0m\u001b[0m\n\u001b[0m\u001b[1;32m   7165\u001b[0m \u001b[0;34m\u001b[0m\u001b[0m\n\u001b[1;32m   7166\u001b[0m \u001b[0;34m\u001b[0m\u001b[0m\n",
      "\u001b[0;31mInvalidArgumentError\u001b[0m: ConcatOp : Expected concatenating dimensions in the range [-1, 1), but got 1 [Op:ConcatV2] name: concat"
     ]
    }
   ],
   "source": [
    "tensor1 = tf.ones((3,))\n",
    "print(\"tensor 1:\", tensor1)\n",
    "\n",
    "tensor2 = tf.zeros((3,))\n",
    "print(\"tensor 2:\", tensor2)\n",
    "\n",
    "#Noi theo chieu doc\n",
    "concanate_tensor = tf.concat((tensor1, tensor2), 0)\n",
    "print(\"concanate_tensor:\",concanate_tensor)\n",
    "\n",
    "#Noi theo chieu ngang, khoong noi duoc vi day la tonsor 1 chieu nen chieu 1 khong ton tai\n",
    "concanate_tensor = tf.concat((tensor1, tensor2), 1)\n",
    "print(\"concanate_tensor:\",concanate_tensor)"
   ]
  },
  {
   "cell_type": "markdown",
   "metadata": {
    "id": "IKSrN6uqQ5Sy"
   },
   "source": [
    "####Add more dimensions"
   ]
  },
  {
   "cell_type": "code",
   "execution_count": 53,
   "metadata": {
    "colab": {
     "base_uri": "https://localhost:8080/"
    },
    "executionInfo": {
     "elapsed": 429,
     "status": "ok",
     "timestamp": 1665919863910,
     "user": {
      "displayName": "Tiềm Đình",
      "userId": "05726324356439983752"
     },
     "user_tz": -420
    },
    "id": "tOboHT0QPjoF",
    "outputId": "7cc70809-61ee-4956-e32a-790199997d57"
   },
   "outputs": [
    {
     "name": "stdout",
     "output_type": "stream",
     "text": [
      "tf.Tensor([0.21828926 0.83551097 0.74849343], shape=(3,), dtype=float32) (3,)\n",
      "(1, 3)\n"
     ]
    }
   ],
   "source": [
    "t1 = tf.random.uniform((3,))\n",
    "print(t1, t1.shape)\n",
    "\n",
    "#Cach 1: Su dung None de lap chi muc\n",
    "\n",
    "# 1D--->2D\n",
    "t1 = t1[None,:]\n",
    "print(t1.shape)"
   ]
  },
  {
   "cell_type": "code",
   "execution_count": 54,
   "metadata": {
    "colab": {
     "base_uri": "https://localhost:8080/"
    },
    "executionInfo": {
     "elapsed": 5,
     "status": "ok",
     "timestamp": 1665919889847,
     "user": {
      "displayName": "Tiềm Đình",
      "userId": "05726324356439983752"
     },
     "user_tz": -420
    },
    "id": "KJSLQxnUT4AL",
    "outputId": "1170e17b-4d38-408f-ac3e-244d1f86adc2"
   },
   "outputs": [
    {
     "name": "stdout",
     "output_type": "stream",
     "text": [
      "tf.Tensor([0.11755705 0.12099016 0.8643302 ], shape=(3,), dtype=float32) (3,)\n",
      "(1, 1, 3)\n"
     ]
    }
   ],
   "source": [
    "# 1D--->3D\n",
    "t1 = tf.random.uniform((3,))\n",
    "print(t1, t1.shape)\n",
    "t1 = t1[None,None]\n",
    "print(t1.shape)"
   ]
  },
  {
   "cell_type": "code",
   "execution_count": 55,
   "metadata": {
    "colab": {
     "base_uri": "https://localhost:8080/"
    },
    "executionInfo": {
     "elapsed": 5,
     "status": "ok",
     "timestamp": 1665919926013,
     "user": {
      "displayName": "Tiềm Đình",
      "userId": "05726324356439983752"
     },
     "user_tz": -420
    },
    "id": "QIAMjQRFWoAr",
    "outputId": "2d571332-8f72-4fcf-f3e3-479257a61492"
   },
   "outputs": [
    {
     "name": "stdout",
     "output_type": "stream",
     "text": [
      "tf.Tensor([0.3464328  0.5132257  0.34922528], shape=(3,), dtype=float32) (3,)\n",
      "(3, 1, 1)\n"
     ]
    }
   ],
   "source": [
    "#1D--->3D\n",
    "t1 = tf.random.uniform((3,))\n",
    "print(t1, t1.shape)\n",
    "\n",
    "t1 = t1[:, None,None]\n",
    "print(t1.shape)"
   ]
  },
  {
   "cell_type": "code",
   "execution_count": 56,
   "metadata": {
    "colab": {
     "base_uri": "https://localhost:8080/"
    },
    "executionInfo": {
     "elapsed": 314,
     "status": "ok",
     "timestamp": 1665919954915,
     "user": {
      "displayName": "Tiềm Đình",
      "userId": "05726324356439983752"
     },
     "user_tz": -420
    },
    "id": "Shuhc2ffX9O9",
    "outputId": "3e92971c-3112-4308-8cbf-f247432d0139"
   },
   "outputs": [
    {
     "name": "stdout",
     "output_type": "stream",
     "text": [
      "1D------->2D\n",
      "tf.Tensor([0.32593167 0.8267096  0.18861532], shape=(3,), dtype=float32) (3,)\n",
      "(1, 3)\n",
      "2D------->3D\n",
      "(1, 1, 3)\n",
      "3D------->5D\n",
      "(1, 1, 1, 1, 3)\n"
     ]
    }
   ],
   "source": [
    "# 1D--->2D\n",
    "print(\"1D------->2D\")\n",
    "t1 = tf.random.uniform((3,))\n",
    "print(t1, t1.shape)\n",
    "t1 = t1[None,:]\n",
    "print(t1.shape)\n",
    "\n",
    "print(\"2D------->3D\")\n",
    "t1 = t1[None,:]\n",
    "print(t1.shape)\n",
    "\n",
    "print(\"3D------->5D\")\n",
    "t1 = t1[None,None,:]\n",
    "print(t1.shape)"
   ]
  },
  {
   "cell_type": "code",
   "execution_count": 61,
   "metadata": {
    "colab": {
     "base_uri": "https://localhost:8080/"
    },
    "executionInfo": {
     "elapsed": 5,
     "status": "ok",
     "timestamp": 1665920075415,
     "user": {
      "displayName": "Tiềm Đình",
      "userId": "05726324356439983752"
     },
     "user_tz": -420
    },
    "id": "BJrTVhR4Wx20",
    "outputId": "7526fa4d-698d-476b-b6c5-b349d243ac5f"
   },
   "outputs": [
    {
     "name": "stdout",
     "output_type": "stream",
     "text": [
      "(16,)\n",
      "(1, 16)\n",
      "(1, 16, 1)\n"
     ]
    }
   ],
   "source": [
    "#Cach 2: su dung expand_dims\n",
    "# 1D--->2D\n",
    "x = tf.random.uniform((16,))\n",
    "print(x.shape)\n",
    "x = tf.expand_dims(x, axis=0)\n",
    "print(x.shape)\n",
    "\n",
    "# 2D--->3D\n",
    "x = tf.expand_dims(x, axis=(2))\n",
    "print(x.shape)"
   ]
  },
  {
   "cell_type": "code",
   "execution_count": 63,
   "metadata": {
    "colab": {
     "base_uri": "https://localhost:8080/"
    },
    "executionInfo": {
     "elapsed": 329,
     "status": "ok",
     "timestamp": 1665920136323,
     "user": {
      "displayName": "Tiềm Đình",
      "userId": "05726324356439983752"
     },
     "user_tz": -420
    },
    "id": "GT63yl-SXEge",
    "outputId": "8d60f1f3-7175-479c-df2f-4ac853dfc01c"
   },
   "outputs": [
    {
     "name": "stdout",
     "output_type": "stream",
     "text": [
      "(16,)\n",
      "(16, 1)\n"
     ]
    }
   ],
   "source": [
    "# Them 1 chieu vao cuoi\n",
    "x = tf.random.uniform((16,))\n",
    "print(x.shape)\n",
    "x = tf.expand_dims(x, axis=(-1))\n",
    "print(x.shape)"
   ]
  },
  {
   "cell_type": "markdown",
   "metadata": {
    "id": "_OI7hx5lg9mm"
   },
   "source": [
    "6. Apply along axis function <=> tf.map_fn"
   ]
  },
  {
   "cell_type": "code",
   "execution_count": 64,
   "metadata": {
    "colab": {
     "base_uri": "https://localhost:8080/"
    },
    "executionInfo": {
     "elapsed": 325,
     "status": "ok",
     "timestamp": 1665920323108,
     "user": {
      "displayName": "Tiềm Đình",
      "userId": "05726324356439983752"
     },
     "user_tz": -420
    },
    "id": "MWXuS5cg3VJR",
    "outputId": "916fb5c3-af8b-4c0f-d55d-0b9f65ac0b19"
   },
   "outputs": [
    {
     "data": {
      "text/plain": [
       "<tf.Tensor: shape=(4,), dtype=int32, numpy=array([6, 0, 9, 6], dtype=int32)>"
      ]
     },
     "execution_count": 64,
     "metadata": {},
     "output_type": "execute_result"
    }
   ],
   "source": [
    "# Example: RaggedTensor input\n",
    "rt = tf.ragged.constant([[1, 2, 3], [], [4, 5], [6]])\n",
    "tf.map_fn(tf.reduce_sum, rt, fn_output_signature=tf.int32)"
   ]
  },
  {
   "cell_type": "markdown",
   "metadata": {
    "id": "YOifROPlmGe5"
   },
   "source": [
    "7 Compare"
   ]
  },
  {
   "cell_type": "code",
   "execution_count": 65,
   "metadata": {
    "colab": {
     "base_uri": "https://localhost:8080/"
    },
    "executionInfo": {
     "elapsed": 6,
     "status": "ok",
     "timestamp": 1665920529455,
     "user": {
      "displayName": "Tiềm Đình",
      "userId": "05726324356439983752"
     },
     "user_tz": -420
    },
    "id": "1SxyANNhmIGL",
    "outputId": "dfa1e0b3-232f-4f01-9e0c-21f62b2776bd"
   },
   "outputs": [
    {
     "name": "stdout",
     "output_type": "stream",
     "text": [
      "tf.Tensor([False  True  True], shape=(3,), dtype=bool)\n",
      "tf.Tensor([False False  True], shape=(3,), dtype=bool)\n"
     ]
    }
   ],
   "source": [
    "#So sanh lon hon\n",
    "x = tf.constant([5, 4, 6])\n",
    "y = tf.constant([5, 2, 5])\n",
    "print(tf.math.greater(x, y) )\n",
    "\n",
    "x = tf.constant([5, 4, 6])\n",
    "y = tf.constant([5])\n",
    "print(tf.math.greater(x, y))"
   ]
  },
  {
   "cell_type": "code",
   "execution_count": 66,
   "metadata": {
    "colab": {
     "base_uri": "https://localhost:8080/"
    },
    "executionInfo": {
     "elapsed": 6,
     "status": "ok",
     "timestamp": 1665920597556,
     "user": {
      "displayName": "Tiềm Đình",
      "userId": "05726324356439983752"
     },
     "user_tz": -420
    },
    "id": "3djm3xYQmm0u",
    "outputId": "54b08bc9-5b01-410f-8b49-720a58fd5ef1"
   },
   "outputs": [
    {
     "name": "stdout",
     "output_type": "stream",
     "text": [
      "tf.Tensor([ True  True  True False], shape=(4,), dtype=bool)\n",
      "tf.Tensor([ True False  True  True], shape=(4,), dtype=bool)\n"
     ]
    }
   ],
   "source": [
    "#So sanh bang\n",
    "x = tf.constant([5, 4, 6, 7])\n",
    "y = tf.constant([5, 2, 5, 10])\n",
    "print(tf.math.greater_equal(x, y) )\n",
    "\n",
    "x = tf.constant([5, 4, 6, 7])\n",
    "y = tf.constant([5])\n",
    "print(tf.math.greater_equal(x, y) )"
   ]
  },
  {
   "cell_type": "markdown",
   "metadata": {
    "id": "8DtuhSwl8B45"
   },
   "source": [
    "#### Where, flatten, reshape"
   ]
  },
  {
   "cell_type": "code",
   "execution_count": 67,
   "metadata": {
    "colab": {
     "base_uri": "https://localhost:8080/"
    },
    "executionInfo": {
     "elapsed": 366,
     "status": "ok",
     "timestamp": 1665920628629,
     "user": {
      "displayName": "Tiềm Đình",
      "userId": "05726324356439983752"
     },
     "user_tz": -420
    },
    "id": "REnfjYf28Gm8",
    "outputId": "edde22ba-3529-4537-f2c5-4ad9f558d2b5"
   },
   "outputs": [
    {
     "name": "stdout",
     "output_type": "stream",
     "text": [
      "tf.Tensor(\n",
      "[[ True  True  True  True]\n",
      " [False  True False  True]\n",
      " [ True  True False  True]], shape=(3, 4), dtype=bool)\n",
      "tf.Tensor(\n",
      "[[ 0  0  0  0]\n",
      " [10  0 20  0]\n",
      " [ 0  0 48  0]], shape=(3, 4), dtype=int32)\n"
     ]
    }
   ],
   "source": [
    "import tensorflow as tf\n",
    "\n",
    "\n",
    "#Tao 1 tensor\n",
    "t = tf.constant([[1, 2, 3, 4],\n",
    "                  [5, 1, 10, -9],\n",
    "                  [1, 3, 24, -6]])\n",
    "#condition\n",
    "condition = t<5\n",
    "print(condition)\n",
    "\n",
    "#where\n",
    "out = tf.where(condition, 0, t*2)\n",
    "print(out)"
   ]
  },
  {
   "cell_type": "code",
   "execution_count": 76,
   "metadata": {
    "colab": {
     "base_uri": "https://localhost:8080/"
    },
    "executionInfo": {
     "elapsed": 335,
     "status": "ok",
     "timestamp": 1665921209175,
     "user": {
      "displayName": "Tiềm Đình",
      "userId": "05726324356439983752"
     },
     "user_tz": -420
    },
    "id": "5XIom1Zb87LI",
    "outputId": "5bedf1c5-5476-4c5d-fbb9-595ed90c6aa2"
   },
   "outputs": [
    {
     "name": "stdout",
     "output_type": "stream",
     "text": [
      "tf.Tensor([ 1  2  3  4  5  1 10 -9  1  3 24 -6], shape=(12,), dtype=int32)\n",
      "(12,)\n"
     ]
    }
   ],
   "source": [
    "#Vi flatten khong co san(chi co trong keras) nen chung ta co the dung reshape \n",
    "t = tf.constant([[1, 2, 3, 4],\n",
    "                  [5, 1, 10, -9],\n",
    "                  [1, 3, 24, -6]])\n",
    "t = tf.reshape(t, [-1])\n",
    "out = t.get_shape()\n",
    "print(t)\n",
    "print(out)"
   ]
  },
  {
   "cell_type": "code",
   "execution_count": 78,
   "metadata": {
    "colab": {
     "base_uri": "https://localhost:8080/"
    },
    "executionInfo": {
     "elapsed": 314,
     "status": "ok",
     "timestamp": 1665921232501,
     "user": {
      "displayName": "Tiềm Đình",
      "userId": "05726324356439983752"
     },
     "user_tz": -420
    },
    "id": "HVZty8Jq-ASW",
    "outputId": "ba4ea1fc-a955-43b2-81c5-8c1ef6a0208f"
   },
   "outputs": [
    {
     "name": "stdout",
     "output_type": "stream",
     "text": [
      "tf.Tensor(\n",
      "[[ 1  2  3  4]\n",
      " [ 5  1 10 -9]\n",
      " [ 1  3 24 -6]], shape=(3, 4), dtype=int32)\n",
      "(3, 4)\n"
     ]
    }
   ],
   "source": [
    "#reshape\n",
    "t = tf.constant([[1, 2, 3, 4],\n",
    "                  [5, 1, 10, -9],\n",
    "                  [1, 3, 24, -6]])\n",
    "print(t)\n",
    "print(t.shape)\n"
   ]
  },
  {
   "cell_type": "code",
   "execution_count": 79,
   "metadata": {
    "colab": {
     "base_uri": "https://localhost:8080/"
    },
    "executionInfo": {
     "elapsed": 325,
     "status": "ok",
     "timestamp": 1665921239168,
     "user": {
      "displayName": "Tiềm Đình",
      "userId": "05726324356439983752"
     },
     "user_tz": -420
    },
    "id": "gfKCue6i-0OO",
    "outputId": "4db30b0c-b833-478c-af74-0dfaf670ca8a"
   },
   "outputs": [
    {
     "data": {
      "text/plain": [
       "<tf.Tensor: shape=(4, 3), dtype=int32, numpy=\n",
       "array([[ 1,  2,  3],\n",
       "       [ 4,  5,  1],\n",
       "       [10, -9,  1],\n",
       "       [ 3, 24, -6]], dtype=int32)>"
      ]
     },
     "execution_count": 79,
     "metadata": {},
     "output_type": "execute_result"
    }
   ],
   "source": [
    "tf.reshape(t, (4,3))"
   ]
  },
  {
   "cell_type": "code",
   "execution_count": 80,
   "metadata": {
    "colab": {
     "base_uri": "https://localhost:8080/"
    },
    "executionInfo": {
     "elapsed": 379,
     "status": "ok",
     "timestamp": 1665921243844,
     "user": {
      "displayName": "Tiềm Đình",
      "userId": "05726324356439983752"
     },
     "user_tz": -420
    },
    "id": "Hkd9kgsS_Odl",
    "outputId": "a29cd432-81bf-4a85-92c4-1a6917b6bc1f"
   },
   "outputs": [
    {
     "data": {
      "text/plain": [
       "<tf.Tensor: shape=(2, 6), dtype=int32, numpy=\n",
       "array([[ 1,  2,  3,  4,  5,  1],\n",
       "       [10, -9,  1,  3, 24, -6]], dtype=int32)>"
      ]
     },
     "execution_count": 80,
     "metadata": {},
     "output_type": "execute_result"
    }
   ],
   "source": [
    "tf.reshape(t, (2,6))"
   ]
  },
  {
   "cell_type": "code",
   "execution_count": 81,
   "metadata": {
    "colab": {
     "base_uri": "https://localhost:8080/"
    },
    "executionInfo": {
     "elapsed": 315,
     "status": "ok",
     "timestamp": 1665921247882,
     "user": {
      "displayName": "Tiềm Đình",
      "userId": "05726324356439983752"
     },
     "user_tz": -420
    },
    "id": "7J7c5hr9_UFe",
    "outputId": "08cf142d-f1b0-44ef-f462-d374b1a21066"
   },
   "outputs": [
    {
     "data": {
      "text/plain": [
       "<tf.Tensor: shape=(2, 2, 3), dtype=int32, numpy=\n",
       "array([[[ 1,  2,  3],\n",
       "        [ 4,  5,  1]],\n",
       "\n",
       "       [[10, -9,  1],\n",
       "        [ 3, 24, -6]]], dtype=int32)>"
      ]
     },
     "execution_count": 81,
     "metadata": {},
     "output_type": "execute_result"
    }
   ],
   "source": [
    "tf.reshape(t, (2, 2 ,3))"
   ]
  },
  {
   "cell_type": "markdown",
   "metadata": {
    "id": "d_76G_zZANQw"
   },
   "source": [
    "# TENSOR INDEXING"
   ]
  },
  {
   "cell_type": "markdown",
   "metadata": {
    "id": "WARAHc87UpLk"
   },
   "source": [
    "## Slicing"
   ]
  },
  {
   "cell_type": "code",
   "execution_count": 82,
   "metadata": {
    "colab": {
     "base_uri": "https://localhost:8080/"
    },
    "executionInfo": {
     "elapsed": 5,
     "status": "ok",
     "timestamp": 1665921300783,
     "user": {
      "displayName": "Tiềm Đình",
      "userId": "05726324356439983752"
     },
     "user_tz": -420
    },
    "id": "rbU-APCOAQts",
    "outputId": "a6a602d5-2329-4ee1-a85c-8c8e20ca3a63"
   },
   "outputs": [
    {
     "name": "stdout",
     "output_type": "stream",
     "text": [
      "tf.Tensor(\n",
      "[[ 76.516266 -18.289139  49.314194]\n",
      " [-62.28869  -64.78989   51.13542 ]\n",
      " [ 62.239258 -75.24874   28.698318]], shape=(3, 3), dtype=float32)\n",
      "tf.Tensor(-18.289139, shape=(), dtype=float32)\n",
      "tf.Tensor([-18.289139 -64.78989  -75.24874 ], shape=(3,), dtype=float32)\n",
      "tf.Tensor([76.516266], shape=(1,), dtype=float32)\n",
      "tf.Tensor(\n",
      "[[ 76.516266 -18.289139  49.314194]\n",
      " [-62.28869  -64.78989   51.13542 ]\n",
      " [ 62.239258 -75.24874   28.698318]], shape=(3, 3), dtype=float32)\n"
     ]
    }
   ],
   "source": [
    "#slicing\n",
    "\n",
    "t1 = tf.random.uniform((3,3), minval = -100, maxval =100)\n",
    "print(t1)\n",
    "print(t1[0,1])\n",
    "print(t1[:, 1])\n",
    "print(t1[0:1, 0])\n",
    "print(t1[:,:])"
   ]
  },
  {
   "cell_type": "code",
   "execution_count": 84,
   "metadata": {
    "colab": {
     "base_uri": "https://localhost:8080/"
    },
    "executionInfo": {
     "elapsed": 344,
     "status": "ok",
     "timestamp": 1665921348443,
     "user": {
      "displayName": "Tiềm Đình",
      "userId": "05726324356439983752"
     },
     "user_tz": -420
    },
    "id": "X4FAAdIBAdgC",
    "outputId": "c7bb5a68-23ac-4fcc-ecb9-ab2bfb41d093"
   },
   "outputs": [
    {
     "name": "stdout",
     "output_type": "stream",
     "text": [
      "tf.Tensor(\n",
      "[[1 2 3]\n",
      " [5 6 7]], shape=(2, 3), dtype=int32)\n",
      "tf.Tensor(\n",
      "[[2 3]\n",
      " [6 7]], shape=(2, 2), dtype=int32)\n"
     ]
    }
   ],
   "source": [
    "#slicing\n",
    "import tensorflow as tf\n",
    "\n",
    "#Khoi tao 1 tensor\n",
    "t1 = tf.constant([[1, 2, 3],\n",
    "                  [5, 6, 7]])\n",
    "#Su dung slicing de tao tensor t2 bang cach lay tat ca dong va cot\n",
    "t2 = t1[:, 1:3]\n",
    "\n",
    "print(t1)\n",
    "print(t2)"
   ]
  },
  {
   "cell_type": "code",
   "execution_count": 85,
   "metadata": {
    "colab": {
     "base_uri": "https://localhost:8080/",
     "height": 339
    },
    "executionInfo": {
     "elapsed": 321,
     "status": "error",
     "timestamp": 1665921371170,
     "user": {
      "displayName": "Tiềm Đình",
      "userId": "05726324356439983752"
     },
     "user_tz": -420
    },
    "id": "pgJSdoZIElIi",
    "outputId": "b7fc15b3-50e5-4343-f609-879dcd72c61b"
   },
   "outputs": [
    {
     "name": "stdout",
     "output_type": "stream",
     "text": [
      "tf.Tensor(\n",
      "[[1 2 3]\n",
      " [5 6 7]], shape=(2, 3), dtype=int32)\n",
      "tf.Tensor(\n",
      "[[2 3]\n",
      " [6 7]], shape=(2, 2), dtype=int32)\n"
     ]
    },
    {
     "ename": "TypeError",
     "evalue": "ignored",
     "output_type": "error",
     "traceback": [
      "\u001b[0;31m---------------------------------------------------------------------------\u001b[0m",
      "\u001b[0;31mTypeError\u001b[0m                                 Traceback (most recent call last)",
      "\u001b[0;32m<ipython-input-85-15595f12a593>\u001b[0m in \u001b[0;36m<module>\u001b[0;34m\u001b[0m\n\u001b[1;32m     11\u001b[0m \u001b[0mprint\u001b[0m\u001b[0;34m(\u001b[0m\u001b[0mt2\u001b[0m\u001b[0;34m)\u001b[0m\u001b[0;34m\u001b[0m\u001b[0;34m\u001b[0m\u001b[0m\n\u001b[1;32m     12\u001b[0m \u001b[0;34m\u001b[0m\u001b[0m\n\u001b[0;32m---> 13\u001b[0;31m \u001b[0mt2\u001b[0m\u001b[0;34m[\u001b[0m\u001b[0;36m0\u001b[0m\u001b[0;34m,\u001b[0m\u001b[0;36m0\u001b[0m\u001b[0;34m]\u001b[0m \u001b[0;34m=\u001b[0m \u001b[0;36m99\u001b[0m\u001b[0;34m\u001b[0m\u001b[0;34m\u001b[0m\u001b[0m\n\u001b[0m\u001b[1;32m     14\u001b[0m \u001b[0;34m\u001b[0m\u001b[0m\n\u001b[1;32m     15\u001b[0m \u001b[0mprint\u001b[0m\u001b[0;34m(\u001b[0m\u001b[0mt2\u001b[0m\u001b[0;34m)\u001b[0m\u001b[0;34m\u001b[0m\u001b[0;34m\u001b[0m\u001b[0m\n",
      "\u001b[0;31mTypeError\u001b[0m: 'tensorflow.python.framework.ops.EagerTensor' object does not support item assignment"
     ]
    }
   ],
   "source": [
    "#Mutable\n",
    "import tensorflow as tf\n",
    "\n",
    "#Khoi tao 1 tensor\n",
    "t1 = tf.constant([[1, 2, 3],\n",
    "                  [5, 6, 7]])\n",
    "#Su dung slicing de tao tensor t2 bang cach lay tat ca dong va cot\n",
    "t2 = t1[:, 1:3]\n",
    "\n",
    "print(t1)\n",
    "print(t2)\n",
    "\n",
    "#Khong gong numpy hoac pytorch, chung ta khong the thay doi gia tri trong 1 tensor\n",
    "t2[0,0] = 99\n",
    "\n",
    "print(t2)\n",
    "print(t1)\n"
   ]
  },
  {
   "cell_type": "code",
   "execution_count": 92,
   "metadata": {
    "colab": {
     "base_uri": "https://localhost:8080/"
    },
    "executionInfo": {
     "elapsed": 6,
     "status": "ok",
     "timestamp": 1665921772941,
     "user": {
      "displayName": "Tiềm Đình",
      "userId": "05726324356439983752"
     },
     "user_tz": -420
    },
    "id": "a8F3V3r1qqJS",
    "outputId": "ee22e59b-9602-4e30-a630-e480b75041c6"
   },
   "outputs": [
    {
     "data": {
      "text/plain": [
       "<tf.Tensor: shape=(), dtype=int32, numpy=1>"
      ]
     },
     "execution_count": 92,
     "metadata": {},
     "output_type": "execute_result"
    }
   ],
   "source": [
    "t1[0,0]"
   ]
  },
  {
   "cell_type": "code",
   "execution_count": 107,
   "metadata": {
    "colab": {
     "base_uri": "https://localhost:8080/"
    },
    "executionInfo": {
     "elapsed": 336,
     "status": "ok",
     "timestamp": 1665922164149,
     "user": {
      "displayName": "Tiềm Đình",
      "userId": "05726324356439983752"
     },
     "user_tz": -420
    },
    "id": "-CCHf39rqEfa",
    "outputId": "3658e9a1-8c14-4d9d-f4cf-3e9f1f7adbb7"
   },
   "outputs": [
    {
     "name": "stdout",
     "output_type": "stream",
     "text": [
      "[[2 2 3]\n",
      " [5 6 7]]\n"
     ]
    }
   ],
   "source": [
    "#Tuy nhien, van co the thay doi bang cach su dung ham sau tf.tensor_scatter_nd_update\n",
    "indices=[[0,0]]\n",
    "updates=[2]\n",
    "tf.print(tf.tensor_scatter_nd_update(t1, indices, updates))\n"
   ]
  },
  {
   "cell_type": "markdown",
   "metadata": {
    "id": "m3F2i8p6Uwtr"
   },
   "source": [
    "## Get a row"
   ]
  },
  {
   "cell_type": "code",
   "execution_count": 108,
   "metadata": {
    "colab": {
     "base_uri": "https://localhost:8080/"
    },
    "executionInfo": {
     "elapsed": 325,
     "status": "ok",
     "timestamp": 1665922225212,
     "user": {
      "displayName": "Tiềm Đình",
      "userId": "05726324356439983752"
     },
     "user_tz": -420
    },
    "id": "1KIL-Q5KFmK2",
    "outputId": "16bf0145-8abf-4ae0-bbda-b64c1c6634e8"
   },
   "outputs": [
    {
     "name": "stdout",
     "output_type": "stream",
     "text": [
      "tf.Tensor(\n",
      "[[8.773263  6.4057317 9.610741 ]\n",
      " [7.4160533 5.5307207 9.984204 ]\n",
      " [6.050125  4.392494  8.476948 ]], shape=(3, 3), dtype=float32) (3, 3)\n"
     ]
    }
   ],
   "source": [
    "#Get a row\n",
    "#Tao 1 tensor co kic co 3x3 \n",
    "t1 = tf.random.uniform((3, 3), maxval= 10, minval= 1)\n",
    "print(t1, t1.shape)"
   ]
  },
  {
   "cell_type": "code",
   "execution_count": 109,
   "metadata": {
    "colab": {
     "base_uri": "https://localhost:8080/"
    },
    "executionInfo": {
     "elapsed": 332,
     "status": "ok",
     "timestamp": 1665922246946,
     "user": {
      "displayName": "Tiềm Đình",
      "userId": "05726324356439983752"
     },
     "user_tz": -420
    },
    "id": "CsI_7SOJGudG",
    "outputId": "76f54687-b2c4-475c-cb95-2a3ef6601ff8"
   },
   "outputs": [
    {
     "name": "stdout",
     "output_type": "stream",
     "text": [
      "tf.Tensor([7.4160533 5.5307207 9.984204 ], shape=(3,), dtype=float32) (3,)\n",
      "tf.Tensor([[7.4160533 5.5307207 9.984204 ]], shape=(1, 3), dtype=float32) (1, 3)\n"
     ]
    }
   ],
   "source": [
    "#cach 1: So chiu giam  \n",
    "t2 = t1[1, :]\n",
    "#cach 2: so chieu giu nguyen\n",
    "t3 = t1[1:2, :]\n",
    "\n",
    "print(t2, t2.shape)\n",
    "print(t3, t3.shape)"
   ]
  },
  {
   "cell_type": "markdown",
   "metadata": {
    "id": "4wSAbSStU3Ce"
   },
   "source": [
    "##Get a column"
   ]
  },
  {
   "cell_type": "code",
   "execution_count": 110,
   "metadata": {
    "colab": {
     "base_uri": "https://localhost:8080/"
    },
    "executionInfo": {
     "elapsed": 356,
     "status": "ok",
     "timestamp": 1665922264839,
     "user": {
      "displayName": "Tiềm Đình",
      "userId": "05726324356439983752"
     },
     "user_tz": -420
    },
    "id": "SzRegsv-HHWm",
    "outputId": "f61dbba3-baa5-48fe-f328-bd6d11411e6b"
   },
   "outputs": [
    {
     "name": "stdout",
     "output_type": "stream",
     "text": [
      "tf.Tensor(\n",
      "[[7.1335006 9.432911  3.477138 ]\n",
      " [9.992009  5.544812  3.0378232]\n",
      " [3.9934053 1.2377596 6.331797 ]], shape=(3, 3), dtype=float32) (3, 3)\n",
      "tf.Tensor([9.432911  5.544812  1.2377596], shape=(3,), dtype=float32) (3,)\n",
      "tf.Tensor(\n",
      "[[9.432911 ]\n",
      " [5.544812 ]\n",
      " [1.2377596]], shape=(3, 1), dtype=float32) (3, 1)\n"
     ]
    }
   ],
   "source": [
    "#Get a column\n",
    "\n",
    "#Tao 1 tensor co kic co 3x3 \n",
    "t1 = tf.random.uniform((3, 3), maxval= 10, minval= 1)\n",
    "print(t1, t1.shape)\n",
    "\n",
    "#cach 1: So chiu giam  \n",
    "t2 = t1[:, 1]\n",
    "#cach 2: so chieu giu nguyen\n",
    "t3 = t1[:, 1:2]\n",
    "\n",
    "print(t2, t2.shape)\n",
    "print(t3, t3.shape)"
   ]
  },
  {
   "cell_type": "markdown",
   "metadata": {
    "id": "v6zTOa0dU69t"
   },
   "source": [
    "##Using lists as indices"
   ]
  },
  {
   "cell_type": "code",
   "execution_count": 116,
   "metadata": {
    "colab": {
     "base_uri": "https://localhost:8080/",
     "height": 502
    },
    "executionInfo": {
     "elapsed": 9,
     "status": "error",
     "timestamp": 1665922610860,
     "user": {
      "displayName": "Tiềm Đình",
      "userId": "05726324356439983752"
     },
     "user_tz": -420
    },
    "id": "Fjb9w65WHqlU",
    "outputId": "9aed5f55-f8c2-4283-bfb1-85477f928db7"
   },
   "outputs": [
    {
     "name": "stdout",
     "output_type": "stream",
     "text": [
      "tf.Tensor(\n",
      "[[2.0580134 2.0889115 8.778972  1.4986323 9.313283 ]\n",
      " [1.9026492 5.2134476 1.0610803 2.4738717 5.007744 ]\n",
      " [8.876146  8.086346  6.8475847 1.000368  3.548121 ]\n",
      " [6.0482864 7.0511107 2.7591248 4.7179174 3.9542975]\n",
      " [6.7710667 5.4424987 9.248647  9.696607  5.623284 ]], shape=(5, 5), dtype=float32) (5, 5)\n"
     ]
    },
    {
     "ename": "TypeError",
     "evalue": "ignored",
     "output_type": "error",
     "traceback": [
      "\u001b[0;31m---------------------------------------------------------------------------\u001b[0m",
      "\u001b[0;31mTypeError\u001b[0m                                 Traceback (most recent call last)",
      "\u001b[0;32m<ipython-input-116-0992c407e207>\u001b[0m in \u001b[0;36m<module>\u001b[0;34m\u001b[0m\n\u001b[1;32m      5\u001b[0m \u001b[0;34m\u001b[0m\u001b[0m\n\u001b[1;32m      6\u001b[0m \u001b[0;31m#Lay gia tri tai vi tri (0,0), (1, 1), (2, 0)\u001b[0m\u001b[0;34m\u001b[0m\u001b[0;34m\u001b[0m\u001b[0;34m\u001b[0m\u001b[0m\n\u001b[0;32m----> 7\u001b[0;31m \u001b[0mout1\u001b[0m \u001b[0;34m=\u001b[0m \u001b[0mt1\u001b[0m\u001b[0;34m[\u001b[0m\u001b[0;34m[\u001b[0m\u001b[0;36m0\u001b[0m\u001b[0;34m,\u001b[0m \u001b[0;36m1\u001b[0m \u001b[0;34m,\u001b[0m \u001b[0;36m2\u001b[0m\u001b[0;34m]\u001b[0m\u001b[0;34m:\u001b[0m \u001b[0;34m[\u001b[0m\u001b[0;36m0\u001b[0m\u001b[0;34m,\u001b[0m \u001b[0;36m1\u001b[0m\u001b[0;34m,\u001b[0m \u001b[0;36m0\u001b[0m\u001b[0;34m]\u001b[0m\u001b[0;34m]\u001b[0m\u001b[0;34m\u001b[0m\u001b[0;34m\u001b[0m\u001b[0m\n\u001b[0m\u001b[1;32m      8\u001b[0m \u001b[0mprint\u001b[0m\u001b[0;34m(\u001b[0m\u001b[0mout1\u001b[0m\u001b[0;34m)\u001b[0m\u001b[0;34m\u001b[0m\u001b[0;34m\u001b[0m\u001b[0m\n\u001b[1;32m      9\u001b[0m \u001b[0;34m\u001b[0m\u001b[0m\n",
      "\u001b[0;32m/usr/local/lib/python3.7/dist-packages/tensorflow/python/util/traceback_utils.py\u001b[0m in \u001b[0;36merror_handler\u001b[0;34m(*args, **kwargs)\u001b[0m\n\u001b[1;32m    151\u001b[0m     \u001b[0;32mexcept\u001b[0m \u001b[0mException\u001b[0m \u001b[0;32mas\u001b[0m \u001b[0me\u001b[0m\u001b[0;34m:\u001b[0m\u001b[0;34m\u001b[0m\u001b[0;34m\u001b[0m\u001b[0m\n\u001b[1;32m    152\u001b[0m       \u001b[0mfiltered_tb\u001b[0m \u001b[0;34m=\u001b[0m \u001b[0m_process_traceback_frames\u001b[0m\u001b[0;34m(\u001b[0m\u001b[0me\u001b[0m\u001b[0;34m.\u001b[0m\u001b[0m__traceback__\u001b[0m\u001b[0;34m)\u001b[0m\u001b[0;34m\u001b[0m\u001b[0;34m\u001b[0m\u001b[0m\n\u001b[0;32m--> 153\u001b[0;31m       \u001b[0;32mraise\u001b[0m \u001b[0me\u001b[0m\u001b[0;34m.\u001b[0m\u001b[0mwith_traceback\u001b[0m\u001b[0;34m(\u001b[0m\u001b[0mfiltered_tb\u001b[0m\u001b[0;34m)\u001b[0m \u001b[0;32mfrom\u001b[0m \u001b[0;32mNone\u001b[0m\u001b[0;34m\u001b[0m\u001b[0;34m\u001b[0m\u001b[0m\n\u001b[0m\u001b[1;32m    154\u001b[0m     \u001b[0;32mfinally\u001b[0m\u001b[0;34m:\u001b[0m\u001b[0;34m\u001b[0m\u001b[0;34m\u001b[0m\u001b[0m\n\u001b[1;32m    155\u001b[0m       \u001b[0;32mdel\u001b[0m \u001b[0mfiltered_tb\u001b[0m\u001b[0;34m\u001b[0m\u001b[0;34m\u001b[0m\u001b[0m\n",
      "\u001b[0;32m/usr/local/lib/python3.7/dist-packages/tensorflow/python/ops/array_ops.py\u001b[0m in \u001b[0;36m_check_index\u001b[0;34m(idx)\u001b[0m\n\u001b[1;32m    905\u001b[0m     \u001b[0;31m# TODO(slebedev): IndexError seems more appropriate here, but it\u001b[0m\u001b[0;34m\u001b[0m\u001b[0;34m\u001b[0m\u001b[0;34m\u001b[0m\u001b[0m\n\u001b[1;32m    906\u001b[0m     \u001b[0;31m# will break `_slice_helper` contract.\u001b[0m\u001b[0;34m\u001b[0m\u001b[0;34m\u001b[0m\u001b[0;34m\u001b[0m\u001b[0m\n\u001b[0;32m--> 907\u001b[0;31m     \u001b[0;32mraise\u001b[0m \u001b[0mTypeError\u001b[0m\u001b[0;34m(\u001b[0m\u001b[0m_SLICE_TYPE_ERROR\u001b[0m \u001b[0;34m+\u001b[0m \u001b[0;34m\", got {!r}\"\u001b[0m\u001b[0;34m.\u001b[0m\u001b[0mformat\u001b[0m\u001b[0;34m(\u001b[0m\u001b[0midx\u001b[0m\u001b[0;34m)\u001b[0m\u001b[0;34m)\u001b[0m\u001b[0;34m\u001b[0m\u001b[0;34m\u001b[0m\u001b[0m\n\u001b[0m\u001b[1;32m    908\u001b[0m \u001b[0;34m\u001b[0m\u001b[0m\n\u001b[1;32m    909\u001b[0m \u001b[0;34m\u001b[0m\u001b[0m\n",
      "\u001b[0;31mTypeError\u001b[0m: Only integers, slices (`:`), ellipsis (`...`), tf.newaxis (`None`) and scalar tf.int32/tf.int64 tensors are valid indices, got [0, 1, 2]"
     ]
    }
   ],
   "source": [
    "#Using lists as indices - khong ho tro\n",
    "\n",
    "t1 = tf.random.uniform((5, 5), maxval= 10, minval= 1)\n",
    "print(t1, t1.shape)\n",
    "\n",
    "#Lay gia tri tai vi tri (0,0), (1, 1), (2, 0)\n",
    "out1 = t1[[0, 1 , 2]: [0, 1, 0]]\n",
    "print(out1)\n",
    "\n",
    "#Có thể truy xuất 1 phần tử nhiều lần cùng lúc\n",
    "out2 = t1[[0, 0, 0], [1, 1, 1]]\n",
    "print(out2)\n",
    "\n"
   ]
  },
  {
   "cell_type": "markdown",
   "metadata": {
    "id": "RoiDH3ZZU-sB"
   },
   "source": [
    "##Boolean indices"
   ]
  },
  {
   "cell_type": "code",
   "execution_count": 117,
   "metadata": {
    "colab": {
     "base_uri": "https://localhost:8080/"
    },
    "executionInfo": {
     "elapsed": 320,
     "status": "ok",
     "timestamp": 1665922630101,
     "user": {
      "displayName": "Tiềm Đình",
      "userId": "05726324356439983752"
     },
     "user_tz": -420
    },
    "id": "FZJqAnzsIY3o",
    "outputId": "ff4e17e1-fb1a-45c0-8a41-0844bdd8d542"
   },
   "outputs": [
    {
     "name": "stdout",
     "output_type": "stream",
     "text": [
      "tf.Tensor(\n",
      "[[4.117895  5.619031  4.1430273 8.77248   3.304423 ]\n",
      " [1.1272665 4.082544  2.5191045 6.739849  2.3706422]\n",
      " [3.5587983 5.8844132 3.2367811 7.2279243 6.680771 ]\n",
      " [4.80103   3.721528  7.482543  9.847506  2.2476177]\n",
      " [5.4167347 2.1295352 7.0062923 5.9722285 5.483868 ]], shape=(5, 5), dtype=float32) (5, 5)\n",
      "tf.Tensor(\n",
      "[[ True  True  True  True  True]\n",
      " [False  True  True  True  True]\n",
      " [ True  True  True  True  True]\n",
      " [ True  True  True  True  True]\n",
      " [ True  True  True  True  True]], shape=(5, 5), dtype=bool)\n"
     ]
    }
   ],
   "source": [
    "#Boolean indices\n",
    "t1 = tf.random.uniform((5, 5), maxval= 10, minval= 1)\n",
    "print(t1, t1.shape)\n",
    "\n",
    "#Tim cac phan tu lon hon 2\n",
    "bool_idx = t1>2\n",
    "print(bool_idx)"
   ]
  },
  {
   "cell_type": "code",
   "execution_count": 119,
   "metadata": {
    "colab": {
     "base_uri": "https://localhost:8080/"
    },
    "executionInfo": {
     "elapsed": 5,
     "status": "ok",
     "timestamp": 1665922654929,
     "user": {
      "displayName": "Tiềm Đình",
      "userId": "05726324356439983752"
     },
     "user_tz": -420
    },
    "id": "OJtwCCcsJHNW",
    "outputId": "c35acb36-fd4c-4e07-e805-1b1cdec94868"
   },
   "outputs": [
    {
     "name": "stdout",
     "output_type": "stream",
     "text": [
      "tf.Tensor(\n",
      "[[ 8.4560890e+00 -2.0712066e+00 -7.4573445e+00  9.5659924e+00\n",
      "  -5.1289368e-01]\n",
      " [ 2.2858095e+00 -1.3282490e+00 -9.7193861e+00 -9.1842728e+00\n",
      "  -4.1151786e+00]\n",
      " [-4.3569112e+00  1.2932062e+00 -5.3783655e+00  9.8270073e+00\n",
      "   7.5603466e+00]\n",
      " [ 7.6691551e+00 -7.3957443e-03 -5.8940673e+00  8.1145763e-01\n",
      "   6.3597374e+00]\n",
      " [-7.9740024e+00 -1.1429482e+00  6.7499619e+00  3.5310841e+00\n",
      "  -7.8965330e+00]], shape=(5, 5), dtype=float32) (5, 5)\n",
      "tf.Tensor(\n",
      "[[ True False False  True False]\n",
      " [ True False False False False]\n",
      " [False False False  True  True]\n",
      " [ True False False False  True]\n",
      " [False False  True  True False]], shape=(5, 5), dtype=bool)\n",
      "tf.Tensor([ 1  4  9 -2  4], shape=(5,), dtype=int32)\n"
     ]
    }
   ],
   "source": [
    "t1 = tf.random.uniform((5, 5), maxval= 10, minval= -10)\n",
    "print(t1, t1.shape)\n",
    "\n",
    "#Tim cac phan tu lon hon 2\n",
    "bool_idx = t1>2\n",
    "print(bool_idx)\n",
    "#get satisfying  elements\n",
    "result = t1[bool_idx]\n",
    "print(results)"
   ]
  },
  {
   "cell_type": "markdown",
   "metadata": {
    "id": "3GcAEgM3VCop"
   },
   "source": [
    "##Addition"
   ]
  },
  {
   "cell_type": "code",
   "execution_count": 121,
   "metadata": {
    "colab": {
     "base_uri": "https://localhost:8080/"
    },
    "executionInfo": {
     "elapsed": 345,
     "status": "ok",
     "timestamp": 1665922703860,
     "user": {
      "displayName": "Tiềm Đình",
      "userId": "05726324356439983752"
     },
     "user_tz": -420
    },
    "id": "0pr99SDmJe9S",
    "outputId": "b36b662d-1da2-4b6a-a6e9-6873e8768d04"
   },
   "outputs": [
    {
     "name": "stdout",
     "output_type": "stream",
     "text": [
      "t1: tf.Tensor([7.453327  2.9003181 3.1782434 2.742953  8.48974  ], shape=(5,), dtype=float32)\n",
      "t2: tf.Tensor([2.2364683 2.8146462 7.6805964 4.603493  2.0599756], shape=(5,), dtype=float32)\n",
      "method 1\n",
      " tf.Tensor([ 9.6897955  5.7149644 10.85884    7.346446  10.549716 ], shape=(5,), dtype=float32)\n",
      "method 2\n",
      " tf.Tensor([ 9.6897955  5.7149644 10.85884    7.346446  10.549716 ], shape=(5,), dtype=float32)\n"
     ]
    }
   ],
   "source": [
    "#Addition\n",
    "import tensorflow as tf\n",
    "\n",
    "t1 = tf.random.uniform((5, ), maxval= 10, minval= 1)\n",
    "t2 = tf.random.uniform((5, ), maxval= 10, minval= 1)\n",
    "\n",
    "print(\"t1:\",t1)\n",
    "print(\"t2:\",t2)\n",
    "\n",
    "#tong hai tensor \n",
    "print(\"method 1\\n\", t1+t2)\n",
    "print(\"method 2\\n\", tf.add(t1, t2))"
   ]
  },
  {
   "cell_type": "markdown",
   "metadata": {
    "id": "YXJ0DbnYVFAK"
   },
   "source": [
    "##Subtraction"
   ]
  },
  {
   "cell_type": "code",
   "execution_count": 125,
   "metadata": {
    "colab": {
     "base_uri": "https://localhost:8080/"
    },
    "executionInfo": {
     "elapsed": 6,
     "status": "ok",
     "timestamp": 1665922846138,
     "user": {
      "displayName": "Tiềm Đình",
      "userId": "05726324356439983752"
     },
     "user_tz": -420
    },
    "id": "TESYs07lKpQx",
    "outputId": "8e3164f8-9fb2-44f6-e277-284fc8b4b44d"
   },
   "outputs": [
    {
     "name": "stdout",
     "output_type": "stream",
     "text": [
      "t1: tf.Tensor(\n",
      "[[8.943232  4.6769886 7.7191386 2.697009  2.584455 ]\n",
      " [7.801094  8.300767  2.1138067 6.7914248 8.109707 ]\n",
      " [9.736906  6.455923  2.621404  5.0043545 4.8781557]\n",
      " [6.2218995 4.931111  2.4228368 7.803674  8.208448 ]\n",
      " [6.605422  3.6491234 4.8587375 7.90611   5.853292 ]], shape=(5, 5), dtype=float32)\n",
      "t2: tf.Tensor(\n",
      "[[5.1762133 6.9619894 2.4617834 9.346664  6.8802958]\n",
      " [6.644796  6.9484873 8.029017  3.9434443 2.4674838]\n",
      " [9.000761  2.7612147 6.409231  7.45008   1.4664619]\n",
      " [9.302944  6.389431  9.706345  6.402676  2.4230685]\n",
      " [4.4749517 8.598404  9.810972  4.7604065 3.5564048]], shape=(5, 5), dtype=float32)\n",
      "method 1\n",
      " tf.Tensor(\n",
      "[[ 3.7670183 -2.2850008  5.257355  -6.6496553 -4.2958407]\n",
      " [ 1.1562982  1.3522797 -5.9152107  2.8479805  5.6422234]\n",
      " [ 0.736145   3.6947083 -3.7878273 -2.4457254  3.4116938]\n",
      " [-3.0810447 -1.4583201 -7.283508   1.4009981  5.78538  ]\n",
      " [ 2.1304703 -4.9492807 -4.9522347  3.1457033  2.2968872]], shape=(5, 5), dtype=float32)\n",
      "method 2\n",
      " tf.Tensor(\n",
      "[[ 3.7670183 -2.2850008  5.257355  -6.6496553 -4.2958407]\n",
      " [ 1.1562982  1.3522797 -5.9152107  2.8479805  5.6422234]\n",
      " [ 0.736145   3.6947083 -3.7878273 -2.4457254  3.4116938]\n",
      " [-3.0810447 -1.4583201 -7.283508   1.4009981  5.78538  ]\n",
      " [ 2.1304703 -4.9492807 -4.9522347  3.1457033  2.2968872]], shape=(5, 5), dtype=float32)\n"
     ]
    }
   ],
   "source": [
    "#Subtraction \n",
    "import tensorflow as tf\n",
    "\n",
    "t1 = tf.random.uniform((5, 5), maxval= 10, minval= 1)\n",
    "t2 = tf.random.uniform((5, 5), maxval= 10, minval= 1)\n",
    "\n",
    "print(\"t1:\",t1)\n",
    "print(\"t2:\",t2)\n",
    "\n",
    "#hieu hai tensor \n",
    "print(\"method 1\\n\", t1-t2)\n",
    "print(\"method 2\\n\", tf.subtract(t1, t2))"
   ]
  },
  {
   "cell_type": "markdown",
   "metadata": {
    "id": "NVjgCi5_VH-C"
   },
   "source": [
    "##Multiplication"
   ]
  },
  {
   "cell_type": "code",
   "execution_count": 127,
   "metadata": {
    "colab": {
     "base_uri": "https://localhost:8080/"
    },
    "executionInfo": {
     "elapsed": 6,
     "status": "ok",
     "timestamp": 1665922896194,
     "user": {
      "displayName": "Tiềm Đình",
      "userId": "05726324356439983752"
     },
     "user_tz": -420
    },
    "id": "dN3wacrxK8Hh",
    "outputId": "26f4a9d7-544c-4ca7-fbe9-a97ea24f5834"
   },
   "outputs": [
    {
     "name": "stdout",
     "output_type": "stream",
     "text": [
      "t1: tf.Tensor(\n",
      "[[2.9065862 4.638047  4.575333  2.2209878 9.792661 ]\n",
      " [4.4133987 8.044921  5.9004097 8.355827  6.29289  ]\n",
      " [4.968189  4.5469394 6.1338983 7.649147  8.017141 ]\n",
      " [3.6802812 1.4324772 9.605053  5.5139837 2.0885477]\n",
      " [9.043547  8.861879  3.1521873 8.301735  6.4556913]], shape=(5, 5), dtype=float32)\n",
      "t2: tf.Tensor(\n",
      "[[9.943355  2.5805583 8.778184  2.177007  8.842386 ]\n",
      " [6.0999575 3.9090059 9.798698  9.615843  6.676241 ]\n",
      " [3.199462  1.751291  7.519742  6.596663  2.913313 ]\n",
      " [7.242399  2.621597  7.899661  2.0687413 1.8834478]\n",
      " [3.3894212 5.0810485 2.9510925 3.336646  4.0218306]], shape=(5, 5), dtype=float32)\n",
      "method 1\n",
      " tf.Tensor(\n",
      "[[28.901217  11.968751  40.163116   4.835106  86.590485 ]\n",
      " [26.921545  31.447643  57.816334  80.34832   42.01285  ]\n",
      " [15.895531   7.963014  46.12533   50.458847  23.356441 ]\n",
      " [26.654066   3.755378  75.87666   11.407006   3.9336705]\n",
      " [30.65239   45.027637   9.302397  27.699951  25.963697 ]], shape=(5, 5), dtype=float32)\n",
      "method 2\n",
      " tf.Tensor(\n",
      "[[28.901217  11.968751  40.163116   4.835106  86.590485 ]\n",
      " [26.921545  31.447643  57.816334  80.34832   42.01285  ]\n",
      " [15.895531   7.963014  46.12533   50.458847  23.356441 ]\n",
      " [26.654066   3.755378  75.87666   11.407006   3.9336705]\n",
      " [30.65239   45.027637   9.302397  27.699951  25.963697 ]], shape=(5, 5), dtype=float32)\n"
     ]
    }
   ],
   "source": [
    "#Multiplication \n",
    "import tensorflow as tf\n",
    "\n",
    "t1 = tf.random.uniform((5, 5), maxval= 10, minval= 1)\n",
    "t2 = tf.random.uniform((5, 5), maxval= 10, minval= 1)\n",
    "\n",
    "print(\"t1:\",t1)\n",
    "print(\"t2:\",t2)\n",
    "\n",
    "#tich hai tensor\n",
    "print(\"method 1\\n\", t1*t2)\n",
    "print(\"method 2\\n\", tf.multiply(t1, t2))"
   ]
  },
  {
   "cell_type": "markdown",
   "metadata": {
    "id": "qlxP74xgVOLz"
   },
   "source": [
    "##Division "
   ]
  },
  {
   "cell_type": "code",
   "execution_count": 129,
   "metadata": {
    "colab": {
     "base_uri": "https://localhost:8080/"
    },
    "executionInfo": {
     "elapsed": 329,
     "status": "ok",
     "timestamp": 1665922945797,
     "user": {
      "displayName": "Tiềm Đình",
      "userId": "05726324356439983752"
     },
     "user_tz": -420
    },
    "id": "yDOytTTYLKJk",
    "outputId": "e44db142-b1d7-4ce2-bd8f-5286dcade872"
   },
   "outputs": [
    {
     "name": "stdout",
     "output_type": "stream",
     "text": [
      "t1: tf.Tensor(\n",
      "[[5.0091696 6.4676776 9.178151  2.5222168 5.9705014]\n",
      " [2.202267  8.35145   2.052661  5.184408  8.144934 ]\n",
      " [8.257047  7.5152273 3.3986716 1.4802377 9.43908  ]\n",
      " [6.9205117 4.565671  9.029722  5.3658743 6.279423 ]\n",
      " [1.8385272 4.8198166 4.2389994 1.1102806 5.9493256]], shape=(5, 5), dtype=float32)\n",
      "t2: tf.Tensor(\n",
      "[[8.684799  7.5346303 2.515623  9.258809  6.186098 ]\n",
      " [3.0110464 5.038392  6.893676  8.902705  8.0998955]\n",
      " [2.9605682 3.342298  1.0003959 8.791434  3.6337233]\n",
      " [9.03515   6.2098327 4.3562202 5.4326925 9.013696 ]\n",
      " [7.313775  5.3445606 7.7559276 6.690796  3.6259995]], shape=(5, 5), dtype=float32)\n",
      "method 1\n",
      " tf.Tensor(\n",
      "[[0.57677436 0.8583935  3.6484604  0.27241266 0.9651482 ]\n",
      " [0.7313959  1.6575625  0.29776    0.5823408  1.0055604 ]\n",
      " [2.7890074  2.248521   3.3973267  0.16837272 2.5976331 ]\n",
      " [0.7659543  0.73523253 2.0728343  0.9877007  0.69665354]\n",
      " [0.2513787  0.9018172  0.5465496  0.16594149 1.6407409 ]], shape=(5, 5), dtype=float32)\n",
      "method 2\n",
      " tf.Tensor(\n",
      "[[0.57677436 0.8583935  3.6484604  0.27241266 0.9651482 ]\n",
      " [0.7313959  1.6575625  0.29776    0.5823408  1.0055604 ]\n",
      " [2.7890074  2.248521   3.3973267  0.16837272 2.5976331 ]\n",
      " [0.7659543  0.73523253 2.0728343  0.9877007  0.69665354]\n",
      " [0.2513787  0.9018172  0.5465496  0.16594149 1.6407409 ]], shape=(5, 5), dtype=float32)\n"
     ]
    }
   ],
   "source": [
    "#Division \n",
    "t1 = tf.random.uniform((5, 5), maxval= 10, minval= 1)\n",
    "t2 = tf.random.uniform((5, 5), maxval= 10, minval= 1)\n",
    "\n",
    "print(\"t1:\",t1)\n",
    "print(\"t2:\",t2)\n",
    "\n",
    "#tich hai tensor\n",
    "print(\"method 1\\n\", t1/t2)\n",
    "print(\"method 2\\n\", tf.divide(t1, t2))"
   ]
  },
  {
   "cell_type": "markdown",
   "metadata": {
    "id": "kFZONCZcVRDZ"
   },
   "source": [
    "##Square root"
   ]
  },
  {
   "cell_type": "code",
   "execution_count": 133,
   "metadata": {
    "colab": {
     "base_uri": "https://localhost:8080/"
    },
    "executionInfo": {
     "elapsed": 315,
     "status": "ok",
     "timestamp": 1665923035318,
     "user": {
      "displayName": "Tiềm Đình",
      "userId": "05726324356439983752"
     },
     "user_tz": -420
    },
    "id": "RaKHFqk0LcC9",
    "outputId": "1093aee9-f1c8-47ac-dc45-8687347a7af5"
   },
   "outputs": [
    {
     "name": "stdout",
     "output_type": "stream",
     "text": [
      "t1\n",
      " tf.Tensor(\n",
      "[[8 2 7 3 4]\n",
      " [1 1 4 6 5]\n",
      " [2 2 7 6 4]\n",
      " [5 7 6 2 1]\n",
      " [6 2 4 3 4]], shape=(5, 5), dtype=int32)\n",
      "sqrt t1:\n",
      " tf.Tensor([ 1  4  9 16 25], shape=(5,), dtype=int32)\n"
     ]
    }
   ],
   "source": [
    "#Square root\n",
    "t1 = tf.random.uniform((5, 5), maxval= 10, minval= 1,  dtype=tf.dtypes.int32)\n",
    "print(\"t1\\n\", t1)\n",
    "\n",
    "#Can bac hai cua tung phan tu trong tensor\n",
    "print(\"sqrt t1:\\n\", tf.square(data))\n"
   ]
  },
  {
   "cell_type": "markdown",
   "metadata": {
    "id": "GbpOlDpzVTMK"
   },
   "source": [
    "##Inner product"
   ]
  },
  {
   "cell_type": "code",
   "execution_count": 150,
   "metadata": {
    "colab": {
     "base_uri": "https://localhost:8080/"
    },
    "executionInfo": {
     "elapsed": 329,
     "status": "ok",
     "timestamp": 1665923919845,
     "user": {
      "displayName": "Tiềm Đình",
      "userId": "05726324356439983752"
     },
     "user_tz": -420
    },
    "id": "kAkrF8OPL9Or",
    "outputId": "6b70e866-0cae-4460-a5da-08222dac56e1"
   },
   "outputs": [
    {
     "name": "stdout",
     "output_type": "stream",
     "text": [
      "t1: tf.Tensor([4 3 1 9 7], shape=(5,), dtype=int32)\n",
      "t2: tf.Tensor([9 5 8 9 7], shape=(5,), dtype=int32)\n",
      "method 1 \n",
      " tf.Tensor(189, shape=(), dtype=int32)\n"
     ]
    }
   ],
   "source": [
    "#Inner product\n",
    "t1 = tf.random.uniform((5, ), maxval= 10, minval= 1,  dtype=tf.dtypes.int32)\n",
    "\n",
    "t2 = tf.random.uniform((5, ), maxval= 10, minval= 1,  dtype=tf.dtypes.int32)\n",
    "\n",
    "print(\"t1:\",t1)\n",
    "print(\"t2:\",t2)\n",
    "\n",
    "#Tinh inner product giữa t1 và t2\n",
    "\n",
    "print(\"method 1 \\n\", tf.tensordot(t1, t2, axes =1))\n"
   ]
  },
  {
   "cell_type": "markdown",
   "metadata": {
    "id": "EXmgkjnDVVl4"
   },
   "source": [
    "##Vector-matrix multiplication"
   ]
  },
  {
   "cell_type": "code",
   "execution_count": 162,
   "metadata": {
    "colab": {
     "base_uri": "https://localhost:8080/"
    },
    "executionInfo": {
     "elapsed": 4,
     "status": "ok",
     "timestamp": 1665924149198,
     "user": {
      "displayName": "Tiềm Đình",
      "userId": "05726324356439983752"
     },
     "user_tz": -420
    },
    "id": "popZr_5vMrAj",
    "outputId": "b3cc389b-858c-4d69-cc44-3f37876abe37"
   },
   "outputs": [
    {
     "name": "stdout",
     "output_type": "stream",
     "text": [
      "tf.Tensor([6 8 2 7 7], shape=(5,), dtype=int32) \n",
      " tf.Tensor(\n",
      "[[2 5 7 5 1]\n",
      " [3 1 3 6 6]\n",
      " [7 2 4 1 1]\n",
      " [3 6 9 7 6]\n",
      " [5 2 7 6 6]], shape=(5, 5), dtype=int32)\n",
      "t1xt2: tf.Tensor([106  98 186 171 140], shape=(5,), dtype=int32)\n"
     ]
    }
   ],
   "source": [
    "#Vector-matrix multiplication\n",
    "t1 = tf.random.uniform((5, ), maxval= 10, minval= 1,  dtype=tf.dtypes.int32)\n",
    "t2 = tf.random.uniform((5,5 ), maxval= 10, minval= 1,  dtype=tf.dtypes.int32)\n",
    "\n",
    "print(t1,\"\\n\", t2)\n",
    "#Phap nhan giua ma tran va vecto\n",
    "print(\"t1xt2:\", tf.tensordot(t1,t2, axes =1))"
   ]
  },
  {
   "cell_type": "code",
   "execution_count": 163,
   "metadata": {
    "colab": {
     "base_uri": "https://localhost:8080/"
    },
    "executionInfo": {
     "elapsed": 4,
     "status": "ok",
     "timestamp": 1665924204701,
     "user": {
      "displayName": "Tiềm Đình",
      "userId": "05726324356439983752"
     },
     "user_tz": -420
    },
    "id": "GEuc343-0d7x",
    "outputId": "cc26097e-cdb9-451e-d0cb-f18b06fb1677"
   },
   "outputs": [
    {
     "name": "stdout",
     "output_type": "stream",
     "text": [
      "t2xt1: tf.Tensor([108 116  80 175 144], shape=(5,), dtype=int32)\n"
     ]
    }
   ],
   "source": [
    "print(\"t2xt1:\", tf.tensordot(t2,t1, axes =1))"
   ]
  },
  {
   "cell_type": "markdown",
   "metadata": {
    "id": "luuuGePeVYxV"
   },
   "source": [
    "##Matrix-matrix multiplication"
   ]
  },
  {
   "cell_type": "code",
   "execution_count": 168,
   "metadata": {
    "colab": {
     "base_uri": "https://localhost:8080/"
    },
    "executionInfo": {
     "elapsed": 369,
     "status": "ok",
     "timestamp": 1665924353560,
     "user": {
      "displayName": "Tiềm Đình",
      "userId": "05726324356439983752"
     },
     "user_tz": -420
    },
    "id": "R1LVWyNAP1hW",
    "outputId": "c34a9d8d-ca20-488c-d2a9-360f2ac3b5da"
   },
   "outputs": [
    {
     "name": "stdout",
     "output_type": "stream",
     "text": [
      "tf.Tensor(\n",
      "[[5 8 8 6 2]\n",
      " [5 5 5 6 5]\n",
      " [8 6 3 9 1]\n",
      " [5 3 4 2 8]\n",
      " [2 9 4 2 1]], shape=(5, 5), dtype=int32) \n",
      " tf.Tensor(\n",
      "[[4 6 9 8 5]\n",
      " [5 2 8 5 2]\n",
      " [7 3 2 4 5]\n",
      " [7 4 9 9 8]\n",
      " [6 4 1 3 5]], shape=(5, 5), dtype=int32)\n",
      "t1xt2: tf.Tensor(\n",
      "[[170 102 181 172 139]\n",
      " [152  99 154 154 133]\n",
      " [152 109 208 190 144]\n",
      " [125  88 103 113 107]\n",
      " [101  54 117  98  69]], shape=(5, 5), dtype=int32)\n"
     ]
    }
   ],
   "source": [
    "#Matrix-matrix multiplication\n",
    "t1 = tf.random.uniform((5, 5), maxval= 10, minval= 1,  dtype=tf.dtypes.int32)\n",
    "t2 = tf.random.uniform((5, 5), maxval= 10, minval= 1,  dtype=tf.dtypes.int32)\n",
    "\n",
    "print(t1,\"\\n\", t2)\n",
    "#Phap nhan giua ma tran va ma tran\n",
    "print(\"t1xt2:\", tf.matmul(t1,t2))"
   ]
  },
  {
   "cell_type": "markdown",
   "metadata": {
    "id": "9cTrbck-VbLL"
   },
   "source": [
    "##Transpose"
   ]
  },
  {
   "cell_type": "code",
   "execution_count": 175,
   "metadata": {
    "colab": {
     "base_uri": "https://localhost:8080/"
    },
    "executionInfo": {
     "elapsed": 470,
     "status": "ok",
     "timestamp": 1665924470001,
     "user": {
      "displayName": "Tiềm Đình",
      "userId": "05726324356439983752"
     },
     "user_tz": -420
    },
    "id": "qxKcua71P1tL",
    "outputId": "1b837c5b-a14f-4de8-f518-ef44b0da3a9c"
   },
   "outputs": [
    {
     "name": "stdout",
     "output_type": "stream",
     "text": [
      "tf.Tensor(\n",
      "[[2 3 2]\n",
      " [6 9 8]\n",
      " [9 5 9]\n",
      " [4 9 7]\n",
      " [4 7 8]], shape=(5, 3), dtype=int32) (5, 3)\n",
      "tf.Tensor(\n",
      "[[2 6 9 4 4]\n",
      " [3 9 5 9 7]\n",
      " [2 8 9 7 8]], shape=(3, 5), dtype=int32) (3, 5)\n"
     ]
    }
   ],
   "source": [
    "#Transpose\n",
    "t1 = tf.random.uniform((5, 3), maxval= 10, minval= 1,  dtype=tf.dtypes.int32)\n",
    "print(t1, t1.shape)\n",
    "print(tf.transpose(t1), tf.transpose(t1).shape )"
   ]
  },
  {
   "cell_type": "markdown",
   "metadata": {
    "id": "DAEDhje0Vdig"
   },
   "source": [
    "##Sumation"
   ]
  },
  {
   "cell_type": "code",
   "execution_count": 179,
   "metadata": {
    "colab": {
     "base_uri": "https://localhost:8080/"
    },
    "executionInfo": {
     "elapsed": 410,
     "status": "ok",
     "timestamp": 1665924862625,
     "user": {
      "displayName": "Tiềm Đình",
      "userId": "05726324356439983752"
     },
     "user_tz": -420
    },
    "id": "oQ-vkHsuQRbl",
    "outputId": "27909584-032b-4445-97cf-c12f85e64bef"
   },
   "outputs": [
    {
     "name": "stdout",
     "output_type": "stream",
     "text": [
      "tf.Tensor(\n",
      "[[6 3 5]\n",
      " [2 3 2]\n",
      " [6 5 6]\n",
      " [6 6 6]\n",
      " [8 9 5]], shape=(5, 3), dtype=int32) (5, 3)\n",
      "tf.Tensor(78, shape=(), dtype=int32)\n",
      "tf.Tensor([28 26 24], shape=(3,), dtype=int32)\n",
      "tf.Tensor([14  7 17 18 22], shape=(5,), dtype=int32)\n"
     ]
    }
   ],
   "source": [
    "#Sumation\n",
    "t1 = tf.random.uniform((5, 3), maxval= 10, minval= 1,  dtype=tf.dtypes.int32)\n",
    "print(t1, t1.shape)\n",
    "\n",
    "#Tong cac phan tu cua tensor\n",
    "print(tf.math.reduce_sum(t1))\n",
    "#Tinh tong theo tung cot\n",
    "print(tf.math.reduce_sum(t1, axis=0))\n",
    "#Tinh tong theo tung hang\n",
    "print(tf.math.reduce_sum(t1, axis=1))"
   ]
  },
  {
   "cell_type": "markdown",
   "metadata": {
    "id": "YN1SHYC7VgBm"
   },
   "source": [
    "##Max and min"
   ]
  },
  {
   "cell_type": "code",
   "execution_count": 182,
   "metadata": {
    "colab": {
     "base_uri": "https://localhost:8080/"
    },
    "executionInfo": {
     "elapsed": 5,
     "status": "ok",
     "timestamp": 1665925038987,
     "user": {
      "displayName": "Tiềm Đình",
      "userId": "05726324356439983752"
     },
     "user_tz": -420
    },
    "id": "rzVwn5UfQgnv",
    "outputId": "56eb6228-09f4-47ad-bcec-a92ca005420a"
   },
   "outputs": [
    {
     "name": "stdout",
     "output_type": "stream",
     "text": [
      "tf.Tensor(\n",
      "[[4 3 3]\n",
      " [4 6 4]\n",
      " [3 8 9]\n",
      " [4 8 7]\n",
      " [5 5 2]], shape=(5, 3), dtype=int32) (5, 3)\n",
      "tf.Tensor(2, shape=(), dtype=int32)\n",
      "tf.Tensor(9, shape=(), dtype=int32)\n"
     ]
    }
   ],
   "source": [
    "#Max and min\n",
    "t1 = tf.random.uniform((5, 3), maxval= 10, minval= 1,  dtype=tf.dtypes.int32)\n",
    "print(t1, t1.shape)\n",
    "\n",
    "print(tf.math.reduce_min(t1))\n",
    "print(tf.math.reduce_max(t1))"
   ]
  },
  {
   "cell_type": "code",
   "execution_count": 183,
   "metadata": {
    "colab": {
     "base_uri": "https://localhost:8080/"
    },
    "executionInfo": {
     "elapsed": 5,
     "status": "ok",
     "timestamp": 1665925068415,
     "user": {
      "displayName": "Tiềm Đình",
      "userId": "05726324356439983752"
     },
     "user_tz": -420
    },
    "id": "N9f86E9NRFl-",
    "outputId": "8c96efb3-c5ae-4244-e30f-e0ff1b506290"
   },
   "outputs": [
    {
     "name": "stdout",
     "output_type": "stream",
     "text": [
      "tf.Tensor([3 3 2], shape=(3,), dtype=int32)\n",
      "tf.Tensor([3 4 3 4 2], shape=(5,), dtype=int32)\n"
     ]
    }
   ],
   "source": [
    "print(tf.math.reduce_min(t1, axis = 0))\n",
    "print(tf.math.reduce_min(t1, axis = 1))"
   ]
  },
  {
   "cell_type": "markdown",
   "metadata": {
    "id": "9E4GB_j4Ru0f"
   },
   "source": [
    "# Broadcasting\n"
   ]
  },
  {
   "cell_type": "code",
   "execution_count": 184,
   "metadata": {
    "colab": {
     "base_uri": "https://localhost:8080/"
    },
    "executionInfo": {
     "elapsed": 323,
     "status": "ok",
     "timestamp": 1665925097867,
     "user": {
      "displayName": "Tiềm Đình",
      "userId": "05726324356439983752"
     },
     "user_tz": -420
    },
    "id": "o4Vh4N9hRzLp",
    "outputId": "b0f30b50-0b6a-4c03-d503-7a5a467fc113"
   },
   "outputs": [
    {
     "name": "stdout",
     "output_type": "stream",
     "text": [
      "tf.Tensor(\n",
      "[[6 1 6]\n",
      " [6 5 8]\n",
      " [1 9 2]\n",
      " [6 8 8]\n",
      " [6 3 6]], shape=(5, 3), dtype=int32) (5, 3)\n",
      "tf.Tensor(\n",
      "[[12  2 12]\n",
      " [12 10 16]\n",
      " [ 2 18  4]\n",
      " [12 16 16]\n",
      " [12  6 12]], shape=(5, 3), dtype=int32)\n",
      "tf.Tensor(\n",
      "[[ 4 -1  4]\n",
      " [ 4  3  6]\n",
      " [-1  7  0]\n",
      " [ 4  6  6]\n",
      " [ 4  1  4]], shape=(5, 3), dtype=int32)\n"
     ]
    }
   ],
   "source": [
    "#vector and a scalar\n",
    "t1 = tf.random.uniform((5, 3), maxval= 10, minval= 1,  dtype=tf.dtypes.int32)\n",
    "\n",
    "print(t1, t1.shape)\n",
    "\n",
    "t2 = 2\n",
    "\n",
    "#broadcasting\n",
    "result_multiplication = t1*t2\n",
    "result_minus = t1 - t2\n",
    "\n",
    "print(result_multiplication)\n",
    "print(result_minus)"
   ]
  },
  {
   "cell_type": "code",
   "execution_count": 185,
   "metadata": {
    "colab": {
     "base_uri": "https://localhost:8080/"
    },
    "executionInfo": {
     "elapsed": 325,
     "status": "ok",
     "timestamp": 1665925114998,
     "user": {
      "displayName": "Tiềm Đình",
      "userId": "05726324356439983752"
     },
     "user_tz": -420
    },
    "id": "2tRxLqddSZAS",
    "outputId": "15bd0be8-2ee1-4af8-9622-662c7fae3fec"
   },
   "outputs": [
    {
     "name": "stdout",
     "output_type": "stream",
     "text": [
      "t1: tf.Tensor(\n",
      "[[3 1 9]\n",
      " [1 5 7]\n",
      " [5 6 2]\n",
      " [8 4 3]\n",
      " [8 7 7]], shape=(5, 3), dtype=int32)\n",
      "t2: tf.Tensor(\n",
      "[[5 1 9]\n",
      " [3 3 9]\n",
      " [9 2 6]\n",
      " [7 5 4]\n",
      " [5 2 2]], shape=(5, 3), dtype=int32)\n",
      "t3: tf.Tensor(\n",
      "[[ 8  2 18]\n",
      " [ 4  8 16]\n",
      " [14  8  8]\n",
      " [15  9  7]\n",
      " [13  9  9]], shape=(5, 3), dtype=int32)\n"
     ]
    }
   ],
   "source": [
    "#mtrix and vector\n",
    "import torch\n",
    "\n",
    "t1 = tf.random.uniform((5, 3), maxval= 10, minval= 1,  dtype=tf.dtypes.int32)\n",
    "\n",
    "t2 = tf.random.uniform((5, 3), maxval= 10, minval= 1,  dtype=tf.dtypes.int32)\n",
    "\n",
    "\n",
    "print(\"t1:\",t1)\n",
    "print(\"t2:\",t2)\n",
    "\n",
    "t3 = t1 +t2\n",
    "print(\"t3:\",t3)"
   ]
  },
  {
   "cell_type": "code",
   "execution_count": null,
   "metadata": {
    "id": "5V05IQIOS2Xn"
   },
   "outputs": [],
   "source": []
  }
 ],
 "metadata": {
  "colab": {
   "authorship_tag": "ABX9TyPmS2jm6dil6XU/8ymoGurr",
   "collapsed_sections": [],
   "provenance": [],
   "toc_visible": true
  },
  "kernelspec": {
   "display_name": "Python 3 (ipykernel)",
   "language": "python",
   "name": "python3"
  },
  "language_info": {
   "codemirror_mode": {
    "name": "ipython",
    "version": 3
   },
   "file_extension": ".py",
   "mimetype": "text/x-python",
   "name": "python",
   "nbconvert_exporter": "python",
   "pygments_lexer": "ipython3",
   "version": "3.9.13"
  }
 },
 "nbformat": 4,
 "nbformat_minor": 1
}
