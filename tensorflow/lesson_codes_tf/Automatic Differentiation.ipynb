{
 "cells": [
  {
   "cell_type": "code",
   "execution_count": 3,
   "metadata": {},
   "outputs": [
    {
     "name": "stdout",
     "output_type": "stream",
     "text": [
      "tf.Tensor(\n",
      "[[1. 1.]\n",
      " [1. 1.]], shape=(2, 2), dtype=float32)\n",
      "tf.Tensor(\n",
      "[[8. 8.]\n",
      " [8. 8.]], shape=(2, 2), dtype=float32)\n"
     ]
    }
   ],
   "source": [
    "# example 1\n",
    "\n",
    "import tensorflow as tf\n",
    "\n",
    "# data\n",
    "x = tf.ones((2, 2))\n",
    "  \n",
    "with tf.GradientTape() as t:\n",
    "    t.watch(x)\n",
    "    y = tf.reduce_sum(x)\n",
    "    z = tf.multiply(y, y)\n",
    "\n",
    "# compute derivative\n",
    "dz_dx = t.gradient(z, x)\n",
    "\n",
    "# print out\n",
    "print(x)\n",
    "print(dz_dx)"
   ]
  },
  {
   "cell_type": "code",
   "execution_count": null,
   "metadata": {},
   "outputs": [],
   "source": []
  },
  {
   "cell_type": "code",
   "execution_count": 4,
   "metadata": {},
   "outputs": [
    {
     "name": "stdout",
     "output_type": "stream",
     "text": [
      "tf.Tensor(108.0, shape=(), dtype=float32)\n",
      "tf.Tensor(6.0, shape=(), dtype=float32)\n"
     ]
    }
   ],
   "source": [
    "import tensorflow as tf\n",
    "\n",
    "# data\n",
    "x = tf.constant(3.0)\n",
    "\n",
    "# trace\n",
    "with tf.GradientTape(persistent=True) as t:\n",
    "    t.watch(x)\n",
    "    y = x * x\n",
    "    z = y * y\n",
    "\n",
    "# compute derivative\n",
    "dz_dx = t.gradient(z, x)\n",
    "dy_dx = t.gradient(y, x)\n",
    "\n",
    "# print out\n",
    "print(dz_dx)\n",
    "print(dy_dx)"
   ]
  },
  {
   "cell_type": "code",
   "execution_count": null,
   "metadata": {},
   "outputs": [],
   "source": []
  },
  {
   "cell_type": "code",
   "execution_count": null,
   "metadata": {},
   "outputs": [],
   "source": [
    "x = tf.constant(3.0)\n",
    "with tf.GradientTape(persistent=True) as t:\n",
    "    t.watch(x)\n",
    "    y = x * x\n",
    "    z = y * y\n",
    "    \n",
    "dz_dx = t.gradient(z, x)  # 108.0 (4*x^3 at x = 3)\n",
    "dy_dx = t.gradient(y, x)  # 6.0\n",
    "del t  # Drop the reference to the tape\n",
    "\n",
    "print(dz_dx)\n",
    "print(dy_dx)"
   ]
  },
  {
   "cell_type": "code",
   "execution_count": null,
   "metadata": {},
   "outputs": [],
   "source": []
  },
  {
   "cell_type": "code",
   "execution_count": null,
   "metadata": {},
   "outputs": [],
   "source": [
    "# data\n",
    "x = tf.Variable(1.0)\n",
    "\n",
    "# trace\n",
    "with tf.GradientTape() as t1:\n",
    "    with tf.GradientTape() as t2:\n",
    "        y = x*x*x\n",
    "    \n",
    "    # compute derivative using t2\n",
    "    dy_dx = t2.gradient(y, x)\n",
    "\n",
    "# compute derivative using t1\n",
    "d2y_dx2 = t1.gradient(dy_dx, x)\n",
    "\n",
    "# print out\n",
    "print(dy_dx)\n",
    "print(d2y_dx2)"
   ]
  },
  {
   "cell_type": "code",
   "execution_count": null,
   "metadata": {},
   "outputs": [],
   "source": []
  },
  {
   "cell_type": "code",
   "execution_count": null,
   "metadata": {},
   "outputs": [],
   "source": [
    "import tensorflow as tf\n",
    "\n",
    "# variable\n",
    "x = tf.ones((1))*2\n",
    "\n",
    "# trace\n",
    "with tf.GradientTape() as tape:\n",
    "    tape.watch(x) \n",
    "    \n",
    "    # construct functions\n",
    "    g_x = -3*x + 4\n",
    "    h_g =  2*g_x + 1\n",
    "\n",
    "# compute derivative\n",
    "dh_dx = tape.gradient(h_g, x)\n",
    "\n",
    "# print out\n",
    "print(dh_dx)\n",
    "\n"
   ]
  },
  {
   "cell_type": "code",
   "execution_count": null,
   "metadata": {},
   "outputs": [],
   "source": []
  },
  {
   "cell_type": "code",
   "execution_count": null,
   "metadata": {},
   "outputs": [],
   "source": [
    "import tensorflow as tf\n",
    "\n",
    "# variable\n",
    "x = tf.ones((1))\n",
    "\n",
    "# trace\n",
    "with tf.GradientTape() as tape:\n",
    "    tape.watch(x) \n",
    "    \n",
    "    # construct functions\n",
    "    g_x = x*x + 1\n",
    "    h_g = tf.exp(g_x)\n",
    "\n",
    "# compute derivative\n",
    "dh_dx = tape.gradient(h_g, x)\n",
    "\n",
    "# print out\n",
    "print(dh_dx)\n",
    "\n"
   ]
  },
  {
   "cell_type": "code",
   "execution_count": null,
   "metadata": {},
   "outputs": [],
   "source": []
  },
  {
   "cell_type": "code",
   "execution_count": null,
   "metadata": {},
   "outputs": [],
   "source": [
    "import tensorflow as tf\n",
    "\n",
    "# variable\n",
    "x = tf.ones((1))\n",
    "\n",
    "# trace\n",
    "with tf.GradientTape() as tape:\n",
    "    tape.watch(x) \n",
    "    \n",
    "    # construct functions\n",
    "    g_x = tf.math.cos(x*x*tf.exp(x) + 2*x)\n",
    "    h_g = tf.exp(g_x)*tf.math.sin(tf.math.sqrt(g_x))\n",
    "\n",
    "# compute derivative\n",
    "dh_dx = tape.gradient(h_g, x)\n",
    "\n",
    "# print out\n",
    "print(dh_dx)\n",
    "\n"
   ]
  },
  {
   "cell_type": "code",
   "execution_count": null,
   "metadata": {},
   "outputs": [],
   "source": []
  }
 ],
 "metadata": {
  "kernelspec": {
   "display_name": "Python 3 (ipykernel)",
   "language": "python",
   "name": "python3"
  },
  "language_info": {
   "codemirror_mode": {
    "name": "ipython",
    "version": 3
   },
   "file_extension": ".py",
   "mimetype": "text/x-python",
   "name": "python",
   "nbconvert_exporter": "python",
   "pygments_lexer": "ipython3",
   "version": "3.9.7"
  }
 },
 "nbformat": 4,
 "nbformat_minor": 2
}
