{
 "cells": [
  {
   "cell_type": "code",
   "execution_count": null,
   "id": "c0de3892",
   "metadata": {},
   "outputs": [],
   "source": [
    "# download data\n",
    "\n",
    "import numpy as np\n",
    "from urllib import request\n",
    "import gzip\n",
    "import pickle\n",
    "\n",
    "filenames = [\"train-images-idx3-ubyte.gz\",\n",
    "             \"train-labels-idx1-ubyte.gz\",\n",
    "             \"t10k-images-idx3-ubyte.gz\",\n",
    "             \"t10k-labels-idx1-ubyte.gz\"]\n",
    "\n",
    "def download_fashion_mnist(folder):\n",
    "    base_url = \"http://fashion-mnist.s3-website.eu-central-1.amazonaws.com/\"\n",
    "    for name in filenames:        \n",
    "        # lưu vào folder data_fashion_mnist\n",
    "        data_path = base_url + name\n",
    "        saving_path = folder + name\n",
    "        print(data_path)\n",
    "        print(saving_path)\n",
    "        print()\n",
    "\n",
    "# download dataset và lưu vào folder 'data_fashion_mnist/'\n",
    "folder = 'data_fashion_mnist/'\n",
    "download_fashion_mnist(folder)"
   ]
  },
  {
   "cell_type": "code",
   "execution_count": null,
   "id": "f7bbb3c5",
   "metadata": {},
   "outputs": [],
   "source": []
  },
  {
   "cell_type": "code",
   "execution_count": null,
   "id": "81ddf2a8",
   "metadata": {},
   "outputs": [],
   "source": [
    "import urllib.request as req\n",
    "from PIL import Image\n",
    "import matplotlib.pyplot as plt\n",
    "  \n",
    "# download an image\n",
    "req.urlretrieve('https://www.dropbox.com/s/zo760s1qhln7xcx/nature.jpg?dl=1', 'nature.jpg')\n",
    "\n",
    "# show the image\n",
    "img = Image.open('nature.jpg')\n",
    "plt.imshow(img)\n",
    "plt.show()"
   ]
  },
  {
   "cell_type": "code",
   "execution_count": null,
   "id": "6a7a31a1",
   "metadata": {},
   "outputs": [],
   "source": []
  },
  {
   "cell_type": "code",
   "execution_count": null,
   "id": "b3a27a5f",
   "metadata": {},
   "outputs": [],
   "source": [
    "import numpy as np\n",
    "from urllib import request\n",
    "import gzip\n",
    "import pickle\n",
    "\n",
    "filenames = [\"t10k-images-idx3-ubyte.gz\",\n",
    "             \"t10k-labels-idx1-ubyte.gz\"]\n",
    "\n",
    "def download_fashion_mnist(folder):\n",
    "    base_url = \"http://fashion-mnist.s3-website.eu-central-1.amazonaws.com/\"\n",
    "    for name in filenames:\n",
    "        print(\"Downloading \" + name + \"...\")\n",
    "        \n",
    "        # lưu vào folder data_fashion_mnist\n",
    "        request.urlretrieve(base_url + name, folder + name)\n",
    "    print(\"Download complete.\")\n",
    "\n",
    "# download dataset và lưu vào folder 'data_fashion_mnist/'\n",
    "folder = 'data_fashion_mnist/'\n",
    "download_fashion_mnist(folder)"
   ]
  },
  {
   "cell_type": "code",
   "execution_count": null,
   "id": "61fc4c1b",
   "metadata": {},
   "outputs": [],
   "source": []
  },
  {
   "cell_type": "code",
   "execution_count": null,
   "id": "f39bb9a8",
   "metadata": {},
   "outputs": [],
   "source": [
    "import numpy as np\n",
    "import gzip\n",
    "\n",
    "# load training images\n",
    "with gzip.open('data_fashion_mnist/train-images-idx3-ubyte.gz', 'rb') as f:\n",
    "    X_train = np.frombuffer(f.read(), np.uint8, offset=16).reshape(-1, 28*28)\n",
    "\n",
    "# load testing images\n",
    "with gzip.open('data_fashion_mnist/t10k-images-idx3-ubyte.gz', 'rb') as f:\n",
    "    X_test = np.frombuffer(f.read(), np.uint8, offset=16).reshape(-1, 28*28)\n",
    "\n",
    "# load training labels\n",
    "with gzip.open('data_fashion_mnist/train-labels-idx1-ubyte.gz', 'rb') as f:\n",
    "    y_train = np.frombuffer(f.read(), np.uint8, offset=8)\n",
    "    \n",
    "# load testing labels\n",
    "with gzip.open('data_fashion_mnist/t10k-labels-idx1-ubyte.gz', 'rb') as f:\n",
    "    y_test = np.frombuffer(f.read(), np.uint8, offset=8)\n",
    "    \n",
    "\n",
    "# check data\n",
    "print(X_train.shape)\n",
    "print(y_train.shape)\n",
    "print(X_test.shape)\n",
    "print(y_test.shape)"
   ]
  },
  {
   "cell_type": "code",
   "execution_count": null,
   "id": "72f8e36f",
   "metadata": {},
   "outputs": [],
   "source": []
  },
  {
   "cell_type": "code",
   "execution_count": null,
   "id": "62d0b5e1",
   "metadata": {},
   "outputs": [],
   "source": [
    "import matplotlib.pyplot as plt \n",
    "import numpy as np \n",
    "\n",
    "# Tạo dang sách 144 phần tử ngẫu nhiên từ X_train có 60.000 phần tử\n",
    "indices = list(np.random.randint(X_train.shape[0], size=144))\n",
    "\n",
    "fig =plt.figure(figsize=(9,9))\n",
    "columns = 12\n",
    "rows = 12\n",
    "for i in range(1, columns*rows +1):\n",
    "    img = X_train[indices[i-1]].reshape(28,28)\n",
    "    fig.add_subplot(rows, columns, i)\n",
    "    plt.axis('off')\n",
    "    plt.imshow(img, cmap='gray', vmin=0, vmax=255)"
   ]
  },
  {
   "cell_type": "code",
   "execution_count": null,
   "id": "b48d902d",
   "metadata": {},
   "outputs": [],
   "source": []
  },
  {
   "cell_type": "code",
   "execution_count": null,
   "id": "040817a9",
   "metadata": {},
   "outputs": [],
   "source": [
    "from PIL import Image\n",
    "\n",
    "indices = list(np.random.randint(60000, size=10))\n",
    "for i in range(10):\n",
    "    im = Image.fromarray(X_train[indices[i]].reshape(28,28))\n",
    "    im.save(\"data_fashion_mnist/images/image_\" + str(i) +\".png\")    "
   ]
  },
  {
   "cell_type": "code",
   "execution_count": null,
   "id": "f4c96a55",
   "metadata": {},
   "outputs": [],
   "source": []
  },
  {
   "cell_type": "code",
   "execution_count": null,
   "id": "83f7c308",
   "metadata": {},
   "outputs": [],
   "source": []
  },
  {
   "cell_type": "markdown",
   "id": "cecbf4b6",
   "metadata": {},
   "source": [
    "# training"
   ]
  },
  {
   "cell_type": "code",
   "execution_count": null,
   "id": "67d34793",
   "metadata": {},
   "outputs": [],
   "source": [
    "import numpy as np\n",
    "import gzip\n",
    "\n",
    "# load training images\n",
    "with gzip.open('data_fashion_mnist/train-images-idx3-ubyte.gz', 'rb') as f:\n",
    "    X_train = np.frombuffer(f.read(), np.uint8, offset=16).reshape(-1, 28*28)\n",
    "\n",
    "# load testing images\n",
    "with gzip.open('data_fashion_mnist/t10k-images-idx3-ubyte.gz', 'rb') as f:\n",
    "    X_test = np.frombuffer(f.read(), np.uint8, offset=16).reshape(-1, 28*28)\n",
    "\n",
    "# load training labels\n",
    "with gzip.open('data_fashion_mnist/train-labels-idx1-ubyte.gz', 'rb') as f:\n",
    "    y_train = np.frombuffer(f.read(), np.uint8, offset=8)\n",
    "    \n",
    "# load testing labels\n",
    "with gzip.open('data_fashion_mnist/t10k-labels-idx1-ubyte.gz', 'rb') as f:\n",
    "    y_test = np.frombuffer(f.read(), np.uint8, offset=8)\n",
    "    \n",
    "\n",
    "# check data\n",
    "print(X_train.shape)\n",
    "print(y_train.shape)\n",
    "print(X_test.shape)\n",
    "print(y_test.shape)"
   ]
  },
  {
   "cell_type": "code",
   "execution_count": null,
   "id": "3528a010",
   "metadata": {},
   "outputs": [],
   "source": []
  },
  {
   "cell_type": "code",
   "execution_count": null,
   "id": "5ffd582a",
   "metadata": {},
   "outputs": [],
   "source": [
    "import tensorflow as tf\n",
    "import tensorflow.keras as keras\n",
    "\n",
    "# create model\n",
    "model = keras.Sequential()\n",
    "model.add(keras.Input(shape=(784,)))\n",
    "model.add(keras.layers.Dense(10, activation='softmax'))\n",
    "model.summary()"
   ]
  },
  {
   "cell_type": "code",
   "execution_count": null,
   "id": "1568f6e9",
   "metadata": {},
   "outputs": [],
   "source": []
  },
  {
   "cell_type": "code",
   "execution_count": null,
   "id": "60b0b697",
   "metadata": {},
   "outputs": [],
   "source": [
    "# optimizer and loss\n",
    "opt = tf.keras.optimizers.SGD(0.05)\n",
    "model.compile(optimizer=opt, \n",
    "              loss='sparse_categorical_crossentropy', \n",
    "              metrics=['sparse_categorical_accuracy'])\n",
    "\n",
    "# training\n",
    "history = model.fit(X_train, y_train, 256, epochs=50, verbose=2)\n",
    "\n",
    "# testing\n",
    "test_loss, test_acc = model.evaluate(X_test, y_test)\n",
    "print('Test accuracy:', test_acc)"
   ]
  },
  {
   "cell_type": "code",
   "execution_count": null,
   "id": "8d593823",
   "metadata": {},
   "outputs": [],
   "source": []
  },
  {
   "cell_type": "code",
   "execution_count": null,
   "id": "cb24715d",
   "metadata": {},
   "outputs": [],
   "source": [
    "import matplotlib.pyplot as plt\n",
    "\n",
    "plt.plot(history.history['loss'])\n",
    "plt.xlabel('iteration')\n",
    "plt.ylabel('Loss')"
   ]
  },
  {
   "cell_type": "code",
   "execution_count": null,
   "id": "47fd3de4",
   "metadata": {},
   "outputs": [],
   "source": []
  },
  {
   "cell_type": "code",
   "execution_count": null,
   "id": "aa4d1c1a",
   "metadata": {},
   "outputs": [],
   "source": [
    "import matplotlib.pyplot as plt\n",
    "\n",
    "plt.plot(history.history['sparse_categorical_accuracy'])\n",
    "plt.xlabel('iteration')\n",
    "plt.ylabel('Accuracy')"
   ]
  },
  {
   "cell_type": "code",
   "execution_count": null,
   "id": "a18a9155",
   "metadata": {},
   "outputs": [],
   "source": []
  }
 ],
 "metadata": {
  "kernelspec": {
   "display_name": "Python 3 (ipykernel)",
   "language": "python",
   "name": "python3"
  },
  "language_info": {
   "codemirror_mode": {
    "name": "ipython",
    "version": 3
   },
   "file_extension": ".py",
   "mimetype": "text/x-python",
   "name": "python",
   "nbconvert_exporter": "python",
   "pygments_lexer": "ipython3",
   "version": "3.9.13"
  }
 },
 "nbformat": 4,
 "nbformat_minor": 5
}
