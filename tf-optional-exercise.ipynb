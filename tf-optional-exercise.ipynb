{
 "cells": [
  {
   "cell_type": "code",
   "execution_count": 1,
   "metadata": {},
   "outputs": [],
   "source": [
    "import tensorflow as tf"
   ]
  },
  {
   "cell_type": "markdown",
   "metadata": {},
   "source": [
    "# Ex 8 - Cosine Similiraty"
   ]
  },
  {
   "cell_type": "code",
   "execution_count": 4,
   "metadata": {},
   "outputs": [],
   "source": [
    "x = tf.transpose(tf.constant([[1,2,4,3]], dtype=tf.float32))\n",
    "y = tf.transpose(tf.constant([[0,5,4,7]], dtype=tf.float32))\n",
    "def compute_CosSim(x, y):    \n",
    "    # num = tf.reduce_sum(tf.math.multiply(x,y))\n",
    "    num = tf.squeeze(tf.matmul(x, y, transpose_a=True, transpose_b=False))\n",
    "    den1 = tf.math.sqrt(tf.reduce_sum(tf.math.square(x)))\n",
    "    den2 = tf.math.sqrt(tf.reduce_sum(tf.math.square(y)))\n",
    "    return tf.math.divide_no_nan(num, tf.math.multiply(den1, den2))"
   ]
  },
  {
   "cell_type": "code",
   "execution_count": 5,
   "metadata": {},
   "outputs": [
    {
     "data": {
      "text/plain": [
       "<tf.Tensor: shape=(), dtype=float32, numpy=0.9045154>"
      ]
     },
     "execution_count": 5,
     "metadata": {},
     "output_type": "execute_result"
    }
   ],
   "source": [
    "compute_CosSim(x, y)"
   ]
  },
  {
   "cell_type": "markdown",
   "metadata": {},
   "source": [
    "# Ex 9 - Correlation Coefficient"
   ]
  },
  {
   "cell_type": "code",
   "execution_count": 8,
   "metadata": {},
   "outputs": [],
   "source": [
    "x = tf.transpose(tf.constant([[17,15,1,12,18,6,15]], dtype=tf.float32))\n",
    "y = tf.transpose(tf.constant([[18,16,16,10,11,10,27]], dtype=tf.float32))\n",
    "\n",
    "def compute_CorCoe(x,y):\n",
    "    num = tf.reduce_mean((x - tf.reduce_mean(x)) * (y-tf.reduce_mean(y)))\n",
    "    den = tf.math.reduce_std(x) *  tf.math.reduce_std(y)\n",
    "    return tf.math.divide_no_nan(num,den)"
   ]
  },
  {
   "cell_type": "code",
   "execution_count": 9,
   "metadata": {},
   "outputs": [
    {
     "data": {
      "text/plain": [
       "<tf.Tensor: shape=(), dtype=float32, numpy=0.21518448>"
      ]
     },
     "execution_count": 9,
     "metadata": {},
     "output_type": "execute_result"
    }
   ],
   "source": [
    "compute_CorCoe(x,y)"
   ]
  }
 ],
 "metadata": {
  "kernelspec": {
   "display_name": "Python 3.10.6 ('.venv': venv)",
   "language": "python",
   "name": "python3"
  },
  "language_info": {
   "codemirror_mode": {
    "name": "ipython",
    "version": 3
   },
   "file_extension": ".py",
   "mimetype": "text/x-python",
   "name": "python",
   "nbconvert_exporter": "python",
   "pygments_lexer": "ipython3",
   "version": "3.10.6"
  },
  "orig_nbformat": 4,
  "vscode": {
   "interpreter": {
    "hash": "9bc3bf6bb691733f333e01dcfce30c4108997f38332bc33fef4fedd2eeb40313"
   }
  }
 },
 "nbformat": 4,
 "nbformat_minor": 2
}
