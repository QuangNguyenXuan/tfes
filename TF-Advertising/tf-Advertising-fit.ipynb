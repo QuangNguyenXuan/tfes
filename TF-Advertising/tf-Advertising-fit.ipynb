{
 "cells": [
  {
   "cell_type": "markdown",
   "metadata": {},
   "source": [
    "# Import Relevant libraries"
   ]
  },
  {
   "cell_type": "code",
   "execution_count": 1,
   "metadata": {},
   "outputs": [
    {
     "name": "stdout",
     "output_type": "stream",
     "text": [
      "2.9.1\n",
      "(160, 3)\n"
     ]
    }
   ],
   "source": [
    "# dataset\n",
    "import numpy as np\n",
    "import tensorflow as tf\n",
    "from numpy import genfromtxt\n",
    "import matplotlib.pyplot as plt\n",
    "from tensorflow import keras\n",
    "from sklearn.model_selection import train_test_split\n",
    "print(tf.__version__)\n",
    "from keras.models import Sequential\n",
    "from keras.layers import Dense\n",
    "\n",
    "np.random.seed(0) # please do not remove this line\n",
    "tf.random.set_seed(0)\n",
    "\n",
    "data = genfromtxt('advertising.csv', delimiter=',', skip_header=1)\n",
    "\n",
    "# shuffle\n",
    "idx = np.arange(data.shape[0])\n",
    "np.random.shuffle(idx)\n",
    "data = data[idx]\n",
    "\n",
    "N = data.shape[0]\n",
    "X = data[:,:-1]\n",
    "y = data[:,-1:]\n",
    "\n",
    "# normalize data\n",
    "maxi = np.max(X)\n",
    "mini = np.min(X)\n",
    "avg = np.mean(X)\n",
    "X = (X-avg) / (maxi-mini)\n",
    "\n",
    "X_train, X_test, y_train, y_test = train_test_split(X, y, test_size=0.2, random_state=42)\n",
    "print(X_train.shape)"
   ]
  },
  {
   "cell_type": "markdown",
   "metadata": {},
   "source": [
    "# Creating a Model"
   ]
  },
  {
   "cell_type": "code",
   "execution_count": 2,
   "metadata": {},
   "outputs": [
    {
     "name": "stdout",
     "output_type": "stream",
     "text": [
      "Model: \"sequential\"\n",
      "_________________________________________________________________\n",
      " Layer (type)                Output Shape              Param #   \n",
      "=================================================================\n",
      " dense (Dense)               (None, 1)                 4         \n",
      "                                                                 \n",
      "=================================================================\n",
      "Total params: 4\n",
      "Trainable params: 4\n",
      "Non-trainable params: 0\n",
      "_________________________________________________________________\n"
     ]
    }
   ],
   "source": [
    "# Define model\n",
    "#built the neural network architecture\n",
    "model = Sequential()\n",
    "model.add(keras.Input(shape=(3,)))\n",
    "model.add(Dense(1, activation='linear'))\n",
    "model.compile(loss='mse', optimizer='sgd', metrics=['mse', 'mae'])\n",
    "\n",
    "model.summary()"
   ]
  },
  {
   "cell_type": "markdown",
   "metadata": {},
   "source": [
    "# Training the Model"
   ]
  },
  {
   "cell_type": "code",
   "execution_count": 3,
   "metadata": {},
   "outputs": [
    {
     "name": "stdout",
     "output_type": "stream",
     "text": [
      "Epoch 1/100\n",
      "4/4 [==============================] - 0s 34ms/step - loss: 244.8083 - mse: 244.8083 - mae: 14.6546 - val_loss: 227.9758 - val_mse: 227.9758 - val_mae: 14.2066\n",
      "Epoch 2/100\n",
      "4/4 [==============================] - 0s 5ms/step - loss: 207.8164 - mse: 207.8164 - mae: 13.3768 - val_loss: 193.8958 - val_mse: 193.8958 - val_mae: 12.9866\n",
      "Epoch 3/100\n",
      "4/4 [==============================] - 0s 5ms/step - loss: 176.9576 - mse: 176.9576 - mae: 12.1936 - val_loss: 165.4018 - val_mse: 165.4018 - val_mae: 11.8736\n",
      "Epoch 4/100\n",
      "4/4 [==============================] - 0s 6ms/step - loss: 151.0364 - mse: 151.0364 - mae: 11.1638 - val_loss: 141.4886 - val_mse: 141.4886 - val_mae: 10.8546\n",
      "Epoch 5/100\n",
      "4/4 [==============================] - 0s 6ms/step - loss: 129.4088 - mse: 129.4088 - mae: 10.2156 - val_loss: 121.4363 - val_mse: 121.4363 - val_mae: 9.9225\n",
      "Epoch 6/100\n",
      "4/4 [==============================] - 0s 6ms/step - loss: 111.2769 - mse: 111.2769 - mae: 9.3534 - val_loss: 104.6392 - val_mse: 104.6392 - val_mae: 9.0913\n",
      "Epoch 7/100\n",
      "4/4 [==============================] - 0s 6ms/step - loss: 96.1100 - mse: 96.1100 - mae: 8.5886 - val_loss: 90.5216 - val_mse: 90.5216 - val_mae: 8.3851\n",
      "Epoch 8/100\n",
      "4/4 [==============================] - 0s 6ms/step - loss: 83.4003 - mse: 83.4003 - mae: 7.8802 - val_loss: 78.6952 - val_mse: 78.6952 - val_mae: 7.7476\n",
      "Epoch 9/100\n",
      "4/4 [==============================] - 0s 6ms/step - loss: 72.7754 - mse: 72.7754 - mae: 7.2719 - val_loss: 68.7776 - val_mse: 68.7776 - val_mae: 7.1652\n",
      "Epoch 10/100\n",
      "4/4 [==============================] - 0s 7ms/step - loss: 63.8471 - mse: 63.8471 - mae: 6.7552 - val_loss: 60.4307 - val_mse: 60.4307 - val_mae: 6.6584\n",
      "Epoch 11/100\n",
      "4/4 [==============================] - 0s 8ms/step - loss: 56.3681 - mse: 56.3681 - mae: 6.2810 - val_loss: 53.4136 - val_mse: 53.4136 - val_mae: 6.2247\n",
      "Epoch 12/100\n",
      "4/4 [==============================] - 0s 6ms/step - loss: 50.0945 - mse: 50.0945 - mae: 5.8576 - val_loss: 47.5068 - val_mse: 47.5068 - val_mae: 5.8304\n",
      "Epoch 13/100\n",
      "4/4 [==============================] - 0s 6ms/step - loss: 44.8424 - mse: 44.8424 - mae: 5.5094 - val_loss: 42.5410 - val_mse: 42.5410 - val_mae: 5.4968\n",
      "Epoch 14/100\n",
      "4/4 [==============================] - 0s 6ms/step - loss: 40.4280 - mse: 40.4280 - mae: 5.1971 - val_loss: 38.3332 - val_mse: 38.3332 - val_mae: 5.1946\n",
      "Epoch 15/100\n",
      "4/4 [==============================] - 0s 6ms/step - loss: 36.6918 - mse: 36.6918 - mae: 4.9325 - val_loss: 34.7974 - val_mse: 34.7974 - val_mae: 4.9346\n",
      "Epoch 16/100\n",
      "4/4 [==============================] - 0s 6ms/step - loss: 33.5534 - mse: 33.5534 - mae: 4.6976 - val_loss: 31.8137 - val_mse: 31.8137 - val_mae: 4.6964\n",
      "Epoch 17/100\n",
      "4/4 [==============================] - 0s 5ms/step - loss: 30.9039 - mse: 30.9039 - mae: 4.4955 - val_loss: 29.2780 - val_mse: 29.2780 - val_mae: 4.4770\n",
      "Epoch 18/100\n",
      "4/4 [==============================] - 0s 6ms/step - loss: 28.6691 - mse: 28.6691 - mae: 4.3215 - val_loss: 27.1282 - val_mse: 27.1282 - val_mae: 4.2756\n",
      "Epoch 19/100\n",
      "4/4 [==============================] - 0s 6ms/step - loss: 26.7831 - mse: 26.7831 - mae: 4.1813 - val_loss: 25.3005 - val_mse: 25.3005 - val_mae: 4.0904\n",
      "Epoch 20/100\n",
      "4/4 [==============================] - 0s 6ms/step - loss: 25.1777 - mse: 25.1777 - mae: 4.0619 - val_loss: 23.7504 - val_mse: 23.7504 - val_mae: 3.9211\n",
      "Epoch 21/100\n",
      "4/4 [==============================] - 0s 6ms/step - loss: 23.8134 - mse: 23.8134 - mae: 3.9570 - val_loss: 22.4215 - val_mse: 22.4215 - val_mae: 3.7768\n",
      "Epoch 22/100\n",
      "4/4 [==============================] - 0s 6ms/step - loss: 22.6567 - mse: 22.6567 - mae: 3.8705 - val_loss: 21.2830 - val_mse: 21.2830 - val_mae: 3.6555\n",
      "Epoch 23/100\n",
      "4/4 [==============================] - 0s 6ms/step - loss: 21.6655 - mse: 21.6655 - mae: 3.7945 - val_loss: 20.3057 - val_mse: 20.3057 - val_mae: 3.5522\n",
      "Epoch 24/100\n",
      "4/4 [==============================] - 0s 6ms/step - loss: 20.8298 - mse: 20.8298 - mae: 3.7281 - val_loss: 19.4622 - val_mse: 19.4622 - val_mae: 3.4564\n",
      "Epoch 25/100\n",
      "4/4 [==============================] - 0s 6ms/step - loss: 20.0648 - mse: 20.0648 - mae: 3.6612 - val_loss: 18.7377 - val_mse: 18.7377 - val_mae: 3.3683\n",
      "Epoch 26/100\n",
      "4/4 [==============================] - 0s 6ms/step - loss: 19.4430 - mse: 19.4430 - mae: 3.6053 - val_loss: 18.1083 - val_mse: 18.1083 - val_mae: 3.2867\n",
      "Epoch 27/100\n",
      "4/4 [==============================] - 0s 6ms/step - loss: 18.8885 - mse: 18.8885 - mae: 3.5505 - val_loss: 17.5598 - val_mse: 17.5598 - val_mae: 3.2129\n",
      "Epoch 28/100\n",
      "4/4 [==============================] - 0s 6ms/step - loss: 18.4063 - mse: 18.4063 - mae: 3.5099 - val_loss: 17.0782 - val_mse: 17.0782 - val_mae: 3.1497\n",
      "Epoch 29/100\n",
      "4/4 [==============================] - 0s 6ms/step - loss: 17.9864 - mse: 17.9864 - mae: 3.4676 - val_loss: 16.6511 - val_mse: 16.6511 - val_mae: 3.0952\n",
      "Epoch 30/100\n",
      "4/4 [==============================] - 0s 6ms/step - loss: 17.6032 - mse: 17.6032 - mae: 3.4292 - val_loss: 16.2743 - val_mse: 16.2743 - val_mae: 3.0449\n",
      "Epoch 31/100\n",
      "4/4 [==============================] - 0s 6ms/step - loss: 17.2714 - mse: 17.2714 - mae: 3.3924 - val_loss: 15.9408 - val_mse: 15.9408 - val_mae: 2.9993\n",
      "Epoch 32/100\n",
      "4/4 [==============================] - 0s 6ms/step - loss: 16.9845 - mse: 16.9845 - mae: 3.3586 - val_loss: 15.6425 - val_mse: 15.6425 - val_mae: 2.9616\n",
      "Epoch 33/100\n",
      "4/4 [==============================] - 0s 6ms/step - loss: 16.7091 - mse: 16.7091 - mae: 3.3280 - val_loss: 15.3733 - val_mse: 15.3733 - val_mae: 2.9275\n",
      "Epoch 34/100\n",
      "4/4 [==============================] - 0s 6ms/step - loss: 16.4664 - mse: 16.4664 - mae: 3.2995 - val_loss: 15.1289 - val_mse: 15.1289 - val_mae: 2.9001\n",
      "Epoch 35/100\n",
      "4/4 [==============================] - 0s 5ms/step - loss: 16.2517 - mse: 16.2517 - mae: 3.2704 - val_loss: 14.9068 - val_mse: 14.9068 - val_mae: 2.8744\n",
      "Epoch 36/100\n",
      "4/4 [==============================] - 0s 5ms/step - loss: 16.0409 - mse: 16.0409 - mae: 3.2465 - val_loss: 14.7013 - val_mse: 14.7013 - val_mae: 2.8497\n",
      "Epoch 37/100\n",
      "4/4 [==============================] - 0s 6ms/step - loss: 15.8402 - mse: 15.8402 - mae: 3.2223 - val_loss: 14.5101 - val_mse: 14.5101 - val_mae: 2.8260\n",
      "Epoch 38/100\n",
      "4/4 [==============================] - 0s 6ms/step - loss: 15.6697 - mse: 15.6697 - mae: 3.2041 - val_loss: 14.3322 - val_mse: 14.3322 - val_mae: 2.8034\n",
      "Epoch 39/100\n",
      "4/4 [==============================] - 0s 6ms/step - loss: 15.5039 - mse: 15.5039 - mae: 3.1841 - val_loss: 14.1652 - val_mse: 14.1652 - val_mae: 2.7818\n",
      "Epoch 40/100\n",
      "4/4 [==============================] - 0s 6ms/step - loss: 15.3444 - mse: 15.3444 - mae: 3.1654 - val_loss: 14.0083 - val_mse: 14.0083 - val_mae: 2.7610\n",
      "Epoch 41/100\n",
      "4/4 [==============================] - 0s 7ms/step - loss: 15.1846 - mse: 15.1846 - mae: 3.1461 - val_loss: 13.8605 - val_mse: 13.8605 - val_mae: 2.7411\n",
      "Epoch 42/100\n",
      "4/4 [==============================] - 0s 7ms/step - loss: 15.0548 - mse: 15.0548 - mae: 3.1307 - val_loss: 13.7220 - val_mse: 13.7220 - val_mae: 2.7224\n",
      "Epoch 43/100\n",
      "4/4 [==============================] - 0s 6ms/step - loss: 14.9072 - mse: 14.9072 - mae: 3.1100 - val_loss: 13.5892 - val_mse: 13.5892 - val_mae: 2.7043\n",
      "Epoch 44/100\n",
      "4/4 [==============================] - 0s 6ms/step - loss: 14.7690 - mse: 14.7690 - mae: 3.0938 - val_loss: 13.4613 - val_mse: 13.4613 - val_mae: 2.6866\n",
      "Epoch 45/100\n",
      "4/4 [==============================] - 0s 6ms/step - loss: 14.6577 - mse: 14.6577 - mae: 3.0816 - val_loss: 13.3368 - val_mse: 13.3368 - val_mae: 2.6702\n",
      "Epoch 46/100\n",
      "4/4 [==============================] - 0s 6ms/step - loss: 14.5198 - mse: 14.5198 - mae: 3.0655 - val_loss: 13.2190 - val_mse: 13.2190 - val_mae: 2.6559\n",
      "Epoch 47/100\n",
      "4/4 [==============================] - 0s 6ms/step - loss: 14.3929 - mse: 14.3929 - mae: 3.0511 - val_loss: 13.1045 - val_mse: 13.1045 - val_mae: 2.6421\n",
      "Epoch 48/100\n",
      "4/4 [==============================] - 0s 6ms/step - loss: 14.2969 - mse: 14.2969 - mae: 3.0395 - val_loss: 12.9952 - val_mse: 12.9952 - val_mae: 2.6313\n",
      "Epoch 49/100\n",
      "4/4 [==============================] - 0s 6ms/step - loss: 14.1623 - mse: 14.1623 - mae: 3.0243 - val_loss: 12.8871 - val_mse: 12.8871 - val_mae: 2.6206\n",
      "Epoch 50/100\n",
      "4/4 [==============================] - 0s 6ms/step - loss: 14.0472 - mse: 14.0472 - mae: 3.0107 - val_loss: 12.7827 - val_mse: 12.7827 - val_mae: 2.6101\n",
      "Epoch 51/100\n",
      "4/4 [==============================] - 0s 6ms/step - loss: 13.9410 - mse: 13.9410 - mae: 2.9985 - val_loss: 12.6808 - val_mse: 12.6808 - val_mae: 2.6011\n",
      "Epoch 52/100\n",
      "4/4 [==============================] - 0s 6ms/step - loss: 13.8302 - mse: 13.8302 - mae: 2.9844 - val_loss: 12.5816 - val_mse: 12.5816 - val_mae: 2.5930\n",
      "Epoch 53/100\n",
      "4/4 [==============================] - 0s 5ms/step - loss: 13.7254 - mse: 13.7254 - mae: 2.9715 - val_loss: 12.4842 - val_mse: 12.4842 - val_mae: 2.5849\n",
      "Epoch 54/100\n",
      "4/4 [==============================] - 0s 6ms/step - loss: 13.6266 - mse: 13.6266 - mae: 2.9594 - val_loss: 12.3885 - val_mse: 12.3885 - val_mae: 2.5769\n",
      "Epoch 55/100\n",
      "4/4 [==============================] - 0s 6ms/step - loss: 13.5344 - mse: 13.5344 - mae: 2.9488 - val_loss: 12.2956 - val_mse: 12.2956 - val_mae: 2.5702\n",
      "Epoch 56/100\n",
      "4/4 [==============================] - 0s 6ms/step - loss: 13.4271 - mse: 13.4271 - mae: 2.9344 - val_loss: 12.2049 - val_mse: 12.2049 - val_mae: 2.5636\n",
      "Epoch 57/100\n",
      "4/4 [==============================] - 0s 5ms/step - loss: 13.3270 - mse: 13.3270 - mae: 2.9218 - val_loss: 12.1156 - val_mse: 12.1156 - val_mae: 2.5570\n",
      "Epoch 58/100\n",
      "4/4 [==============================] - 0s 6ms/step - loss: 13.2229 - mse: 13.2229 - mae: 2.9097 - val_loss: 12.0275 - val_mse: 12.0275 - val_mae: 2.5504\n",
      "Epoch 59/100\n",
      "4/4 [==============================] - 0s 6ms/step - loss: 13.1298 - mse: 13.1298 - mae: 2.8990 - val_loss: 11.9408 - val_mse: 11.9408 - val_mae: 2.5439\n",
      "Epoch 60/100\n",
      "4/4 [==============================] - 0s 6ms/step - loss: 13.0338 - mse: 13.0338 - mae: 2.8879 - val_loss: 11.8558 - val_mse: 11.8558 - val_mae: 2.5374\n",
      "Epoch 61/100\n",
      "4/4 [==============================] - 0s 6ms/step - loss: 12.9456 - mse: 12.9456 - mae: 2.8766 - val_loss: 11.7718 - val_mse: 11.7718 - val_mae: 2.5309\n",
      "Epoch 62/100\n",
      "4/4 [==============================] - 0s 6ms/step - loss: 12.8566 - mse: 12.8566 - mae: 2.8645 - val_loss: 11.6891 - val_mse: 11.6891 - val_mae: 2.5244\n",
      "Epoch 63/100\n",
      "4/4 [==============================] - 0s 6ms/step - loss: 12.7605 - mse: 12.7605 - mae: 2.8544 - val_loss: 11.6081 - val_mse: 11.6081 - val_mae: 2.5179\n",
      "Epoch 64/100\n",
      "4/4 [==============================] - 0s 5ms/step - loss: 12.6706 - mse: 12.6706 - mae: 2.8438 - val_loss: 11.5282 - val_mse: 11.5282 - val_mae: 2.5115\n",
      "Epoch 65/100\n",
      "4/4 [==============================] - 0s 6ms/step - loss: 12.5803 - mse: 12.5803 - mae: 2.8322 - val_loss: 11.4493 - val_mse: 11.4493 - val_mae: 2.5051\n",
      "Epoch 66/100\n",
      "4/4 [==============================] - 0s 6ms/step - loss: 12.4985 - mse: 12.4985 - mae: 2.8217 - val_loss: 11.3715 - val_mse: 11.3715 - val_mae: 2.4987\n",
      "Epoch 67/100\n",
      "4/4 [==============================] - 0s 6ms/step - loss: 12.4178 - mse: 12.4178 - mae: 2.8130 - val_loss: 11.2951 - val_mse: 11.2951 - val_mae: 2.4923\n",
      "Epoch 68/100\n",
      "4/4 [==============================] - 0s 6ms/step - loss: 12.3238 - mse: 12.3238 - mae: 2.8003 - val_loss: 11.2192 - val_mse: 11.2192 - val_mae: 2.4860\n",
      "Epoch 69/100\n",
      "4/4 [==============================] - 0s 5ms/step - loss: 12.2392 - mse: 12.2392 - mae: 2.7892 - val_loss: 11.1447 - val_mse: 11.1447 - val_mae: 2.4797\n",
      "Epoch 70/100\n",
      "4/4 [==============================] - 0s 5ms/step - loss: 12.1608 - mse: 12.1608 - mae: 2.7800 - val_loss: 11.0714 - val_mse: 11.0714 - val_mae: 2.4733\n",
      "Epoch 71/100\n",
      "4/4 [==============================] - 0s 7ms/step - loss: 12.0760 - mse: 12.0760 - mae: 2.7687 - val_loss: 10.9986 - val_mse: 10.9986 - val_mae: 2.4671\n",
      "Epoch 72/100\n",
      "4/4 [==============================] - 0s 7ms/step - loss: 11.9936 - mse: 11.9936 - mae: 2.7583 - val_loss: 10.9271 - val_mse: 10.9271 - val_mae: 2.4609\n",
      "Epoch 73/100\n",
      "4/4 [==============================] - 0s 6ms/step - loss: 11.9239 - mse: 11.9239 - mae: 2.7496 - val_loss: 10.8562 - val_mse: 10.8562 - val_mae: 2.4547\n",
      "Epoch 74/100\n",
      "4/4 [==============================] - 0s 6ms/step - loss: 11.8373 - mse: 11.8373 - mae: 2.7376 - val_loss: 10.7863 - val_mse: 10.7863 - val_mae: 2.4485\n",
      "Epoch 75/100\n",
      "4/4 [==============================] - 0s 6ms/step - loss: 11.7575 - mse: 11.7575 - mae: 2.7284 - val_loss: 10.7174 - val_mse: 10.7174 - val_mae: 2.4424\n",
      "Epoch 76/100\n",
      "4/4 [==============================] - 0s 6ms/step - loss: 11.6797 - mse: 11.6797 - mae: 2.7179 - val_loss: 10.6493 - val_mse: 10.6493 - val_mae: 2.4363\n",
      "Epoch 77/100\n",
      "4/4 [==============================] - 0s 6ms/step - loss: 11.6081 - mse: 11.6081 - mae: 2.7089 - val_loss: 10.5822 - val_mse: 10.5822 - val_mae: 2.4302\n",
      "Epoch 78/100\n",
      "4/4 [==============================] - 0s 6ms/step - loss: 11.5424 - mse: 11.5424 - mae: 2.7000 - val_loss: 10.5159 - val_mse: 10.5159 - val_mae: 2.4242\n",
      "Epoch 79/100\n",
      "4/4 [==============================] - 0s 6ms/step - loss: 11.4542 - mse: 11.4542 - mae: 2.6891 - val_loss: 10.4504 - val_mse: 10.4504 - val_mae: 2.4182\n",
      "Epoch 80/100\n",
      "4/4 [==============================] - 0s 6ms/step - loss: 11.3948 - mse: 11.3948 - mae: 2.6812 - val_loss: 10.3854 - val_mse: 10.3854 - val_mae: 2.4123\n",
      "Epoch 81/100\n",
      "4/4 [==============================] - 0s 6ms/step - loss: 11.3072 - mse: 11.3072 - mae: 2.6715 - val_loss: 10.3217 - val_mse: 10.3217 - val_mae: 2.4063\n",
      "Epoch 82/100\n",
      "4/4 [==============================] - 0s 6ms/step - loss: 11.2492 - mse: 11.2492 - mae: 2.6651 - val_loss: 10.2591 - val_mse: 10.2591 - val_mae: 2.4003\n",
      "Epoch 83/100\n",
      "4/4 [==============================] - 0s 6ms/step - loss: 11.1699 - mse: 11.1699 - mae: 2.6535 - val_loss: 10.1967 - val_mse: 10.1967 - val_mae: 2.3945\n",
      "Epoch 84/100\n",
      "4/4 [==============================] - 0s 6ms/step - loss: 11.0958 - mse: 11.0958 - mae: 2.6446 - val_loss: 10.1352 - val_mse: 10.1352 - val_mae: 2.3886\n",
      "Epoch 85/100\n",
      "4/4 [==============================] - 0s 6ms/step - loss: 11.0451 - mse: 11.0451 - mae: 2.6386 - val_loss: 10.0746 - val_mse: 10.0746 - val_mae: 2.3828\n",
      "Epoch 86/100\n",
      "4/4 [==============================] - 0s 6ms/step - loss: 10.9707 - mse: 10.9707 - mae: 2.6297 - val_loss: 10.0146 - val_mse: 10.0146 - val_mae: 2.3770\n",
      "Epoch 87/100\n",
      "4/4 [==============================] - 0s 6ms/step - loss: 10.8926 - mse: 10.8926 - mae: 2.6193 - val_loss: 9.9555 - val_mse: 9.9555 - val_mae: 2.3712\n",
      "Epoch 88/100\n",
      "4/4 [==============================] - 0s 6ms/step - loss: 10.8264 - mse: 10.8264 - mae: 2.6105 - val_loss: 9.8971 - val_mse: 9.8971 - val_mae: 2.3655\n",
      "Epoch 89/100\n",
      "4/4 [==============================] - 0s 6ms/step - loss: 10.7620 - mse: 10.7620 - mae: 2.6028 - val_loss: 9.8395 - val_mse: 9.8395 - val_mae: 2.3598\n",
      "Epoch 90/100\n",
      "4/4 [==============================] - 0s 5ms/step - loss: 10.6975 - mse: 10.6975 - mae: 2.5936 - val_loss: 9.7825 - val_mse: 9.7825 - val_mae: 2.3541\n",
      "Epoch 91/100\n",
      "4/4 [==============================] - 0s 5ms/step - loss: 10.6302 - mse: 10.6302 - mae: 2.5853 - val_loss: 9.7262 - val_mse: 9.7262 - val_mae: 2.3485\n",
      "Epoch 92/100\n",
      "4/4 [==============================] - 0s 6ms/step - loss: 10.5674 - mse: 10.5674 - mae: 2.5768 - val_loss: 9.6707 - val_mse: 9.6707 - val_mae: 2.3428\n",
      "Epoch 93/100\n",
      "4/4 [==============================] - 0s 6ms/step - loss: 10.5037 - mse: 10.5037 - mae: 2.5678 - val_loss: 9.6157 - val_mse: 9.6157 - val_mae: 2.3373\n",
      "Epoch 94/100\n",
      "4/4 [==============================] - 0s 6ms/step - loss: 10.4441 - mse: 10.4441 - mae: 2.5604 - val_loss: 9.5613 - val_mse: 9.5613 - val_mae: 2.3318\n",
      "Epoch 95/100\n",
      "4/4 [==============================] - 0s 6ms/step - loss: 10.3884 - mse: 10.3884 - mae: 2.5539 - val_loss: 9.5078 - val_mse: 9.5078 - val_mae: 2.3262\n",
      "Epoch 96/100\n",
      "4/4 [==============================] - 0s 5ms/step - loss: 10.3297 - mse: 10.3297 - mae: 2.5434 - val_loss: 9.4546 - val_mse: 9.4546 - val_mae: 2.3208\n",
      "Epoch 97/100\n",
      "4/4 [==============================] - 0s 6ms/step - loss: 10.2627 - mse: 10.2627 - mae: 2.5361 - val_loss: 9.4023 - val_mse: 9.4023 - val_mae: 2.3153\n",
      "Epoch 98/100\n",
      "4/4 [==============================] - 0s 6ms/step - loss: 10.2047 - mse: 10.2047 - mae: 2.5281 - val_loss: 9.3506 - val_mse: 9.3506 - val_mae: 2.3099\n",
      "Epoch 99/100\n",
      "4/4 [==============================] - 0s 6ms/step - loss: 10.1486 - mse: 10.1486 - mae: 2.5193 - val_loss: 9.2994 - val_mse: 9.2994 - val_mae: 2.3046\n",
      "Epoch 100/100\n",
      "4/4 [==============================] - 0s 6ms/step - loss: 10.0894 - mse: 10.0894 - mae: 2.5112 - val_loss: 9.2489 - val_mse: 9.2489 - val_mae: 2.2992\n"
     ]
    }
   ],
   "source": [
    "#train the neural network on the train dataset\n",
    "history = model.fit(X_train, y_train, epochs=100, validation_split=0.2)"
   ]
  },
  {
   "cell_type": "code",
   "execution_count": 4,
   "metadata": {},
   "outputs": [
    {
     "data": {
      "text/plain": [
       "<matplotlib.legend.Legend at 0x2ca458dbaf0>"
      ]
     },
     "execution_count": 4,
     "metadata": {},
     "output_type": "execute_result"
    },
    {
     "data": {
      "image/png": "[encoded data removed]",
      "text/plain": [
       "<Figure size 640x480 with 1 Axes>"
      ]
     },
     "metadata": {},
     "output_type": "display_data"
    }
   ],
   "source": [
    "#plot the loss and validation loss of the dataset\n",
    "plt.plot(history.history['loss'], label='loss')\n",
    "plt.plot(history.history['val_loss'], label='val_loss')\n",
    "plt.legend()"
   ]
  },
  {
   "cell_type": "code",
   "execution_count": 5,
   "metadata": {},
   "outputs": [
    {
     "name": "stdout",
     "output_type": "stream",
     "text": [
      "1/1 [==============================] - 0s 63ms/step - loss: 7.8225 - mse: 7.8225 - mae: 2.2955\n"
     ]
    },
    {
     "data": {
      "text/plain": [
       "[7.822534084320068, 7.822534084320068, 2.295454978942871]"
      ]
     },
     "execution_count": 5,
     "metadata": {},
     "output_type": "execute_result"
    }
   ],
   "source": [
    "#evaluate the model\n",
    "model.evaluate(X_test, y_test, batch_size=128)"
   ]
  },
  {
   "cell_type": "code",
   "execution_count": 6,
   "metadata": {},
   "outputs": [],
   "source": [
    "# Best LOSS, MSE, MAE with 100 epochs: (loss: 7.2985 - mse: 7.2985 - mae: 2.1271)"
   ]
  },
  {
   "cell_type": "code",
   "execution_count": 7,
   "metadata": {},
   "outputs": [],
   "source": [
    "# Best LOSS, MSE, MAE with 200 epochs:(loss: 4.5121 - mse: 4.5121 - mae: 1.6450)"
   ]
  },
  {
   "cell_type": "code",
   "execution_count": 8,
   "metadata": {},
   "outputs": [
    {
     "name": "stdout",
     "output_type": "stream",
     "text": [
      "2/2 [==============================] - 0s 2ms/step\n"
     ]
    },
    {
     "data": {
      "text/plain": [
       "[<matplotlib.lines.Line2D at 0x2ca123f63b0>]"
      ]
     },
     "execution_count": 8,
     "metadata": {},
     "output_type": "execute_result"
    },
    {
     "data": {
      "image/png": "[encoded data removed]",
      "text/plain": [
       "<Figure size 640x480 with 1 Axes>"
      ]
     },
     "metadata": {},
     "output_type": "display_data"
    }
   ],
   "source": [
    "y_pred = model.predict(X_test).flatten()\n",
    "\n",
    "a = plt.axes(aspect='equal')\n",
    "plt.scatter(y_test, y_pred)\n",
    "plt.xlabel('True values')\n",
    "plt.ylabel('Predicted values')\n",
    "plt.title('A plot that shows the true and predicted values')\n",
    "plt.xlim([0, 60])\n",
    "plt.ylim([0, 60])\n",
    "plt.plot([0, 60], [0, 60])"
   ]
  }
 ],
 "metadata": {
  "kernelspec": {
   "display_name": "Python 3.10.6 ('.venv': venv)",
   "language": "python",
   "name": "python3"
  },
  "language_info": {
   "codemirror_mode": {
    "name": "ipython",
    "version": 3
   },
   "file_extension": ".py",
   "mimetype": "text/x-python",
   "name": "python",
   "nbconvert_exporter": "python",
   "pygments_lexer": "ipython3",
   "version": "3.10.6"
  },
  "orig_nbformat": 4,
  "vscode": {
   "interpreter": {
    "hash": "9bc3bf6bb691733f333e01dcfce30c4108997f38332bc33fef4fedd2eeb40313"
   }
  }
 },
 "nbformat": 4,
 "nbformat_minor": 2
}
